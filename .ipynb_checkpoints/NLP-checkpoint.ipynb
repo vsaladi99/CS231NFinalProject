{
 "cells": [
  {
   "cell_type": "code",
   "execution_count": 1,
   "metadata": {
    "collapsed": true
   },
   "outputs": [],
   "source": [
    "import pandas as pd\n",
    "import numpy as np\n",
    "import re"
   ]
  },
  {
   "cell_type": "code",
   "execution_count": 2,
   "metadata": {
    "collapsed": true
   },
   "outputs": [],
   "source": [
    "data = pd.read_csv(\"dataset.csv\")"
   ]
  },
  {
   "cell_type": "code",
   "execution_count": 3,
   "metadata": {
    "collapsed": false
   },
   "outputs": [
    {
     "data": {
      "text/html": [
       "<div>\n",
       "<table border=\"1\" class=\"dataframe\">\n",
       "  <thead>\n",
       "    <tr style=\"text-align: right;\">\n",
       "      <th></th>\n",
       "      <th>alias</th>\n",
       "      <th>username</th>\n",
       "      <th>numberFollowers</th>\n",
       "      <th>numberFollowing</th>\n",
       "      <th>numberPosts</th>\n",
       "      <th>urlProfile</th>\n",
       "      <th>urlImgProfile</th>\n",
       "      <th>descriptionProfile</th>\n",
       "      <th>website</th>\n",
       "      <th>filename</th>\n",
       "      <th>...</th>\n",
       "      <th>urlImage</th>\n",
       "      <th>numberLikes</th>\n",
       "      <th>numberComments</th>\n",
       "      <th>description</th>\n",
       "      <th>tags</th>\n",
       "      <th>mentions</th>\n",
       "      <th>localization</th>\n",
       "      <th>date</th>\n",
       "      <th>multipleImage</th>\n",
       "      <th>isVideo</th>\n",
       "    </tr>\n",
       "  </thead>\n",
       "  <tbody>\n",
       "    <tr>\n",
       "      <th>0</th>\n",
       "      <td>yarasantosoficial</td>\n",
       "      <td>Vida Real Sem Make Up</td>\n",
       "      <td>359000</td>\n",
       "      <td>127</td>\n",
       "      <td>2745</td>\n",
       "      <td>https://www.instagram.com/yarasantosoficial/</td>\n",
       "      <td>https://scontent.cdninstagram.com/t51.2885-19/...</td>\n",
       "      <td>💍Married 🎓Architect |011| 🏋🏼‍♀️Crossfitter @Do...</td>\n",
       "      <td>enjoei.com.br/ysantos</td>\n",
       "      <td>18094753_827986990700746_4918745179017445376_n...</td>\n",
       "      <td>...</td>\n",
       "      <td>https://scontent.cdninstagram.com/t51.2885-15/...</td>\n",
       "      <td>116000</td>\n",
       "      <td>54</td>\n",
       "      <td>Quem começou a semana COM A CONCIENCIA mais pe...</td>\n",
       "      <td>['#academia', '#musculacao', '#treino', '#faus...</td>\n",
       "      <td>['@chicksandbarbell', '@kakaulossio']</td>\n",
       "      <td>Reebok Sports Club São Paulo</td>\n",
       "      <td>2017-04-24T05:00:00.000Z</td>\n",
       "      <td>False</td>\n",
       "      <td>False</td>\n",
       "    </tr>\n",
       "    <tr>\n",
       "      <th>1</th>\n",
       "      <td>yarasantosoficial</td>\n",
       "      <td>Vida Real Sem Make Up</td>\n",
       "      <td>359000</td>\n",
       "      <td>127</td>\n",
       "      <td>2745</td>\n",
       "      <td>https://www.instagram.com/yarasantosoficial/</td>\n",
       "      <td>https://scontent.cdninstagram.com/t51.2885-19/...</td>\n",
       "      <td>💍Married 🎓Architect |011| 🏋🏼‍♀️Crossfitter @Do...</td>\n",
       "      <td>enjoei.com.br/ysantos</td>\n",
       "      <td>18096144_1889303301327976_1636725699073015808_...</td>\n",
       "      <td>...</td>\n",
       "      <td>https://scontent.cdninstagram.com/t51.2885-15/...</td>\n",
       "      <td>114000</td>\n",
       "      <td>22</td>\n",
       "      <td>Afinal de contas quem é a @BiancaMantelli?\\nMe...</td>\n",
       "      <td>['#cursinho', '#academia', '#musculacao', '#tr...</td>\n",
       "      <td>['@BiancaMantelli', '@biancamantelli']</td>\n",
       "      <td>NaN</td>\n",
       "      <td>2017-04-23T05:00:00.000Z</td>\n",
       "      <td>False</td>\n",
       "      <td>False</td>\n",
       "    </tr>\n",
       "    <tr>\n",
       "      <th>2</th>\n",
       "      <td>yarasantosoficial</td>\n",
       "      <td>Vida Real Sem Make Up</td>\n",
       "      <td>359000</td>\n",
       "      <td>127</td>\n",
       "      <td>2745</td>\n",
       "      <td>https://www.instagram.com/yarasantosoficial/</td>\n",
       "      <td>https://scontent.cdninstagram.com/t51.2885-19/...</td>\n",
       "      <td>💍Married 🎓Architect |011| 🏋🏼‍♀️Crossfitter @Do...</td>\n",
       "      <td>enjoei.com.br/ysantos</td>\n",
       "      <td>18095912_1359632760784016_7285237765015339008_...</td>\n",
       "      <td>...</td>\n",
       "      <td>https://scontent.cdninstagram.com/t51.2885-15/...</td>\n",
       "      <td>117000</td>\n",
       "      <td>18</td>\n",
       "      <td>Delicia de final de semana, já estou preparand...</td>\n",
       "      <td>['#piracicaba', '#desafio40diasnofoco', '#acad...</td>\n",
       "      <td>[]</td>\n",
       "      <td>NaN</td>\n",
       "      <td>2017-04-23T05:00:00.000Z</td>\n",
       "      <td>False</td>\n",
       "      <td>False</td>\n",
       "    </tr>\n",
       "    <tr>\n",
       "      <th>3</th>\n",
       "      <td>yarasantosoficial</td>\n",
       "      <td>Vida Real Sem Make Up</td>\n",
       "      <td>359000</td>\n",
       "      <td>127</td>\n",
       "      <td>2745</td>\n",
       "      <td>https://www.instagram.com/yarasantosoficial/</td>\n",
       "      <td>https://scontent.cdninstagram.com/t51.2885-19/...</td>\n",
       "      <td>💍Married 🎓Architect |011| 🏋🏼‍♀️Crossfitter @Do...</td>\n",
       "      <td>enjoei.com.br/ysantos</td>\n",
       "      <td>18013277_1319178868174444_2724993046633512960_...</td>\n",
       "      <td>...</td>\n",
       "      <td>https://scontent.cdninstagram.com/t51.2885-15/...</td>\n",
       "      <td>105000</td>\n",
       "      <td>0</td>\n",
       "      <td>O nosso santo super bateu!\\nHoje foi dia de vi...</td>\n",
       "      <td>['#desafio40diasnofoco', '#arnoldclassic2017',...</td>\n",
       "      <td>['@vitafornutrientes', '@migueltortelli', '@vi...</td>\n",
       "      <td>Arnold Classic South America</td>\n",
       "      <td>2017-04-22T05:00:00.000Z</td>\n",
       "      <td>False</td>\n",
       "      <td>False</td>\n",
       "    </tr>\n",
       "    <tr>\n",
       "      <th>4</th>\n",
       "      <td>yarasantosoficial</td>\n",
       "      <td>Vida Real Sem Make Up</td>\n",
       "      <td>359000</td>\n",
       "      <td>127</td>\n",
       "      <td>2745</td>\n",
       "      <td>https://www.instagram.com/yarasantosoficial/</td>\n",
       "      <td>https://scontent.cdninstagram.com/t51.2885-19/...</td>\n",
       "      <td>💍Married 🎓Architect |011| 🏋🏼‍♀️Crossfitter @Do...</td>\n",
       "      <td>enjoei.com.br/ysantos</td>\n",
       "      <td>18012095_415218078850933_658789962493198336_n.jpg</td>\n",
       "      <td>...</td>\n",
       "      <td>https://scontent.cdninstagram.com/t51.2885-15/...</td>\n",
       "      <td>117000</td>\n",
       "      <td>12</td>\n",
       "      <td>Aqui você conhece sabores, pessoas, aqui nasce...</td>\n",
       "      <td>['#desafio40diasnofoco', '#academia', '#muscul...</td>\n",
       "      <td>['@arnoldclassicsouthamerica', '@teaconnection...</td>\n",
       "      <td>Inside Tea Connection Brasil</td>\n",
       "      <td>2017-04-22T05:00:00.000Z</td>\n",
       "      <td>False</td>\n",
       "      <td>False</td>\n",
       "    </tr>\n",
       "  </tbody>\n",
       "</table>\n",
       "<p>5 rows × 21 columns</p>\n",
       "</div>"
      ],
      "text/plain": [
       "               alias               username  numberFollowers  numberFollowing  \\\n",
       "0  yarasantosoficial  Vida Real Sem Make Up           359000              127   \n",
       "1  yarasantosoficial  Vida Real Sem Make Up           359000              127   \n",
       "2  yarasantosoficial  Vida Real Sem Make Up           359000              127   \n",
       "3  yarasantosoficial  Vida Real Sem Make Up           359000              127   \n",
       "4  yarasantosoficial  Vida Real Sem Make Up           359000              127   \n",
       "\n",
       "   numberPosts                                    urlProfile  \\\n",
       "0         2745  https://www.instagram.com/yarasantosoficial/   \n",
       "1         2745  https://www.instagram.com/yarasantosoficial/   \n",
       "2         2745  https://www.instagram.com/yarasantosoficial/   \n",
       "3         2745  https://www.instagram.com/yarasantosoficial/   \n",
       "4         2745  https://www.instagram.com/yarasantosoficial/   \n",
       "\n",
       "                                       urlImgProfile  \\\n",
       "0  https://scontent.cdninstagram.com/t51.2885-19/...   \n",
       "1  https://scontent.cdninstagram.com/t51.2885-19/...   \n",
       "2  https://scontent.cdninstagram.com/t51.2885-19/...   \n",
       "3  https://scontent.cdninstagram.com/t51.2885-19/...   \n",
       "4  https://scontent.cdninstagram.com/t51.2885-19/...   \n",
       "\n",
       "                                  descriptionProfile                website  \\\n",
       "0  💍Married 🎓Architect |011| 🏋🏼‍♀️Crossfitter @Do...  enjoei.com.br/ysantos   \n",
       "1  💍Married 🎓Architect |011| 🏋🏼‍♀️Crossfitter @Do...  enjoei.com.br/ysantos   \n",
       "2  💍Married 🎓Architect |011| 🏋🏼‍♀️Crossfitter @Do...  enjoei.com.br/ysantos   \n",
       "3  💍Married 🎓Architect |011| 🏋🏼‍♀️Crossfitter @Do...  enjoei.com.br/ysantos   \n",
       "4  💍Married 🎓Architect |011| 🏋🏼‍♀️Crossfitter @Do...  enjoei.com.br/ysantos   \n",
       "\n",
       "                                            filename   ...    \\\n",
       "0  18094753_827986990700746_4918745179017445376_n...   ...     \n",
       "1  18096144_1889303301327976_1636725699073015808_...   ...     \n",
       "2  18095912_1359632760784016_7285237765015339008_...   ...     \n",
       "3  18013277_1319178868174444_2724993046633512960_...   ...     \n",
       "4  18012095_415218078850933_658789962493198336_n.jpg   ...     \n",
       "\n",
       "                                            urlImage numberLikes  \\\n",
       "0  https://scontent.cdninstagram.com/t51.2885-15/...      116000   \n",
       "1  https://scontent.cdninstagram.com/t51.2885-15/...      114000   \n",
       "2  https://scontent.cdninstagram.com/t51.2885-15/...      117000   \n",
       "3  https://scontent.cdninstagram.com/t51.2885-15/...      105000   \n",
       "4  https://scontent.cdninstagram.com/t51.2885-15/...      117000   \n",
       "\n",
       "   numberComments                                        description  \\\n",
       "0              54  Quem começou a semana COM A CONCIENCIA mais pe...   \n",
       "1              22  Afinal de contas quem é a @BiancaMantelli?\\nMe...   \n",
       "2              18  Delicia de final de semana, já estou preparand...   \n",
       "3               0  O nosso santo super bateu!\\nHoje foi dia de vi...   \n",
       "4              12  Aqui você conhece sabores, pessoas, aqui nasce...   \n",
       "\n",
       "                                                tags  \\\n",
       "0  ['#academia', '#musculacao', '#treino', '#faus...   \n",
       "1  ['#cursinho', '#academia', '#musculacao', '#tr...   \n",
       "2  ['#piracicaba', '#desafio40diasnofoco', '#acad...   \n",
       "3  ['#desafio40diasnofoco', '#arnoldclassic2017',...   \n",
       "4  ['#desafio40diasnofoco', '#academia', '#muscul...   \n",
       "\n",
       "                                            mentions  \\\n",
       "0              ['@chicksandbarbell', '@kakaulossio']   \n",
       "1             ['@BiancaMantelli', '@biancamantelli']   \n",
       "2                                                 []   \n",
       "3  ['@vitafornutrientes', '@migueltortelli', '@vi...   \n",
       "4  ['@arnoldclassicsouthamerica', '@teaconnection...   \n",
       "\n",
       "                   localization                      date multipleImage  \\\n",
       "0  Reebok Sports Club São Paulo  2017-04-24T05:00:00.000Z         False   \n",
       "1                           NaN  2017-04-23T05:00:00.000Z         False   \n",
       "2                           NaN  2017-04-23T05:00:00.000Z         False   \n",
       "3  Arnold Classic South America  2017-04-22T05:00:00.000Z         False   \n",
       "4  Inside Tea Connection Brasil  2017-04-22T05:00:00.000Z         False   \n",
       "\n",
       "  isVideo  \n",
       "0   False  \n",
       "1   False  \n",
       "2   False  \n",
       "3   False  \n",
       "4   False  \n",
       "\n",
       "[5 rows x 21 columns]"
      ]
     },
     "execution_count": 3,
     "metadata": {},
     "output_type": "execute_result"
    }
   ],
   "source": [
    "data.head()"
   ]
  },
  {
   "cell_type": "code",
   "execution_count": 4,
   "metadata": {
    "collapsed": false
   },
   "outputs": [
    {
     "data": {
      "text/plain": [
       "'WILD AT HEART/Houghton Mifflin Harcourt-w/Terri Farley Sterling North Legacy /Science writing/Spur Awards.Available wherever books are sold.'"
      ]
     },
     "execution_count": 4,
     "metadata": {},
     "output_type": "execute_result"
    }
   ],
   "source": [
    "data['descriptionProfile'][3456]"
   ]
  },
  {
   "cell_type": "code",
   "execution_count": 5,
   "metadata": {
    "collapsed": false
   },
   "outputs": [
    {
     "data": {
      "text/plain": [
       "'B O M  D I A A A ...🙏🏻😁❤️🎉\\nRespeitar as outras pessoas faz com que elas te respeitem de volta. Ajudar os outros é uma das maiores causas de felicidade e sentimento de realização. Trate bem de você também, se exercite, cuide da sua saúde e da sua alimentação. Resumindo: se ame!\\nNem sempre terás o que desejas, mas enquanto estiveres ajudando aos outros encontrarás os recursos de que precisas.\\nAgora é com você!\\n.\\n#desafio40diasnofoco #academia #musculacao #treino #secavaca #reebokcrossfit  #myrbk #crossfitgirls  #dieta #fitness #saopaulo #crossfit #workout #desafiofitem2017 #smartfit #smartfit #projetoverao2017 #projetobabababy #crossfitbrasil #cfbroficial #vidadecrossfiteiro  #tanquinho #staystrong #beldadesdocrossfit #whole30brasil'"
      ]
     },
     "execution_count": 5,
     "metadata": {},
     "output_type": "execute_result"
    }
   ],
   "source": [
    "data['description'][9]"
   ]
  },
  {
   "cell_type": "code",
   "execution_count": 6,
   "metadata": {
    "collapsed": false
   },
   "outputs": [
    {
     "data": {
      "text/plain": [
       "['🖤', '🖤', '📗', '🏼', '📧', '🎥', '👇', '🏽', '👇', '🏽']"
      ]
     },
     "execution_count": 6,
     "metadata": {},
     "output_type": "execute_result"
    }
   ],
   "source": [
    "emoji_regexp = u'[\\U00002600-\\U000026FF]|[\\U00002700-\\U000027BF]|[\\U0001f300-\\U0001f5fF]|[\\U0001f600-\\U0001f64F]|' \\\n",
    "               u'[\\U0001f680-\\U0001f6FF]|[\\U00002A00-\\U00002AFF]|[\\U0001F1E0-\\U0001F1FF]'\n",
    "re.findall(emoji_regexp, data['descriptionProfile'][170], re.UNICODE)"
   ]
  },
  {
   "cell_type": "code",
   "execution_count": 7,
   "metadata": {
    "collapsed": false
   },
   "outputs": [
    {
     "name": "stdout",
     "output_type": "stream",
     "text": [
      "Mediocre dude from Belgium ☔️ Haters will say it's photoshop\n",
      "Mediocre dude from Belgium ️ Haters will say it's photoshop\n"
     ]
    }
   ],
   "source": [
    "text = data['descriptionProfile'][17806]\n",
    "print(text) # with emoji\n",
    "\n",
    "emoji_pattern = re.compile(\"[\"\n",
    "        u\"\\U0001F600-\\U0001F64F\"  # emoticons\n",
    "        u\"\\U0001F300-\\U0001F5FF\"  # symbols & pictographs\n",
    "        u\"\\U0001F680-\\U0001F6FF\"  # transport & map symbols\n",
    "        u\"\\U0001F1E0-\\U0001F1FF\"  # flags (iOS)\n",
    "        u\"\\U00002700-\\U000027BF\"\n",
    "        u\"\\U00002A00-\\U00002AFF\"\n",
    "        u\"\\U00002600-\\U000026FF\"\n",
    "                           \"]+\", flags=re.UNICODE)\n",
    "print(emoji_pattern.sub(r'', text)) # no emoji"
   ]
  },
  {
   "cell_type": "markdown",
   "metadata": {},
   "source": [
    "# Post Description"
   ]
  },
  {
   "cell_type": "code",
   "execution_count": 8,
   "metadata": {
    "collapsed": false,
    "scrolled": true
   },
   "outputs": [
    {
     "data": {
      "text/plain": [
       "'Fancy Things 📍: south florida based ✉️: kristin@fancythingsblog.com 👻: snap @ kristinbrophy 📸: my other half @mp_leahy 💗'"
      ]
     },
     "execution_count": 8,
     "metadata": {},
     "output_type": "execute_result"
    }
   ],
   "source": [
    "data['descriptionProfile'][6666]"
   ]
  },
  {
   "cell_type": "code",
   "execution_count": 9,
   "metadata": {
    "collapsed": true
   },
   "outputs": [],
   "source": [
    "letters_only = re.sub(\"[^a-zA-Z]\",           # The pattern to search for\n",
    "                      \" \",                   # The pattern to replace it with\n",
    "                      data['descriptionProfile'][6666]) "
   ]
  },
  {
   "cell_type": "code",
   "execution_count": 10,
   "metadata": {
    "collapsed": false
   },
   "outputs": [
    {
     "data": {
      "text/plain": [
       "'Fancy Things    south florida based     kristin fancythingsblog com    snap   kristinbrophy    my other half  mp leahy  '"
      ]
     },
     "execution_count": 10,
     "metadata": {},
     "output_type": "execute_result"
    }
   ],
   "source": [
    "letters_only"
   ]
  },
  {
   "cell_type": "code",
   "execution_count": 11,
   "metadata": {
    "collapsed": false
   },
   "outputs": [
    {
     "data": {
      "text/plain": [
       "['fancy',\n",
       " 'things',\n",
       " 'south',\n",
       " 'florida',\n",
       " 'based',\n",
       " 'kristin',\n",
       " 'fancythingsblog',\n",
       " 'com',\n",
       " 'snap',\n",
       " 'kristinbrophy',\n",
       " 'my',\n",
       " 'other',\n",
       " 'half',\n",
       " 'mp',\n",
       " 'leahy']"
      ]
     },
     "execution_count": 11,
     "metadata": {},
     "output_type": "execute_result"
    }
   ],
   "source": [
    "lower_case = letters_only.lower()        # Convert to lower case\n",
    "words = lower_case.split()               # Split into words\n",
    "words"
   ]
  },
  {
   "cell_type": "code",
   "execution_count": 12,
   "metadata": {
    "collapsed": false
   },
   "outputs": [
    {
     "data": {
      "text/plain": [
       "['fancy',\n",
       " 'things',\n",
       " 'south',\n",
       " 'florida',\n",
       " 'based',\n",
       " 'kristin',\n",
       " 'fancythingsblog',\n",
       " 'com',\n",
       " 'snap',\n",
       " 'kristinbrophy',\n",
       " 'half',\n",
       " 'mp',\n",
       " 'leahy']"
      ]
     },
     "execution_count": 12,
     "metadata": {},
     "output_type": "execute_result"
    }
   ],
   "source": [
    "from nltk.corpus import stopwords\n",
    "words = [w for w in words if not w in stopwords.words(\"english\")]\n",
    "words"
   ]
  },
  {
   "cell_type": "code",
   "execution_count": 13,
   "metadata": {
    "collapsed": false
   },
   "outputs": [
    {
     "data": {
      "text/plain": [
       "'fancy things south florida based kristin fancythingsblog com snap kristinbrophy half mp leahy'"
      ]
     },
     "execution_count": 13,
     "metadata": {},
     "output_type": "execute_result"
    }
   ],
   "source": [
    "\" \".join(words)"
   ]
  },
  {
   "cell_type": "code",
   "execution_count": 14,
   "metadata": {
    "collapsed": true
   },
   "outputs": [],
   "source": [
    "def cleanup(sentence):\n",
    "    #letters_only = re.sub(\"[^a-zA-Z]\", \" \", sentence.split(', ')[0])\n",
    "    #emojis = re.findall(emoji_regexp, sentence.split(', ')[0], re.UNICODE)\n",
    "    try:\n",
    "        letters_only = re.sub(\"[^a-zA-Z]\", \" \", sentence)\n",
    "        emojis = re.findall(emoji_regexp, sentence, re.UNICODE)\n",
    "    except:\n",
    "        letters_only = ''\n",
    "        emojis = []\n",
    "    words = letters_only.lower().split()        \n",
    "    words = [w for w in words if not w in stopwords.words(\"english\")]\n",
    "    words = [w for w in words if len(w) > 1]\n",
    "    return (\" \".join(words)), (\" \".join(emojis))"
   ]
  },
  {
   "cell_type": "code",
   "execution_count": 15,
   "metadata": {
    "collapsed": false
   },
   "outputs": [],
   "source": [
    "sentence, emojis = cleanup(data['description'][9])"
   ]
  },
  {
   "cell_type": "code",
   "execution_count": 16,
   "metadata": {
    "collapsed": false
   },
   "outputs": [
    {
     "data": {
      "text/plain": [
       "'respeitar outras pessoas faz com que elas te respeitem de volta ajudar os outros uma das maiores causas de felicidade sentimento de realiza trate bem de voc tamb se exercite cuide da sua sa de da sua alimenta resumindo se ame nem sempre ter que desejas mas enquanto estiveres ajudando aos outros encontrar os recursos de que precisas agora com voc desafio diasnofoco academia musculacao treino secavaca reebokcrossfit myrbk crossfitgirls dieta fitness saopaulo crossfit workout desafiofitem smartfit smartfit projetoverao projetobabababy crossfitbrasil cfbroficial vidadecrossfiteiro tanquinho staystrong beldadesdocrossfit whole brasil'"
      ]
     },
     "execution_count": 16,
     "metadata": {},
     "output_type": "execute_result"
    }
   ],
   "source": [
    "sentence"
   ]
  },
  {
   "cell_type": "code",
   "execution_count": 17,
   "metadata": {
    "collapsed": false
   },
   "outputs": [
    {
     "data": {
      "text/plain": [
       "'🙏 🏻 😁 ❤ 🎉'"
      ]
     },
     "execution_count": 17,
     "metadata": {},
     "output_type": "execute_result"
    }
   ],
   "source": [
    "emojis"
   ]
  },
  {
   "cell_type": "code",
   "execution_count": 18,
   "metadata": {
    "collapsed": false
   },
   "outputs": [
    {
     "data": {
      "text/plain": [
       "20740"
      ]
     },
     "execution_count": 18,
     "metadata": {},
     "output_type": "execute_result"
    }
   ],
   "source": [
    "data['description'].size"
   ]
  },
  {
   "cell_type": "code",
   "execution_count": 19,
   "metadata": {
    "collapsed": false
   },
   "outputs": [
    {
     "name": "stdout",
     "output_type": "stream",
     "text": [
      "5% done\n",
      "10% done\n",
      "14% done\n",
      "19% done\n",
      "24% done\n",
      "29% done\n",
      "34% done\n",
      "39% done\n",
      "43% done\n",
      "48% done\n",
      "53% done\n",
      "58% done\n",
      "63% done\n",
      "67% done\n",
      "72% done\n",
      "77% done\n",
      "82% done\n",
      "87% done\n",
      "92% done\n",
      "96% done\n"
     ]
    }
   ],
   "source": [
    "clean = []\n",
    "clean_emojis = []\n",
    "for i in range( 0, data['description'].size ):\n",
    "    if( (i+1)%1000 == 0 ):\n",
    "        print(str(round(i/20740*100))+\"% done\")\n",
    "    x,y = cleanup(data['description'][i])\n",
    "    clean.append(x)\n",
    "    clean_emojis.append(y)"
   ]
  },
  {
   "cell_type": "code",
   "execution_count": 20,
   "metadata": {
    "collapsed": false
   },
   "outputs": [
    {
     "data": {
      "text/plain": [
       "20740"
      ]
     },
     "execution_count": 20,
     "metadata": {},
     "output_type": "execute_result"
    }
   ],
   "source": [
    "len(clean_emojis)"
   ]
  },
  {
   "cell_type": "code",
   "execution_count": 169,
   "metadata": {
    "collapsed": false
   },
   "outputs": [],
   "source": [
    "from sklearn.feature_extraction.text import CountVectorizer, TfidfTransformer\n",
    " \n",
    "clean_vectorizer = CountVectorizer(analyzer = \"word\", tokenizer = None, preprocessor = None, stop_words = None, max_features = 250) \n",
    "\n",
    "# fit_transform() does two functions: First, it fits the model\n",
    "# and learns the vocabulary; second, it transforms our training data\n",
    "# into feature vectors. The input to fit_transform should be a list of \n",
    "# strings.\n",
    "clean_features = clean_vectorizer.fit_transform(clean)\n",
    "\n",
    "#tfidf_transformer = TfidfTransformer()\n",
    "#clean_features = tfidf_transformer.fit_transform(clean_features)\n",
    "\n",
    "# Numpy arrays are easy to work with, so convert the result to an \n",
    "# array\n",
    "clean_features = clean_features.toarray()"
   ]
  },
  {
   "cell_type": "code",
   "execution_count": 170,
   "metadata": {
    "collapsed": false
   },
   "outputs": [
    {
     "data": {
      "text/plain": [
       "(20740, 250)"
      ]
     },
     "execution_count": 170,
     "metadata": {},
     "output_type": "execute_result"
    }
   ],
   "source": [
    "clean_features.shape"
   ]
  },
  {
   "cell_type": "code",
   "execution_count": 171,
   "metadata": {
    "collapsed": false
   },
   "outputs": [
    {
     "name": "stdout",
     "output_type": "stream",
     "text": [
      "['ad', 'agameoftones', 'al', 'also', 'always', 'amazing', 'another', 'april', 'architecture', 'around', 'art', 'artofvisuals', 'available', 'away', 'awesome', 'back', 'beach', 'beautiful', 'beautifuldestinations', 'beauty', 'best', 'better', 'big', 'bio', 'bit', 'black', 'blog', 'blue', 'che', 'check', 'city', 'click', 'coachella', 'code', 'color', 'com', 'come', 'coming', 'como', 'con', 'could', 'da', 'dan', 'day', 'days', 'de', 'del', 'details', 'di', 'earth', 'earthpix', 'easter', 'el', 'en', 'end', 'es', 'est', 'et', 'europe', 'even', 'ever', 'every', 'everyone', 'everything', 'excited', 'family', 'fashion', 'favorite', 'feel', 'find', 'first', 'follow', 'followers', 'food', 'foto', 'found', 'france', 'free', 'friend', 'friends', 'full', 'fun', 'get', 'getting', 'go', 'going', 'good', 'got', 'great', 'grow', 'guides', 'guys', 'hair', 'happy', 'hard', 'heart', 'hello', 'help', 'home', 'hope', 'http', 'ig', 'il', 'instagram', 'italia', 'italy', 'keep', 'know', 'la', 'las', 'last', 'le', 'les', 'let', 'life', 'light', 'like', 'liketk', 'liketkit', 'liketoknow', 'link', 'little', 'live', 'living', 'lo', 'london', 'long', 'look', 'looking', 'los', 'love', 'loves', 'made', 'make', 'makeup', 'man', 'many', 'may', 'mi', 'millionaire', 'moment', 'money', 'morning', 'much', 'natgeo', 'natgeocreative', 'national', 'nature', 'need', 'never', 'new', 'next', 'night', 'old', 'one', 'ootd', 'os', 'outfit', 'para', 'paris', 'part', 'passionpassport', 'people', 'per', 'perfect', 'photo', 'photography', 'photooftheday', 'photos', 'picture', 'place', 'places', 'please', 'por', 'post', 'pretty', 'profile', 'que', 'really', 'right', 'say', 'se', 'sea', 'see', 'share', 'shot', 'show', 'si', 'something', 'soon', 'spring', 'start', 'stay', 'still', 'stories', 'story', 'style', 'su', 'summer', 'sun', 'sunday', 'sunset', 'super', 'sure', 'tag', 'take', 'te', 'th', 'thank', 'thanks', 'thing', 'things', 'think', 'time', 'today', 'together', 'tomorrow', 'top', 'travel', 'trip', 'two', 'un', 'una', 'und', 'us', 'use', 'vacations', 'via', 'video', 'view', 'visit', 'wait', 'want', 'watch', 'water', 'way', 'week', 'weekend', 'well', 'wolf', 'wolfmillionaire', 'wonderful', 'work', 'world', 'would', 'www', 'ya', 'yang', 'year', 'years']\n"
     ]
    }
   ],
   "source": [
    "vocab = clean_vectorizer.get_feature_names()\n",
    "print(vocab)"
   ]
  },
  {
   "cell_type": "code",
   "execution_count": 24,
   "metadata": {
    "collapsed": false
   },
   "outputs": [],
   "source": [
    "from collections import Counter\n",
    "from sklearn.feature_extraction import DictVectorizer\n",
    "clean_emojis_vectorizer = DictVectorizer()\n",
    "#description_emojis_vectorizer = CountVectorizer() \n",
    "\n",
    "# fit_transform() does two functions: First, it fits the model\n",
    "# and learns the vocabulary; second, it transforms our training data\n",
    "# into feature vectors. The input to fit_transform should be a list of \n",
    "# strings.\n",
    "#X = description_vectorizer.fit(emojis)\n",
    "#clean_description_emojis_features = description_vectorizer.transform(clean_description_emojis)\n",
    "X = clean_emojis_vectorizer.fit_transform(Counter(s.split()) for s in clean_emojis)\n",
    "\n",
    "# Numpy arrays are easy to work with, so convert the result to an \n",
    "# array\n",
    "clean_emojis_features = X.toarray()"
   ]
  },
  {
   "cell_type": "code",
   "execution_count": 25,
   "metadata": {
    "collapsed": false
   },
   "outputs": [
    {
     "data": {
      "text/plain": [
       "(20740, 808)"
      ]
     },
     "execution_count": 25,
     "metadata": {},
     "output_type": "execute_result"
    }
   ],
   "source": [
    "clean_emojis_features.shape"
   ]
  },
  {
   "cell_type": "code",
   "execution_count": 26,
   "metadata": {
    "collapsed": false
   },
   "outputs": [
    {
     "data": {
      "text/plain": [
       "27629"
      ]
     },
     "execution_count": 26,
     "metadata": {},
     "output_type": "execute_result"
    }
   ],
   "source": [
    "#create list of unique emojis\n",
    "emojis = set()\n",
    "for i in range (20740):\n",
    "    if clean_emojis[i]:\n",
    "        for emoji in clean_emojis[i].split():\n",
    "            emojis.add(emoji)\n",
    "emojis = list(emojis)\n",
    "test = np.zeros(shape=(20740,808))\n",
    "\n",
    "#create sentence to vector\n",
    "for i in range (20740):\n",
    "    if clean_emojis[i]:\n",
    "        for emoji in clean_emojis[i].split():\n",
    "            test[i][emojis.index(emoji)]+=1\n",
    "\n",
    "#verify results\n",
    "x = 0\n",
    "for i in range (20740):\n",
    "    for j in range(808):\n",
    "        if test[i][j] > 0:\n",
    "            x+=1\n",
    "x"
   ]
  },
  {
   "cell_type": "markdown",
   "metadata": {},
   "source": [
    "# User Description"
   ]
  },
  {
   "cell_type": "code",
   "execution_count": 27,
   "metadata": {
    "collapsed": false
   },
   "outputs": [
    {
     "name": "stdout",
     "output_type": "stream",
     "text": [
      "5% done\n",
      "10% done\n",
      "14% done\n",
      "19% done\n",
      "24% done\n",
      "29% done\n",
      "34% done\n",
      "39% done\n",
      "43% done\n",
      "48% done\n",
      "53% done\n",
      "58% done\n",
      "63% done\n",
      "67% done\n",
      "72% done\n",
      "77% done\n",
      "82% done\n",
      "87% done\n",
      "92% done\n",
      "96% done\n"
     ]
    }
   ],
   "source": [
    "clean_user = []\n",
    "clean_user_emojis = []\n",
    "for i in range( 0, data['descriptionProfile'].size ):\n",
    "    if( (i+1)%1000 == 0 ):\n",
    "        print(str(round(i/20740*100))+\"% done\")\n",
    "    x,y = cleanup(data['descriptionProfile'][i])\n",
    "    clean_user.append(x)\n",
    "    clean_user_emojis.append(y)"
   ]
  },
  {
   "cell_type": "code",
   "execution_count": 28,
   "metadata": {
    "collapsed": false
   },
   "outputs": [
    {
     "data": {
      "text/plain": [
       "(20740, 250)"
      ]
     },
     "execution_count": 28,
     "metadata": {},
     "output_type": "execute_result"
    }
   ],
   "source": [
    "clean_user_vectorizer = CountVectorizer(analyzer = \"word\", tokenizer = None, preprocessor = None, stop_words = None, max_features = 250) \n",
    "clean_user_features = clean_user_vectorizer.fit_transform(clean_user)\n",
    "clean_user_features = clean_user_features.toarray()\n",
    "clean_user_features.shape"
   ]
  },
  {
   "cell_type": "code",
   "execution_count": 29,
   "metadata": {
    "collapsed": false
   },
   "outputs": [
    {
     "name": "stdout",
     "output_type": "stream",
     "text": [
      "['account', 'actor', 'actress', 'adventure', 'adventures', 'advertising', 'always', 'ambassador', 'angeles', 'anthony', 'app', 'architecture', 'around', 'art', 'artist', 'au', 'australia', 'author', 'available', 'barcelona', 'based', 'beautiful', 'beauty', 'berlin', 'best', 'blog', 'blogger', 'book', 'booking', 'born', 'br', 'brand', 'business', 'ca', 'california', 'camera', 'canon', 'cat', 'channel', 'check', 'city', 'click', 'co', 'coach', 'coffee', 'collaborations', 'com', 'consultant', 'contact', 'contato', 'content', 'countries', 'creative', 'creator', 'currently', 'daily', 'day', 'de', 'design', 'designer', 'digital', 'direct', 'director', 'dm', 'dog', 'dream', 'eat', 'editor', 'email', 'en', 'enquiries', 'enthusiast', 'entrepreneur', 'explorer', 'facebook', 'family', 'fashion', 'fb', 'feature', 'featured', 'film', 'filmmaker', 'find', 'fitness', 'follow', 'food', 'founder', 'france', 'free', 'french', 'fun', 'geographic', 'germany', 'get', 'girl', 'gmail', 'good', 'hair', 'health', 'heart', 'hello', 'hi', 'home', 'host', 'hotmail', 'icloud', 'ig', 'images', 'influencer', 'info', 'inquiries', 'inspiration', 'instagram', 'interior', 'iphone', 'italy', 'kik', 'la', 'landscape', 'latest', 'learn', 'let', 'life', 'lifestyle', 'like', 'link', 'live', 'living', 'location', 'london', 'los', 'love', 'lover', 'made', 'madwhips', 'magazine', 'mail', 'make', 'maker', 'makeup', 'management', 'manager', 'marketing', 'may', 'media', 'member', 'mi', 'model', 'models', 'mom', 'moments', 'mother', 'music', 'nat', 'natgeo', 'national', 'nature', 'net', 'new', 'next', 'notifications', 'ny', 'nyc', 'official', 'one', 'online', 'outlook', 'owner', 'page', 'paris', 'passion', 'people', 'personal', 'photo', 'photographer', 'photography', 'photojournalist', 'photos', 'pictures', 'places', 'please', 'post', 'posting', 'pr', 'prints', 'pro', 'professional', 'recipes', 'rome', 'ru', 'say', 'sc', 'se', 'see', 'share', 'sharing', 'shop', 'since', 'snap', 'snapchat', 'social', 'sony', 'speaker', 'stories', 'story', 'storyteller', 'street', 'student', 'style', 'stylist', 'sydney', 'tag', 'teacher', 'team', 'things', 'time', 'top', 'travel', 'traveler', 'traveling', 'traveller', 'travels', 'turn', 'tv', 'twitter', 'two', 'uk', 'us', 'use', 'video', 'videos', 'visit', 'visual', 'watch', 'way', 'web', 'website', 'welcome', 'winning', 'work', 'workshops', 'world', 'worldwide', 'writer', 'www', 'yahoo', 'yoga', 'york', 'youtube', 'youtuber']\n"
     ]
    }
   ],
   "source": [
    "vocab = clean_user_vectorizer.get_feature_names()\n",
    "print(vocab)"
   ]
  },
  {
   "cell_type": "code",
   "execution_count": 30,
   "metadata": {
    "collapsed": false
   },
   "outputs": [
    {
     "data": {
      "text/plain": [
       "(20740, 505)"
      ]
     },
     "execution_count": 30,
     "metadata": {},
     "output_type": "execute_result"
    }
   ],
   "source": [
    "clean_user_emojis_vectorizer = DictVectorizer()\n",
    "X = clean_user_emojis_vectorizer.fit_transform(Counter(s.split()) for s in clean_user_emojis)\n",
    "clean_user_emojis_features = X.toarray()\n",
    "clean_user_emojis_features.shape"
   ]
  },
  {
   "cell_type": "markdown",
   "metadata": {},
   "source": [
    "# Hashtags"
   ]
  },
  {
   "cell_type": "code",
   "execution_count": 31,
   "metadata": {
    "collapsed": false,
    "scrolled": true
   },
   "outputs": [
    {
     "data": {
      "text/plain": [
       "\"['#academia', '#musculacao', '#treino', '#fausp', '#usp', '#arquitetura', '#crossfitgirls', '#dieta', '#fitness', '#saopaulo', '#nerd', '#workout', '#geek', '#smartfit', '#smartfit', '#projetoverao2017', '#projetobabababy', '#crossfitbrasil', '#musa', '#vidadecrossfiteiro', '#tanquinho', '#staystrong', '#beldadesdocrossfit', '#whole30brasil']\""
      ]
     },
     "execution_count": 31,
     "metadata": {},
     "output_type": "execute_result"
    }
   ],
   "source": [
    "#data['tags'][0][1:-1].split(', ')[23][2:-1]\n",
    "data['tags'][0]"
   ]
  },
  {
   "cell_type": "code",
   "execution_count": 32,
   "metadata": {
    "collapsed": false
   },
   "outputs": [],
   "source": [
    "sentence, emojis = cleanup(data['tags'][0])"
   ]
  },
  {
   "cell_type": "code",
   "execution_count": 33,
   "metadata": {
    "collapsed": false
   },
   "outputs": [
    {
     "data": {
      "text/plain": [
       "'academia musculacao treino fausp usp arquitetura crossfitgirls dieta fitness saopaulo nerd workout geek smartfit smartfit projetoverao projetobabababy crossfitbrasil musa vidadecrossfiteiro tanquinho staystrong beldadesdocrossfit whole brasil'"
      ]
     },
     "execution_count": 33,
     "metadata": {},
     "output_type": "execute_result"
    }
   ],
   "source": [
    "sentence"
   ]
  },
  {
   "cell_type": "code",
   "execution_count": 34,
   "metadata": {
    "collapsed": false
   },
   "outputs": [
    {
     "data": {
      "text/plain": [
       "''"
      ]
     },
     "execution_count": 34,
     "metadata": {},
     "output_type": "execute_result"
    }
   ],
   "source": [
    "emojis"
   ]
  },
  {
   "cell_type": "code",
   "execution_count": 35,
   "metadata": {
    "collapsed": false
   },
   "outputs": [
    {
     "name": "stdout",
     "output_type": "stream",
     "text": [
      "5% done\n",
      "10% done\n",
      "14% done\n",
      "19% done\n",
      "24% done\n",
      "29% done\n",
      "34% done\n",
      "39% done\n",
      "43% done\n",
      "48% done\n",
      "53% done\n",
      "58% done\n",
      "63% done\n",
      "67% done\n",
      "72% done\n",
      "77% done\n",
      "82% done\n",
      "87% done\n",
      "92% done\n",
      "96% done\n"
     ]
    }
   ],
   "source": [
    "clean_tag = []\n",
    "clean_tag_emojis = []\n",
    "for i in range( 0, data['tags'].size ):\n",
    "    if( (i+1)%1000 == 0 ):\n",
    "        print(str(round(i/20740*100))+\"% done\")\n",
    "    x,y = cleanup(data['tags'][i])\n",
    "    if len(y) > 0:\n",
    "        print('yes')\n",
    "    clean_tag.append(x)\n",
    "    clean_tag_emojis.append(y)"
   ]
  },
  {
   "cell_type": "code",
   "execution_count": 36,
   "metadata": {
    "collapsed": false
   },
   "outputs": [
    {
     "data": {
      "text/plain": [
       "['academia musculacao treino fausp usp arquitetura crossfitgirls dieta fitness saopaulo nerd workout geek smartfit smartfit projetoverao projetobabababy crossfitbrasil musa vidadecrossfiteiro tanquinho staystrong beldadesdocrossfit whole brasil',\n",
       " 'cursinho academia musculacao treino fausp usp arquitetura crossfitgirls dieta fitness saopaulo nerd workout geek smartfit smartfit projetoverao projetobabababy crossfitbrasil musa piracicaba piracicabacity staystrong beldadesdocrossfit whole brasil',\n",
       " 'piracicaba desafio diasnofoco academia musculacao treino secavaca reebokcrossfit myrbk crossfitgirls dieta fitness saopaulo crossfit workout desafiofitem smartfit smartfit projetoverao projetobabababy crossfitbrasil cfbroficial vidadecrossfiteiro tanquinho staystrong beldadesdocrossfit whole brasil',\n",
       " 'desafio diasnofoco arnoldclassic academia musculacao treino secavaca vitafornutrientes arnoldclassicbrasil crossfitgirls dieta fitness saopaulo crossfit workout desafiofitem smartfit smartfit projetoverao projetobabababy crossfitbrasil cfbroficial vidadecrossfiteiro tanquinho staystrong arnoldclassicsouthamerica whole brasil',\n",
       " 'desafio diasnofoco academia musculacao treino secavaca reebokcrossfit myrbk crossfitgirls dieta fitness saopaulo crossfit workout smartfit smartfit projetoverao projetobabababy crossfitbrasil cfbroficial vidadecrossfiteiro tanquinho staystrong acsa arnoldclassicbrasil beldadesdocrossfit arnoldclassic arnoldclassicsouthamerica',\n",
       " 'desafio diasnofoco academia musculacao treino secavaca reebokcrossfit myrbk crossfitgirls dieta fitness saopaulo crossfit workout desafiofitem smartfit smartfit projetoverao projetobabababy crossfitbrasil cfbroficial vidadecrossfiteiro tanquinho staystrong beldadesdocrossfit whole brasil eletriczoo eletriczoobrasil',\n",
       " 'almoco salada saopaulo dieta jaca foco motivacao fitness arnoldclassicsouthamerica sextou feriado party balada peixaria',\n",
       " 'desafio diasnofoco academia musculacao treino secavaca reebokcrossfit myrbk crossfitgirls dieta fitness saopaulo crossfit workout desafiofitem smartfit smartfit projetoverao projetobabababy crossfitbrasil cfbroficial vidadecrossfiteiro tanquinho staystrong beldadesdocrossfit whole brasil',\n",
       " 'desafio dianofoco maissecaem dias desafio diasnofoco academia musculacao treino secavaca reebokcrossfit myrbk crossfitgirls dieta fitness saopaulo crossfit workout desafiofitem smartfit smartfit projetoverao projetobabababy crossfitbrasil cfbroficial vidadecrossfiteiro tanquinho staystrong beldadesdocrossfit whole brasil',\n",
       " 'desafio diasnofoco academia musculacao treino secavaca reebokcrossfit myrbk crossfitgirls dieta fitness saopaulo crossfit workout desafiofitem smartfit smartfit projetoverao projetobabababy crossfitbrasil cfbroficial vidadecrossfiteiro tanquinho staystrong beldadesdocrossfit whole brasil',\n",
       " 'supperclub percyandfounders londonfoodbabes',\n",
       " 'cheesebar londonfoodbabes',\n",
       " 'cheesy londonfoodbabes',\n",
       " 'miragecocktails cocktails citysocial londonfoodbabes',\n",
       " 'cashbackcoffee coventgarden ad londonfoodbabes',\n",
       " 'muricanmondays repost newyorkfoodbabes',\n",
       " 'brunch newmenu londonfoodbabes',\n",
       " 'chelsea sundaybrunch londonfoodbabes',\n",
       " 'neapolitan stokey londonfoodbabes',\n",
       " 'mymealisthenuts southken londonfoodbabes',\n",
       " '',\n",
       " '',\n",
       " '',\n",
       " '',\n",
       " '',\n",
       " '',\n",
       " '',\n",
       " '',\n",
       " 'fbf',\n",
       " '',\n",
       " '',\n",
       " 'yooxlovesthereef yooxygen savethereef ad',\n",
       " '',\n",
       " '',\n",
       " 'haciendaharperwissen',\n",
       " '',\n",
       " '',\n",
       " 'la',\n",
       " 'lostinla',\n",
       " 'losangeles',\n",
       " '',\n",
       " 'empoweringkids',\n",
       " 'empowerkids mjm',\n",
       " 'mjm',\n",
       " 'empowerkids',\n",
       " 'empowerkids',\n",
       " 'mjm empowerkids',\n",
       " 'mjm empowerkids',\n",
       " 'empowerkids',\n",
       " 'easter spring canthelpmyself fruitsalad',\n",
       " '',\n",
       " '',\n",
       " '',\n",
       " '',\n",
       " '',\n",
       " '',\n",
       " '',\n",
       " '',\n",
       " 'paulhewitt getanchored',\n",
       " '',\n",
       " 'ocean cuba crocodile predator extreme followme moreocean',\n",
       " '',\n",
       " '',\n",
       " '',\n",
       " '',\n",
       " '',\n",
       " 'ocean bff jellyfish tasmania australia downunder followme moreocean',\n",
       " 'ocean jelkyfish besuty friends jack tasmania australia moreocean followme',\n",
       " 'ocean jellyfish bff philippines coraltriangle partners',\n",
       " 'ocean coralreef coralbleaching wrasse greatbarrierreef australia worldheritagesite moreocean followme',\n",
       " 'mmfilm analoguevibes filmisnotdead',\n",
       " 'mmfilm filmisnotdead analoguevibes',\n",
       " 'mmfilm analoguevibes filmisnotdead',\n",
       " 'mmfilm filmisnotdead analoguevibes',\n",
       " 'mmfilm filmisnotdead analoguevibes',\n",
       " 'mmfilm analoguevibes filmisnotdead',\n",
       " 'mmfilm analoguevibes filmisnotdead',\n",
       " 'mmfilm filmisnotdead analoguevibes',\n",
       " 'vscocam vsco pink komorebi',\n",
       " '',\n",
       " 'nakedsoul',\n",
       " 'nakedsoul',\n",
       " 'valentines loveofmylife',\n",
       " 'nakedsoul',\n",
       " 'nakedsoul',\n",
       " 'nakedsoul',\n",
       " 'nakedsoul',\n",
       " 'nakedsoul',\n",
       " 'nakedsoul',\n",
       " 'nakedsoul',\n",
       " '',\n",
       " '',\n",
       " '',\n",
       " '',\n",
       " '',\n",
       " '',\n",
       " '',\n",
       " '',\n",
       " '',\n",
       " '',\n",
       " 'sssayhelloto',\n",
       " 'sssayhelloto silhouette story instameets',\n",
       " 'whpnaturalbeauty',\n",
       " 'sssayhelloto',\n",
       " 'stutterheim',\n",
       " 'shotoniphone',\n",
       " 'whpgoodmorning shotoniphone',\n",
       " 'shotoniphone',\n",
       " 'imsssoinlovewithyellowjacket',\n",
       " 'shotoniphone ourcamplife',\n",
       " 'tot',\n",
       " 'motivationalmonday',\n",
       " 'earthday whpnaturalbeauty',\n",
       " 'donatelife bluegreenday',\n",
       " 'petsatwork',\n",
       " 'tot',\n",
       " 'mondaymotivation',\n",
       " 'bhdogshow',\n",
       " '',\n",
       " '',\n",
       " 'blog snapchat foodlove breakfast instagood zomato goodfood followme photooftheday instadaily like like picoftheday followme nomnom foodbaby foodpicsbruh sanaonfood desserts dubaifood commentforcomment dubaibloggers commentback mydubai comment comment eater beautifulhotels hotels visitdubai waldorfastoria hiltonhotels',\n",
       " 'blogpost snapchat foodlove breakfast instagood zomato goodfood followme photooftheday instadaily like like picoftheday followme nomnom foodbaby foodpicsbruh sanaonfood desserts dubaifood commentforcomment dubaibloggers commentback mydubai comment comment eater beautifulhotels hotels visitdubai waldorfastoria hiltonhotels',\n",
       " 'blogpost snapchat foodlove instagood goodfood followme photooftheday instadaily like like picoftheday followme nomnom foodbaby foodpicsbruh desserts dubaifood commentforcomment dubaibloggers commentback mydubai comment comment eater beautifulhotels hotels visitdubai waldorfastoria hiltonhotels',\n",
       " 'snapchat foodlove breakfast instagood zomato goodfood followme photooftheday instadaily like like picoftheday followme nomnom foodbaby foodpicsbruh sanaonfood desserts dubaifood commentforcomment dubaibloggers commentback mydubai comment comment eater beautifulhotels hotels visitdubai waldorfastoria hiltonhotels',\n",
       " 'michelinstarchef blog snapchat foodlove breakfast instagood zomato goodfood followme photooftheday instadaily like like picoftheday followme nomnom foodbaby foodpicsbruh sanaonfood desserts dubaifood commentforcomment dubaibloggers commentback mydubai comment comment eater beautifulhotels hotels visitdubai waldorfastoria hiltonhotels',\n",
       " 'breakingbad scaa specialitycoffee manualbrewonly baristadaily coldbrew chemex walters foodlove breakfast instagood zomato goodfood followme photooftheday instadaily like like picoftheday followme nomnom foodbaby foodpicsbruh sanaonfood desserts dubaifood commentforcomment dubaibloggers commentback mydubai comment comment eater',\n",
       " 'snapchat scaa specialitycoffee manualbrewonly baristadaily coldbrew chemex aeropress',\n",
       " 'dubai blog snapchat',\n",
       " 'snapchat blog visitdubai mydubai dubai',\n",
       " 'snapchat blog',\n",
       " '',\n",
       " 'hawbashnooriphotography jihanlab',\n",
       " 'hawbashnooriphotography jihanlab',\n",
       " 'hawbashnooriphotography jihanlab',\n",
       " 'hawbashnooriphotography jihanlab',\n",
       " 'hawbashnooriphotography jihanlab',\n",
       " 'hawbashnooriphotography jihanlab',\n",
       " 'hawbashnooriphotography jihanlab',\n",
       " 'hawbashnooriphotography jihanlab',\n",
       " 'hawbashnooriphotography jihanlab',\n",
       " 'collaboratrice',\n",
       " '',\n",
       " '',\n",
       " 'billyfamily',\n",
       " '',\n",
       " '',\n",
       " '',\n",
       " 'leprime soulag aouicha debo delphine lionel camille',\n",
       " 'leprime',\n",
       " '',\n",
       " '',\n",
       " '',\n",
       " '',\n",
       " '',\n",
       " '',\n",
       " '',\n",
       " '',\n",
       " '',\n",
       " '',\n",
       " '',\n",
       " '',\n",
       " 'larioja',\n",
       " 'danielwellington',\n",
       " 'larioja',\n",
       " 'cluse clusewatches',\n",
       " '',\n",
       " 'larioja',\n",
       " 'larioja',\n",
       " 'ordesa huesca pirineos',\n",
       " 'ordesa huesca pirineos',\n",
       " 'getgoing',\n",
       " 'infinito',\n",
       " 'home dinner two fitfood greenlover',\n",
       " 'quierete abs motivation sunday',\n",
       " 'quierete ledabyrutharcos',\n",
       " 'fitfood realfood',\n",
       " 'quierete love',\n",
       " 'amixnutrition servivita fitfood realfood lacocinafitdevikika',\n",
       " 'quierete bikinileda ledabyrutharcos',\n",
       " 'quierete lunes buenosdias',\n",
       " '',\n",
       " '',\n",
       " '',\n",
       " '',\n",
       " '',\n",
       " '',\n",
       " 'mothersday art',\n",
       " '',\n",
       " '',\n",
       " '',\n",
       " 'fantastic earth',\n",
       " '',\n",
       " 'fantastic earth',\n",
       " 'fantastic earth',\n",
       " 'fantastic earth',\n",
       " 'fantastic earth',\n",
       " 'fantastic earth',\n",
       " 'fantastic earth',\n",
       " 'fantastic earth',\n",
       " 'fantastic earth',\n",
       " '',\n",
       " '',\n",
       " '',\n",
       " '',\n",
       " '',\n",
       " '',\n",
       " '',\n",
       " '',\n",
       " '',\n",
       " '',\n",
       " 'dapperst expresslife expresspartner',\n",
       " 'dapperst ankarifloruss',\n",
       " 'dapperst',\n",
       " 'dapperst mycalvins',\n",
       " 'dapperinla dapperst',\n",
       " '',\n",
       " '',\n",
       " 'dapperst nordstrom ad liketkit',\n",
       " 'dapperst',\n",
       " 'raybanjajo raybanthegeneral dapperst',\n",
       " 'liketkit ltkitbag',\n",
       " 'liketkit ltkunder ltksalealert',\n",
       " 'rsthecon liketkit',\n",
       " 'rsthecon liketkit revolveme',\n",
       " 'rsthecon liketkit bendelgirl chloegirls',\n",
       " 'rsthecon liketkit plumprettysugar ourvibeispretty',\n",
       " 'rsthecon liketkit ltkunder',\n",
       " 'rsthecon liketkit',\n",
       " 'rsthecon liketkit startedwithascreenshot ltkunder',\n",
       " 'rsthecon liketkit startedwithascreenshot',\n",
       " '',\n",
       " '',\n",
       " '',\n",
       " 'mavicpro lake clouds sunset',\n",
       " 'exploring sunset mypassion',\n",
       " 'mavicpro',\n",
       " 'mavicpro',\n",
       " 'elbaisland exploring beach igersitalia',\n",
       " 'elbaisland',\n",
       " '',\n",
       " 'ubud',\n",
       " 'cocobella ad',\n",
       " '',\n",
       " 'elsaswholesomelife cookbook',\n",
       " '',\n",
       " '',\n",
       " '',\n",
       " '',\n",
       " '',\n",
       " 'cocobellamoment sp',\n",
       " 'brigadeirosoutfits selfportrait theone',\n",
       " 'brigsflatlay lestweforget',\n",
       " 'macaronmonday brigsmacs',\n",
       " 'brigsdoesadelaide whpnaturalbeauty brigstravels',\n",
       " 'fashionfriday brigadeirosoutfits',\n",
       " 'theone brigadeirosoutfits sp',\n",
       " 'brigstravels brigsdoesindonesia',\n",
       " 'macaronmonday brigsmacs',\n",
       " 'whpgoodmorning',\n",
       " '',\n",
       " '',\n",
       " '',\n",
       " '',\n",
       " '',\n",
       " '',\n",
       " '',\n",
       " '',\n",
       " 'idograffitiwalls',\n",
       " '',\n",
       " '',\n",
       " '',\n",
       " '',\n",
       " '',\n",
       " '',\n",
       " '',\n",
       " 'marioquintana',\n",
       " '',\n",
       " '',\n",
       " '',\n",
       " '',\n",
       " 'diogopi',\n",
       " '',\n",
       " '',\n",
       " '',\n",
       " 'originalproject dois',\n",
       " '',\n",
       " '',\n",
       " '',\n",
       " '',\n",
       " '',\n",
       " 'starwoodmotors',\n",
       " '',\n",
       " '',\n",
       " 'zitowheels',\n",
       " 'carlifestyle',\n",
       " 'rdbla',\n",
       " 'carlifestyle',\n",
       " 'carlifestyle',\n",
       " '',\n",
       " 'darwinpro mercedes amg carbon',\n",
       " 'igersroma meetrome buongiornoroma romeandyou romanity rome roma travelerinrome dailyrome ilikeitaly seemycity socality passionpassport wheninrome italian places comeandsee guardiantravelsnaps iamatraveler yallerslazio forbestravelguide travellingthroughtheworld travelerinitaly igersitalia italia communityfirst exploringitaly travelstoke justgoshoot travelgram theweekoninstagram',\n",
       " 'igersroma meetrome buongiornoroma romeandyou romanity rome roma travelerinrome dailyrome ilikeitaly seemycity socality passionpassport wheninrome italian places comeandsee guardiantravelsnaps iamatraveler yallerslazio forbestravelguide travellingthroughtheworld travelerinitaly igersitalia italia communityfirst exploringitaly travelstoke justgoshoot travelgram theweekoninstagram',\n",
       " 'igersroma meetrome buongiornoroma romeandyou romanity rome roma travelerinrome dailyrome ilikeitaly seemycity socality passionpassport wheninrome italian places comeandsee guardiantravelsnaps iamatraveler yallerslazio forbestravelguide travellingthroughtheworld travelerinitaly igersitalia italia communityfirst exploringitaly travelstoke justgoshoot travelgram theweekoninstagram',\n",
       " 'igersroma meetrome buongiornoroma romeandyou romanity rome roma travelerinrome dailyrome ilikeitaly seemycity socality passionpassport wheninrome italian places comeandsee guardiantravelsnaps iamatraveler yallerslazio forbestravelguide travellingthroughtheworld travelerinitaly igersitalia italia bookingloves exploringitaly travelstoke justgoshoot travelgram theweekoninstagram',\n",
       " 'igersroma meetrome buongiornoroma romeandyou romanity rome roma travelerinrome dailyrome ilikeitaly seemycity socality passionpassport wheninrome italian places comeandsee guardiantravelsnaps iamatraveler yallerslazio forbestravelguide travellingthroughtheworld travelerinitaly igersitalia italia whpgoodmorning exploringitaly travelstoke justgoshoot travelgram theweekoninstagram',\n",
       " 'igersroma meetrome buongiornoroma romeandyou romanity rome roma travelerinrome dailyrome ilikeitaly seemycity socality passionpassport wheninrome italian places comeandsee guardiantravelsnaps iamatraveler yallerslazio forbestravelguide travellingthroughtheworld travelerinitaly igersitalia italia communityfirst exploringitaly travelstoke travelgram theweekoninstagram',\n",
       " 'igersroma meetrome buongiornoroma romeandyou romanity rome roma travelerinrome dailyrome ilikeitaly seemycity socality passionpassport wheninrome italian places comeandsee guardiantravelsnaps iamatraveler yallerslazio forbestravelguide travellingthroughtheworld travelerinitaly igersitalia italia communityfirst exploringitaly travelstoke justgoshoot travelgram theweekoninstagram',\n",
       " 'roma rome romeandyou igersroma meetrome romanity noidiroma awesomepix cntraveler travelawesome discoverglobe discover vacations letsopenourworld travellingthroughtheworld tv living places wow folkmagazine topeuropephoto wonderful places framesofitaly seemycity mashpics instagoodmyphoto myhotlist awesomeearth thecitygrammers bdteam iamatraveler travelerinrome bookingloves',\n",
       " 'roma rome romeandyou igersroma whpgeometric meetrome romanity noidiroma awesomepix cntraveler travelawesome discoverglobe discover vacations letsopenourworld travellingthroughtheworld tv living places wow folkmagazine topeuropephoto wonderful places framesofitaly seemycity mashpics instagoodmyphoto myhotlist awesomeearth thecitygrammers bdteam iamatraveler travelerinrome',\n",
       " 'copenhagen denmark nyhavn awesomepix cntraveler travelawesome discoverglobe discover vacations travellingthroughtheworld tv living places wow folkmagazine topeuropephoto wonderful places seemycity mashpics instagoodmyphoto myhotlist awesomeearth thecitygrammers iamatraveler travelerincopenhagen travelblogger traveller travelling travelgram letsopenourworld bookingloves',\n",
       " '',\n",
       " 'giclee print erikjonesprint art paint colorcorrecting epson rules',\n",
       " 'art artinbushwick painting sculpture tiger cheetah relationships predator peaches panther hibrow',\n",
       " 'art inspiration playtime toiletpapermagazine airbrush cartoons girlymag hotboyz johncurrin crayolacrayons consciousness jeffdepner',\n",
       " '',\n",
       " 'go ninja go ninja go',\n",
       " 'wip art painting prismacolor coloredpencil acrylic waxpastel artist abstractart portrait',\n",
       " 'happy dog dogbag',\n",
       " 'golden sketching drawing art studio flowers',\n",
       " '',\n",
       " '',\n",
       " 'bbcountdown bbsimplethings',\n",
       " 'bbcountdown bbsimplethings',\n",
       " 'bbcountdown bbsimplethings',\n",
       " '',\n",
       " '',\n",
       " '',\n",
       " '',\n",
       " '',\n",
       " '',\n",
       " 'believeinyourself neverquit norestforthewycked mrwycked ifbbpro mensphysique aesthetics flexibledieting scottsdale phoenix onlinecoach teamwycked',\n",
       " 'pancakeharderthanme wyckedcakes flexibledieting pancakes iifym mealplans macros breakfast wyckedmeaz redvelvet mrwycked teamwycked procakes',\n",
       " 'tbt mrwycked mensphysique classicphysique ifbb ifbbpro motivation personaltrainer scottsdale onlinecoach legday aesthetics gains quads',\n",
       " 'stayblessed staywycked mrwycked weeksout wyckedconditioning ifbbpro comeback wyckeddelts mensphysique scottsdale thereturnofmrwycked delts',\n",
       " 'believeinyourself stayblessed mrwycked classicphysique mensphysique ifbbpro trainer weekendvibes aesthetics teamwycked onlinecoach armday',\n",
       " 'stayblessed fitcon utah saltlake muscleegg teamwycked mensphysique ifbbpro family goodtimes saved mypic pancakes motivation weekend',\n",
       " 'findyourpath faith stayblessed jesus ifbbpro mrwycked mensphysique payitforward mypic scottsdale noonecontrolsyourdestinationbutyou',\n",
       " 'isolation protip mensphysique ifbbpro mypic teamwycked wyckedaesthetics onlinecoach trainer aesthetics stayblessed mrwycked',\n",
       " 'muscleegg fitcon utah ifbbpro mrwycked mensphysique teamwycked iifym fitexpo goodmorning trainer lovewhatyoudo mypic',\n",
       " 'realtalk',\n",
       " 'suavepartner suavebeliever',\n",
       " 'av rhop smithstreet realhousewivesofpotomac',\n",
       " 'suavepartner suavebeliever',\n",
       " 'bagamoyo daressalaam tanzania projektinspire',\n",
       " 'sciencemarchdc',\n",
       " 'mathfestdc lookmanohands dc sciencemarch nationalmathfestival howardmath spelman spelmanalumni dcirepallday hiddenfigures handsfreecodinglol',\n",
       " '',\n",
       " 'nsa howardmath spelman spiralworkedforme',\n",
       " 'variance machinelearning',\n",
       " 'tshwane flysaa',\n",
       " 'linkinbio',\n",
       " '',\n",
       " '',\n",
       " '',\n",
       " '',\n",
       " '',\n",
       " '',\n",
       " '',\n",
       " '',\n",
       " '',\n",
       " 'bestdiscovery doyoutravel beautifuldestinations places wow travelawesome igworldclub wildernessculture thegreatoutdoors welivetoexplore tlpicks tasteintravel awesomeglobe communityfirst ig mood livetravelchannel warrenjc instagram wonderful places heatercentral paris passionpassport ig worldclub weliketotravel liveauthentic lifeofadventure aroundtheworldpix igglobalclub hbouthere igersfrance igersparis',\n",
       " 'bestdiscovery doyoutravel beautifuldestinations places wow travelawesome igworldclub wildernessculture thegreatoutdoors welivetoexplore tlpicks tasteintravel awesomeglobe communityfirst ig mood livetravelchannel warrenjc instagram wonderful places heatercentral paris passionpassport ig worldclub weliketotravel liveauthentic lifeofadventure aroundtheworldpix igglobalclub hbouthere igersfrance chateaudechambord',\n",
       " 'bestdiscovery doyoutravel beautifuldestinations places wow travelawesome igworldclub wildernessculture thegreatoutdoors welivetoexplore tlpicks tasteintravel awesomeglobe communityfirst ig mood livetravelchannel warrenjc instagram wonderful places heatercentral paris passionpassport ig worldclub weliketotravel liveauthentic lifeofadventure aroundtheworldpix igglobalclub hbouthere igersfrance igersparis',\n",
       " 'bestdiscovery doyoutravel beautifuldestinations places wow travelawesome igworldclub wildernessculture thegreatoutdoors welivetoexplore tlpicks tasteintravel awesomeglobe communityfirst ig mood livetravelchannel warrenjc instagram wonderful places heatercentral paris passionpassport ig worldclub weliketotravel liveauthentic lifeofadventure aroundtheworldpix igglobalclub hbouthere igersfrance chateaudechambord',\n",
       " 'bestdiscovery doyoutravel beautifuldestinations places wow travelawesome igworldclub wildernessculture thegreatoutdoors welivetoexplore tlpicks tasteintravel awesomeglobe communityfirst ig mood livetravelchannel warrenjc instagram wonderful places heatercentral paris passionpassport ig worldclub weliketotravel liveauthentic lifeofadventure aroundtheworldpix igglobalclub hbouthere igersfrance igersparis',\n",
       " 'bestdiscovery doyoutravel beautifuldestinations places wow travelawesome igworldclub wildernessculture thegreatoutdoors welivetoexplore tlpicks tasteintravel awesomeglobe communityfirst ig mood livetravelchannel warrenjc instagram wonderful places heatercentral paris passionpassport ig worldclub weliketotravel liveauthentic lifeofadventure aroundtheworldpix igglobalclub hbouthere igersfrance igersparis',\n",
       " 'bestdiscovery doyoutravel beautifuldestinations places wow travelawesome igworldclub wildernessculture thegreatoutdoors welivetoexplore tlpicks tasteintravel awesomeglobe communityfirst ig mood livetravelchannel warrenjc instagram wonderful places heatercentral paris passionpassport ig worldclub weliketotravel liveauthentic lifeofadventure aroundtheworldpix igglobalclub hbouthere igersfrance igersparis',\n",
       " 'bestdiscovery doyoutravel beautifuldestinations places wow travelawesome igworldclub wildernessculture thegreatoutdoors welivetoexplore tlpicks tasteintravel awesomeglobe communityfirst ig mood livetravelchannel warrenjc instagram wonderful places heatercentral paris passionpassport ig worldclub weliketotravel liveauthentic lifeofadventure aroundtheworldpix igglobalclub hbouthere igersfrance igersparis',\n",
       " 'bestdiscovery doyoutravel beautifuldestinations places wow travelawesome igworldclub wildernessculture thegreatoutdoors welivetoexplore tlpicks tasteintravel awesomeglobe communityfirst ig mood livetravelchannel warrenjc instagram wonderful places heatercentral paris passionpassport ig worldclub weliketotravel liveauthentic lifeofadventure aroundtheworldpix igglobalclub hbouthere igersfrance igersparis',\n",
       " 'bestdiscovery doyoutravel beautifuldestinations places wow travelawesome igworldclub wildernessculture thegreatoutdoors welivetoexplore tlpicks tasteintravel awesomeglobe communityfirst ig mood livetravelchannel warrenjc instagram wonderful places heatercentral paris passionpassport ig worldclub weliketotravel liveauthentic lifeofadventure aroundtheworldpix igglobalclub hbouthere igersfrance igersparis',\n",
       " '',\n",
       " 'food',\n",
       " 'drinkitinternalexa',\n",
       " '',\n",
       " '',\n",
       " '',\n",
       " 'poboyface',\n",
       " '',\n",
       " '',\n",
       " '',\n",
       " '',\n",
       " 'springstyle ootd',\n",
       " 'spring',\n",
       " 'liketkit',\n",
       " 'nybfw hayleypaige',\n",
       " 'liketkit',\n",
       " 'ad',\n",
       " '',\n",
       " 'mytruebeauty ad',\n",
       " 'nyc',\n",
       " '',\n",
       " '',\n",
       " '',\n",
       " '',\n",
       " 'bedtime goodnight instacat vsco vscocam cat love blackcat floydelgatoloco',\n",
       " '',\n",
       " '',\n",
       " '',\n",
       " '',\n",
       " '',\n",
       " 'aninspirednest heisrisen',\n",
       " 'aninspirednest shelfie mythriftedhome repurposeddecor',\n",
       " 'aninspirednest windowseat cozykitchen farmhousekitchen bloom kindnessmatters milkglass springflowers',\n",
       " 'aninspirednest kitchen cuttingboards organizedkitchen homedecor sharemysquare',\n",
       " 'aninspirednest coffeebar coffeesweetcoffee sharemysquare',\n",
       " 'aninspirednest organize organizedpantry farmhousepantry',\n",
       " 'aninspirednest farmhousebedroom graywhitedecor homedecor',\n",
       " 'aninspirednest fridayintroductions hello',\n",
       " 'inthekitchen organizedkitchen cuttingboard aninspirednest farmhousekitchen cuprack baskets',\n",
       " 'kindnessmatters thekindnessdiaries aninspirednest',\n",
       " 'practiceyogachangeyourworld onebreathatatime effectivehandstands practiceyogachangeyourworld onebreathatatime',\n",
       " 'practiceyogachangeyourworld onebreathatatime',\n",
       " 'omstarsculture globalyogi',\n",
       " 'practiceyogachangeyourworld onebreathatatime effectivehandstands',\n",
       " 'practiceyogachangeyourworld onebreathatatime',\n",
       " 'practiceyogachangeyourworld onebreathatatime effectivehandstands',\n",
       " 'australia bondibeach',\n",
       " 'effectivehandstands practiceyogachangeyourworld onebreathatatime',\n",
       " 'practiceyogachangeyourworld onebreathatatime effectivehandstands',\n",
       " 'practiceyogachangeyourworld onebreathatatime effectivehandstands',\n",
       " '',\n",
       " '',\n",
       " '',\n",
       " '',\n",
       " '',\n",
       " '',\n",
       " '',\n",
       " 'superslim evree',\n",
       " '',\n",
       " '',\n",
       " 'farmersmarket',\n",
       " 'agnesmartin',\n",
       " 'linkinbio',\n",
       " '',\n",
       " 'linkinbio',\n",
       " '',\n",
       " '',\n",
       " '',\n",
       " '',\n",
       " '',\n",
       " '',\n",
       " 'bestroadtripever',\n",
       " 'cats cougars wildlifeeducation wild',\n",
       " 'wintersalmostover natgeoexpeditions natgeocreative',\n",
       " 'stars night instamood yellowstonepledge',\n",
       " 'earth wild',\n",
       " 'elk racks wildlifeaddicts',\n",
       " 'wildlifeaddicts nature animalsofinstagram',\n",
       " 'waytogoeveryone',\n",
       " 'birdsofinstagram birds',\n",
       " '',\n",
       " 'bts itsalwayssunnyinphiladelphia ricketycricket matthewmara littlemattymara streetrat streeturchin colonelcricket thetalibum riffraff scoundral',\n",
       " '',\n",
       " 'tarzan',\n",
       " 'coachella poolparty hypebeast',\n",
       " 'coachella jesselaflair',\n",
       " 'laflairintheair tmpst roofcult',\n",
       " 'cuba laflairintheair',\n",
       " 'cuba havana la laflairintheair tmpst',\n",
       " 'sayulita mexico',\n",
       " '',\n",
       " 'hofmannbrokenhearts',\n",
       " 'hofmannbrokenhearts',\n",
       " 'mrboo movienight ghost fantasma caramelpopcorns',\n",
       " 'mrboo breakfast fantasma ghost foodgasm',\n",
       " 'discoveryourstory mrboo ghost museum',\n",
       " 'happyhalloween mrboo entrevista fantasma ghost interview',\n",
       " 'espiritudeportivo fantasma aquagym ghost',\n",
       " 'espiritudeportivo nolimits gym ghost running',\n",
       " 'ghost photobooth fantasma mrboo',\n",
       " 'verdemilitar ypslonatacado',\n",
       " 'vipapier stationeryaddict',\n",
       " 'liketkit',\n",
       " 'roseallday winegirl',\n",
       " 'bomberjacket ypslonatacado',\n",
       " 'liketkit baseballcap',\n",
       " 'liketkit bomberjacket ypslonatacado',\n",
       " 'croissants',\n",
       " 'gdokyjeans alljeans',\n",
       " 'cupcakeatm',\n",
       " '',\n",
       " '',\n",
       " '',\n",
       " '',\n",
       " '',\n",
       " '',\n",
       " '',\n",
       " '',\n",
       " '',\n",
       " '',\n",
       " '',\n",
       " '',\n",
       " 'thespringedit shopcolumbuscircle',\n",
       " 'mackagess',\n",
       " '',\n",
       " 'raybanthegeneral',\n",
       " 'absolutlime ad',\n",
       " 'raybanthegeneral',\n",
       " 'raybanthegeneral',\n",
       " '',\n",
       " 'sheikhahmedalmaktoum mydubai',\n",
       " '',\n",
       " 'dubaiworldcup',\n",
       " 'uae future bestleadership years',\n",
       " '',\n",
       " 'dubai almaktoum dubaipolice bestpoliceonplanetearth teamwork unity uae',\n",
       " 'hardwork entrepreneurlife keeprolling sheikhmende',\n",
       " '',\n",
       " 'humanitymatters manners connectwithlife',\n",
       " 'dubai',\n",
       " '',\n",
       " '',\n",
       " '',\n",
       " 'bliss',\n",
       " 'ontheblog',\n",
       " 'happyearthday',\n",
       " '',\n",
       " 'ontheblog',\n",
       " '',\n",
       " '',\n",
       " '',\n",
       " '',\n",
       " '',\n",
       " '',\n",
       " '',\n",
       " '',\n",
       " '',\n",
       " '',\n",
       " '',\n",
       " '',\n",
       " 'lovinghisbasket mydog chihuahua conrad',\n",
       " 'bordplaten borddekking tablesetting dekkettilfest',\n",
       " 'lyngbyporcelain lyngbyporcel lyngbyvaser bonbonniere',\n",
       " 'livingroom stylizimohouse',\n",
       " 'greenbeauty magicalforest peaceout',\n",
       " 'livingroom stylizimohouse',\n",
       " 'mydog chihuahua',\n",
       " 'easter eastertablesetting karse',\n",
       " 'livingroom stylizimohouse bookwall artwall gallerywall',\n",
       " 'lyngbyporcelain lyngbyporcel lyngbyvaser bonbonniere',\n",
       " 'mm himaticaf',\n",
       " 'mm himaticaf',\n",
       " 'mm himaticaf agfavista',\n",
       " 'mm',\n",
       " '',\n",
       " '',\n",
       " '',\n",
       " 'mm ektar himaticaf',\n",
       " 'mm ektar himaticaf',\n",
       " 'mm ektar himaticaf',\n",
       " 'optoutside tgrlivethedream',\n",
       " 'tgrlivethedream tightloose',\n",
       " 'aerialfilm gssc optoutside tgrlivethedream',\n",
       " 'tgrlivethedream tbt',\n",
       " 'tgrlivethedream',\n",
       " 'tgrlivethedream optoutside',\n",
       " 'tgrlivethedream',\n",
       " 'pirateflags tgrworldheadquarters',\n",
       " 'tgrlivethedream optoutside',\n",
       " 'tgrlivethedream',\n",
       " 'streetstyle nyc',\n",
       " 'brazil love flashback',\n",
       " 'brazil style',\n",
       " 'espiritosanto brazil beachbabe',\n",
       " 'lv style',\n",
       " 'california flashback',\n",
       " 'flashback nyc',\n",
       " 'vs imgmodels',\n",
       " 'sunset coachella',\n",
       " 'coachella',\n",
       " 'goals fitness bodybuilder bodygoals fitnessgoals fitnessmotivation gymmotivation fitgram glutes bikini ifbbpro travel eatclean pictureoftheday fitness transformationtuesday bodybuilding melanin goals',\n",
       " 'iwill findyourwhy beinspired fitgram bikini fitgirl girlwithmuscles pictureoftheday gymvibes fitinspiration bodygoals goals ifbbfigure gymmotivation bodybuilder fitness',\n",
       " 'sixdeuce leggings sixdeuce fitgram fitglam bodygoals bikini gymvibes workoutclothes tights',\n",
       " 'brasil brazil arnoldsouthamerica bikini sannation fitmodel travel',\n",
       " 'tbt fitgram bodygoals bodybuilder fitnessgoals fitness fitgram fitfam fitspo sexylegs fitmodel fitgirl pictureoftheday photoshoot bikini',\n",
       " 'ifitwaseasyeveryonewouldbedoingit ifbbfigure npcfigure bodygoals bodygoals bodybuilder fitness fitspo iwill crossfit pictureoftheday fitgram fitspo transformationtuesday fitgirls',\n",
       " 'workoutmotivation colorado fitspo fitnessgoals fitness basketballwarmup nodaysoff colorado news denver',\n",
       " 'backday gymvibes fitnessgoals transformationtuesday nodaysoff nevergiveup pictureoftheday fitspo bodybuilding bikini girlwithmuscles squats fitgram',\n",
       " 'motivationmonday mondaymotivation fitness fitgirl abs abgoals bikini ifbbfigure ifbbpro nodaysoff workharder legs bodybuilder pictureoftheday travel gymvideos gym',\n",
       " 'sixdeuce leggings foamroller goodhealth gymmotivation gymvibes legs bodybuilding goals',\n",
       " '',\n",
       " 'livebetterhere',\n",
       " 'coppermakesitbetter',\n",
       " 'livebetterhere',\n",
       " '',\n",
       " 'livebetterhere',\n",
       " 'livebetterhere',\n",
       " '',\n",
       " '',\n",
       " 'livebetterhere',\n",
       " '',\n",
       " '',\n",
       " '',\n",
       " '',\n",
       " '',\n",
       " 'pabloneruda',\n",
       " 'sosvenezuela venezuelalucha venezolanos jaquematemaduro vzla venezuela',\n",
       " 'venezuela sosvenezuela jaquematemaduro',\n",
       " 'amorpropio autoestima',\n",
       " 'amorpropio',\n",
       " 'gentleman musikafrere lavati',\n",
       " 'gentleman musikafrere',\n",
       " 'musikafrere',\n",
       " 'gentleman musikafrere',\n",
       " 'gentleman musikafrere',\n",
       " 'musikafrere gentleman',\n",
       " 'gentleman musikafrere',\n",
       " 'musikafrere gentlemen',\n",
       " 'gentleman musikafrere',\n",
       " 'gentleman musikafrere',\n",
       " 'lamborghini superleggera',\n",
       " 'matte lamborghini aventadorsv',\n",
       " 'porsche gt rs',\n",
       " 'porsche gt rs gmgracing',\n",
       " '',\n",
       " 'lamborghini aventadorsv',\n",
       " '',\n",
       " '',\n",
       " '',\n",
       " '',\n",
       " 'whatitalyis',\n",
       " 'alicedelcourt',\n",
       " 'whatitalyis',\n",
       " 'whatitalyis',\n",
       " 'whatitalyis',\n",
       " 'floatingmilan',\n",
       " 'whatitalyis',\n",
       " 'whatitalyis',\n",
       " 'whatitalyis',\n",
       " 'mdw mdw fuorisalone',\n",
       " '',\n",
       " '',\n",
       " '',\n",
       " '',\n",
       " '',\n",
       " '',\n",
       " '',\n",
       " '',\n",
       " '',\n",
       " '',\n",
       " '',\n",
       " '',\n",
       " '',\n",
       " '',\n",
       " '',\n",
       " '',\n",
       " '',\n",
       " '',\n",
       " '',\n",
       " '',\n",
       " '',\n",
       " 'roughedupruffian noahsknifecollection',\n",
       " 'noahsknifecollection',\n",
       " 'noahsknifecollection',\n",
       " 'noahsknifecollection',\n",
       " 'noahsknifecollection',\n",
       " '',\n",
       " 'noahsknifecollection',\n",
       " 'noahsknifecollection',\n",
       " 'noahsknifecollection',\n",
       " '',\n",
       " 'bloggerswillknow',\n",
       " 'studiotime',\n",
       " '',\n",
       " '',\n",
       " 'fontanaditrevi',\n",
       " '',\n",
       " 'thestruggleisreal',\n",
       " 'spon',\n",
       " 'ootd',\n",
       " '',\n",
       " 'peel buypeel ad',\n",
       " '',\n",
       " '',\n",
       " '',\n",
       " '',\n",
       " '',\n",
       " '',\n",
       " '',\n",
       " '',\n",
       " 'mramg rokenr beastofthegreenhell solarbeam',\n",
       " 'mramg rokenr',\n",
       " 'tooshietuesday mramg rokenr',\n",
       " 'mramg rokenr mbdesign',\n",
       " 'mramg rokenr',\n",
       " 'mramg rokenr thisisfuckingawesome holyshitballsbatman',\n",
       " 'mramg rokenr holyshitballsbatman thisisfuckingawesome',\n",
       " 'mramg rokenr monyay',\n",
       " 'mramg rokenr sedition',\n",
       " 'mramg rokenr velocitacars gtcedition',\n",
       " '',\n",
       " '',\n",
       " '',\n",
       " 'streetphotography',\n",
       " '',\n",
       " '',\n",
       " '',\n",
       " '',\n",
       " '',\n",
       " '',\n",
       " 'waitforthekicker',\n",
       " 'legendary',\n",
       " 'stillhere',\n",
       " 'tunnelvision',\n",
       " 'blessed',\n",
       " '',\n",
       " '',\n",
       " '',\n",
       " '',\n",
       " '',\n",
       " '',\n",
       " '',\n",
       " '',\n",
       " '',\n",
       " 'qualitygoods',\n",
       " '',\n",
       " '',\n",
       " '',\n",
       " '',\n",
       " '',\n",
       " 'thereisnoplanetb',\n",
       " 'yunnanprovince',\n",
       " 'china tigerleapinggorge onassignment',\n",
       " 'china yunnanprovince onassignment',\n",
       " 'yunnanprovince china',\n",
       " 'indonesia java iphone',\n",
       " 'indonesia java onassignment',\n",
       " 'onassignment leicam borobudur indonesia',\n",
       " 'backinasia',\n",
       " 'leicaxu',\n",
       " '',\n",
       " 'honor darkhedges lensflare ireland mediatrip travel fakesun picsartapp heavyedit travelblog potd ukbloggers darkhedges lotsoffilter fairytale got presstrip travelblogger ukblog',\n",
       " 'ireland causeway potd travelblog travel travelblogger travelbloggers presstrip heavyedit lensflare purplehue visitcauseway enjoyni discoverni',\n",
       " 'ireland pinkskies ireland superedit clouddrawing lensflare causeway travel travelblog potd lensflare visitcauseway enjoyni discoverni',\n",
       " 'london uk ukblog ukbloggers ootd travel travelblog fashion streetstyle',\n",
       " 'tbt dozivivise',\n",
       " 'dozivivise',\n",
       " 'helsinki friend finish firsttimetravel bookingcom bookingyeah bookingloves helsinki finland ukbloggers ukblog lifestyleblogger lifestyleblog travelbloggerlifestyle travelblog travel mediatrip presstrip',\n",
       " 'helsinki bookingcom bookingyeah bookingloves firsttimetravel travel presstrip mediatrip travelblog travelbloggerlifestyle lifestyleblog lifestyleblogger ukblog ukbloggers',\n",
       " 'helsinki bookingyeah bookingcom helsinki bookingloves firsttimetravel',\n",
       " 'wcw danessamyricksbeauty danessamyricks skin glow enlight naturalbeauty makeup bronze gold highlight contour melanin water waterproofmakeup newbeginnings photography photooftheday lookoftheday makeupart makeupartistry makeupeducation',\n",
       " 'show imatsldn imatseducators cozzette danessamyricksbeauty makeup makeupartist makeupbrushes makeupseminar imatslondon instagood onfleek london londonmakeupartist makeup makeupeducation',\n",
       " 'swatch swatchoftheday danessamyricksbeauty swatches glow highlight cosmetics golden gold',\n",
       " 'danessamyricksbeauty danessamyricks glow highlight cosmetics makeup makeupartist gold picoftheday photooftheday instadaily fotd beauty melanin enlight glowing glowingskin love lookoftheday instadaily instabeauty makeupartist photography',\n",
       " 'danessamyricksbeauty danessamyricks new makeup cosmetics color gold enlight photooftheday beauty swatch mettaliclook metallic metalliclips swatches swatchoftheday',\n",
       " 'danessamyricksbeauty skin skinisin naturalmakeup naturalbeauty naturalhair highlight makeupartist danessamyricks danessamyricksbeauty beauty melanin skin glow bronze golden enlight photooftheday potd makeupartist glowingskin skinisin cosmetics makeup cosmetics highlight highlightandcontour photooftheday photography instadaily golden chocolateskin darkskin makeupmonday',\n",
       " 'danessamyricksbeauty danessamyricks skin skinisin smokeyeye glowing glow enlight naturalbeauty makeup highlight contour melanin makeuparist smokeyeyes photographer photooftheday lookoftheday makeupartist instadaily bighair sundaymood sunday',\n",
       " '',\n",
       " 'danessamyricks enlight makeup cosmetics glow highlight blue purple makeupartist photooftheday lookoftheday new makeup highlighter contour glossyeyes smokyeye metallic wet instabeauty instadaily instagood glowing',\n",
       " 'fbf danessamyricksbeauty danessamyricks skin glow enlight graphic makeup skinisin skin highlight contour makeupart makeuparist makeup photooftheday potd cosmetics benefitbrows graphicliner makeupart flashback flashback photography photooftheday lookoftheday instagood instadaily instabeauty',\n",
       " 'uglyink ugly ink ugly ink copicmarker copic marker kuretake zig characterdesign creaturedesign artandgraphictwin brushpen conceptart kiwiartist newzealandartist monsterdesign insectoid bug backpacker insect alien scarymonster alienoverlord monster cooldude supporttheartistsyoulove bugeyes rickandmorty',\n",
       " 'uglyink ugly ink ugly ink copicmarker copic marker kuretake zig characterdesign creaturedesign artandgraphictwin brushpen conceptart kiwiartist newzealandartist monsterdesign mushroom fungi alien scarymonster alienoverlord monster cooldude supporttheartistsyoulove bugeyes rickandmorty',\n",
       " 'uglyink ugly ink ugly ink copicmarker copic marker kuretake zig characterdesign creaturedesign artandgraphictwin brushpen conceptart kiwiartist newzealandartist monsterdesign insect insectoid bug alien alienoverlord monster cooldude supporttheartistsyoulove bugeyes rickandmorty',\n",
       " 'uglyink ugly ink ugly ink copicmarker copic marker kuretake zig characterdesign creaturedesign artandgraphictwin brushpen conceptart kiwiartist newzealandartist monsterdesign insect insectoid bug smoke toke monster cooldude supporttheartistsyoulove bugeyes',\n",
       " 'uglyink ugly ink ugly ink copicmarker copic marker kuretake zig characterdesign creaturedesign artandgraphictwin brushpen conceptart kiwiartist newzealandartist monsterdesign blob monster supporttheartistsyoulove',\n",
       " 'ugly ink uglyink ugly ink postitnote postitnoteart copicmultiliner copic copicmarkers markers deadpool deathstick superhero antihero lowbrow lowbrowart kiwiartist newzealandart newzealand christchurch maskedhero ninja mercenary characterdesign conceptart skull skullhelmet',\n",
       " 'ugly ink ugly ink uglyink postitnoteart postitnote copicmarkers copic markers kuretake zig artandgraphictwin characterdesign creaturedesign monster alien creepy scarydude sciencefiction scifi professor teacher lowbrowart lowbrow kiwiartist newzealandart',\n",
       " 'ugly ink ugly ink postitnote copic copicmarkers markers artandgraphictwin kuretake zig lowbrow lowbrowart newzealandart kiwiartist characterdesign creaturedesign monster demon skull dungeonmaster warrrior armour armor costumedesign dungeonsanddragons evileyes fantasyart scaryskull scaryeyes redskull',\n",
       " 'disemboweled ugly ink ugly ink uglyink postitnote postitnoteart kuretake zig artandgraphictwin copicmarker copic marker zombie guts gore undead characterdesign creaturedesign weirdo intestines monster horror bloodandguts kiwiartist newzealandart lowbrowart lowbrow',\n",
       " 'ugly ink ugly ink uglyink postitnote postitnoteart copicmultiliner copic copicmarker markers alien characterdesign creaturedesign disguise monster conceptart kiwiartist newzealandart newzealand christchurch morethanmeetstheeye bigmouth',\n",
       " 'hyerestourisme tourismepaca meineprovence urlaubinfrankreich provencetourism porquerolles nicemoments nicetourisme ilovenice nice frenchriviera cotedazurnow cotedazur southoffrance ohcotedazur nicefrance igersnice france igersfrance myprovence visitcotedazur visitlafrance hello france jaimelafrance provence ilovefrance topfrancephoto igfrance iwcwatches galaxy sedge',\n",
       " 'hyerestourisme tourismepaca meineprovence urlaubinfrankreich provencetourism porquerolles nicemoments nicetourisme ilovenice nice frenchriviera cotedazurnow cotedazur southoffrance ohcotedazur nicefrance igersnice france igersfrance myprovence visitcotedazur visitlafrance hello france jaimelafrance provence ilovefrance topfrancephoto igfrance iwcwatches galaxy sedge',\n",
       " 'hyerestourisme tourismepaca meineprovence urlaubinfrankreich provencetourism porquerolles nicemoments nicetourisme ilovenice nice frenchriviera cotedazurnow cotedazur southoffrance ohcotedazur nicefrance igersnice france igersfrance myprovence visitcotedazur visitlafrance hello france jaimelafrance provence ilovefrance topfrancephoto igfrance iwcwatches galaxy sedge',\n",
       " 'hyerestourisme tourismepaca meineprovence urlaubinfrankreich provencetourism porquerolles nicemoments nicetourisme ilovenice nice frenchriviera cotedazurnow cotedazur southoffrance ohcotedazur nicefrance igersnice france igersfrance myprovence visitcotedazur visitlafrance hello france jaimelafrance provence ilovefrance topfrancephoto igfrance iwcwatches hotelprovencal',\n",
       " 'hyerestourisme tourismepaca meineprovence urlaubinfrankreich provencetourism porquerolles nicemoments nicetourisme ilovenice nice frenchriviera cotedazurnow cotedazur southoffrance ohcotedazur nicefrance igersnice france igersfrance myprovence visitcotedazur visitlafrance hello france jaimelafrance provence ilovefrance topfrancephoto igfrance iwcwatches hotelprovencal',\n",
       " 'globe travel ig europe youmustsee wu europe global stars ilovepiques bestdiscovery earthfocus roamtheplanet ig exquisite dynamic ig photostars awesomepix wonderful places awesomephotographers beautifulplaces wonderfulplaces theglobalwanderer ig serenity main vision rcmemories weloveaustria welovevienna vienna',\n",
       " 'hasenwoche globe travel ig europe youmustsee wu europe global stars ilovepiques bestdiscovery earthfocus roamtheplanet ig exquisite dynamic ig photostars awesomepix wonderful places awesomephotographers beautifulplaces wonderfulplaces theglobalwanderer ig serenity main vision rcmemories weloveaustria welovevienna vienna galaxys edge',\n",
       " 'hasenwoche globe travel ig europe youmustsee wu europe global stars ilovepiques bestdiscovery earthfocus roamtheplanet ig exquisite dynamic ig photostars awesomepix wonderful places awesomephotographers beautifulplaces wonderfulplaces theglobalwanderer ig serenity main vision rcmemories weloveaustria welovevienna vienna galaxys edge',\n",
       " 'sponsored globe travel ig europe youmustsee wu europe global stars ilovepiques bestdiscovery earthfocus roamtheplanet ig exquisite dynamic ig photostars awesomepix wonderful places awesomephotographers beautifulplaces wonderfulplaces theglobalwanderer ig serenity main vision checkvienna weloveaustria welovevienna vienna galaxys edge',\n",
       " 'sponsored globe travel ig europe youmustsee wu europe global stars ilovepiques bestdiscovery earthfocus roamtheplanet ig exquisite dynamic ig photostars awesomepix wonderful places awesomephotographers beautifulplaces wonderfulplaces theglobalwanderer ig serenity main vision checkvienna weloveaustria welovevienna vienna galaxys edge',\n",
       " '',\n",
       " '',\n",
       " '',\n",
       " '',\n",
       " '',\n",
       " '',\n",
       " '',\n",
       " '',\n",
       " '',\n",
       " '',\n",
       " 'architecture homedesign lifestyle style buildingdesign landscapedesign conceptdesign interiors decorating interiordesign',\n",
       " 'homedesign lifestyle style designporn interiors decorating interiordesign interiordecor architecture landscapedesign',\n",
       " 'anzacday beachlife atthegoingdownofthesun lovemykids',\n",
       " 'homedesign lifestyle style designporn interiors decorating interiordesign interiordecor architecture landscapedesign',\n",
       " 'anzacday',\n",
       " 'homedesign lifestyle style designporn interiors decorating interiordesign interiordecor architecture landscapedesign',\n",
       " 'architecture homedesign lifestyle style buildingdesign landscapedesign conceptdesign interiors decorating interiordesign',\n",
       " 'homedesign lifestyle style designporn interiors decorating interiordesign interiordecor architecture landscapedesign',\n",
       " 'architecture interiordesign',\n",
       " 'newyork homedesign lifestyle style designporn interiors decorating interiordesign interiordecor architecture landscapedesign',\n",
       " 'thelongshadowofchernobyl chernobylanniversary nuclear powerplant environment disaster',\n",
       " 'putingeneration russia moscow squat party youth celebration',\n",
       " 'russia moscow youth flags rally red politics otherrussia',\n",
       " 'tasmania australia landscape tranquility gumtree pasture fog sunrise',\n",
       " 'sleepingcarsbook sleepingcars losangeles mood car coveredcar',\n",
       " 'saltonsea california environment boat bombaybeach',\n",
       " 'celebrity books douglaskirklandphotography movies freezeframe',\n",
       " 'tasmania australia river fog environment derwent',\n",
       " 'russia moscow roofers skywalkers spire architecture city rooftops urban adventure',\n",
       " 'chernobyl ukraine longshadowofchernobyl fukushima nuclear disaster radiation anniversary',\n",
       " '',\n",
       " 'coachella',\n",
       " '',\n",
       " '',\n",
       " '',\n",
       " 'polaroid menslook menswear mensfashion fashionblogger youtuber fashion fashionblogger fashiongram menshair menslook menstyle mensstyle mensfashionpost mensoutfit guy styleblogger vsco vscogram vscodaily',\n",
       " 'menslook menswear mensfashion fashionblogger youtuber fashion fashionblogger fashiongram menshair menslook menstyle mensstyle mensfashionpost mensoutfit guy styleblogger vscocam vsco vscodaily',\n",
       " 'menslook menswear mensfashion fashionblogger youtuber fashion fashionblogger fashiongram menshair menslook menstyle mensstyle mensfashionpost mensoutfit guy styleblogger vscocam vsco topman zara',\n",
       " '',\n",
       " 'ootdmen menslook menswear mensfashion fashionblogger youtuber fashion fashionblogger fashiongram menshair menslook menstyle mensstyle mensfashionpost mensoutfit guy styleblogger vsco vscocam hm zara topman',\n",
       " 'fotografia pdf ponto podcast papodefotografo editoraphotos weddingbrasil weddingbrasil wb makemovie makemovie mm',\n",
       " 'weddingbrasil weddingbrasil wb editoraphotos makemovie makemovie mm papodefotografo podcast pdf ponto fotografia',\n",
       " 'papodefotografo pdf ponto podcast editoraphotos weddingbrasil weddingbrasil wb makemovie makemovie mm',\n",
       " 'weddingbrasil wb makemovie makemovie mm weddingbrasil editoraphotos podcast pdf ponto papodefotografo',\n",
       " 'pdf ponto fotografia podcast editoraphotos weddingbrasil weddingbrasil wb makemovie makemovie mm',\n",
       " 'editoraphotos wb weddingbrasil makemovie weddingbrasil mm makemovie makemovie podcast fotografia pdf ponto',\n",
       " 'pdf ponto podcast fotografia papodefotografo weddingbrasil weddingbrasil wb editoraphotos makemovie makemovie mm',\n",
       " 'papodefotografo pdf ponto pdfeuou podcast fotografia',\n",
       " 'papodefotografo pdf ponto pdfeuou podcast fotografia solidariedade',\n",
       " 'papodefotografo pdf ponto pdfeuou podcast fotografia poscast posproducao adobe',\n",
       " 'magnumphotos cccontheroad',\n",
       " 'magnumphotos cccontheroad goinghome',\n",
       " 'magnumphotos thsaopaulobienal thechain cccontheroad',\n",
       " 'magnumphotos thechain cccontheroad',\n",
       " 'magnumphotos cccontheroad',\n",
       " 'cccontheroad magnumphotos',\n",
       " 'magnumphotos cccontheroad',\n",
       " 'magnumphotos cccontheroad lunarnewyear',\n",
       " 'cccontheroad magnumphotos artbaselhongkong friezenewyork',\n",
       " 'liondance cccontheroad magnumphotos',\n",
       " 'lgbtqi iamanally whereloveisillegal',\n",
       " 'whereloveisillegal lgbt discrimination survival impossibleproject',\n",
       " 'lgbtqi iamanally whereloveisillegal',\n",
       " 'lgbtqi iamanally whereloveisillegal',\n",
       " 'gay jamaica lgbt whereloveisillegal lgbt discrimination survival impossibleproject',\n",
       " 'lgbtqi iamanally whereloveisillegal',\n",
       " 'lgbtqi iamanally whereloveisillegal',\n",
       " 'lgbtqi iamanally whereloveisillegal',\n",
       " 'transman jamaica whereloveisillegal iamanally tdov transisbeautiful lgbtqi iamanally whereloveisillegal',\n",
       " 'lgbtqi iamanally whereloveisillegal',\n",
       " 'fashionstyle stylediary rufflesfordays dressupitgirl wednesdaywisdom',\n",
       " 'tuesdayshoesday pictureperfect beachbabe styleblog',\n",
       " 'wednesdaywisdom fashionstyle dressupitgirl fashioninspo bossbabe',\n",
       " 'stylediary fashionstyle denim mondays bossbabe ootd',\n",
       " 'twelveyearsago anniversary loveyou danceparty',\n",
       " 'greenwichct mothersday giftideas stylediary',\n",
       " 'diy makeover lashlift colourpop',\n",
       " 'chictravel totallyworthit fashioninspo blue fringe',\n",
       " 'birthdayfun siphappens birthdaybash sicilia foundchris toomuchfun stylediary friendshipday hungover totallyworthit danceparty chictravel',\n",
       " 'sicily easter stylediary foundchris birthdaybash',\n",
       " 'retorubirroja',\n",
       " '',\n",
       " '',\n",
       " '',\n",
       " 'smallable pennyskateboards',\n",
       " '',\n",
       " '',\n",
       " 'whpyoungatheart',\n",
       " '',\n",
       " '',\n",
       " 'baaaa birthday baaaa',\n",
       " '',\n",
       " 'goodgoat baaa',\n",
       " 'ialsoeatallofdaddysgreens andmommys andallthretrees andallthebushes allthegreenseverywhere greeneverydamnday',\n",
       " 'iknowhowtoswim ithink pennythegoat',\n",
       " 'pennythegoat',\n",
       " 'baaaaaaa pennythegoat cheweverydamnday',\n",
       " 'triedtoeatthewholebag nomnomnom pennythegoat',\n",
       " 'pennythegoat',\n",
       " 'sup pennythegoat',\n",
       " '',\n",
       " '',\n",
       " '',\n",
       " 'internationalbikeday',\n",
       " 'lachowskifamily',\n",
       " '',\n",
       " '',\n",
       " 'yearbookannual',\n",
       " '',\n",
       " '',\n",
       " 'liketkit nordstrom rainyday westvillage',\n",
       " 'liketkit nordstrom denim currentlywearing',\n",
       " 'bermuda liketkit',\n",
       " 'liketkit',\n",
       " 'liketkit seetheworld ootd henribendel bendelgirl currentlywearing',\n",
       " 'liketkit passionpassort travelgram',\n",
       " 'sponsored jcrewalways',\n",
       " 'shanghai mei travelgram passionpassort',\n",
       " 'shanghai currentlywearing travelgram passionpassort',\n",
       " 'liketkit peach bows currentlywearing',\n",
       " 'time',\n",
       " 'time',\n",
       " 'time',\n",
       " 'fbf red',\n",
       " 'red',\n",
       " 'red',\n",
       " 'red',\n",
       " 'red',\n",
       " 'red',\n",
       " 'outoffashion hotlanta spaldingnixfineart',\n",
       " '',\n",
       " '',\n",
       " '',\n",
       " 'adoramatv ttleurope',\n",
       " 'ttlcuba alphacollective sonyalpha',\n",
       " '',\n",
       " 'wednesdaywisdom',\n",
       " 'ttlcuba alphacollective adoramateam',\n",
       " 'ttlcuba alphacollective sonyalpha',\n",
       " 'ttlcuba alphacollective sonyalpha',\n",
       " '',\n",
       " '',\n",
       " '',\n",
       " '',\n",
       " '',\n",
       " '',\n",
       " '',\n",
       " '',\n",
       " '',\n",
       " 'italy lovethisplace',\n",
       " '',\n",
       " '',\n",
       " '',\n",
       " '',\n",
       " '',\n",
       " '',\n",
       " '',\n",
       " '',\n",
       " '',\n",
       " '',\n",
       " 'graciasfilin',\n",
       " '',\n",
       " '',\n",
       " '',\n",
       " '',\n",
       " 'vivalavida wuju supercool foreverlimpia quierounpepitos nipalafonda nipalasoda nipaladata',\n",
       " '',\n",
       " 'lqm eljudioyelhippie',\n",
       " 'tbt itswednesday',\n",
       " '',\n",
       " 'outlinedcloth knickerbocker knickerbockermfg lvc levisvintage orslow oakstreetbootmakers osb everydaydrew',\n",
       " 'normanrussell taylorstitch grayers jshoes rayban',\n",
       " 'outfitgrid',\n",
       " '',\n",
       " 'milwaukeehome milwaukeeday',\n",
       " 'itsastetson stetson shockoe atelier rgt nike',\n",
       " 'bloggerproject projectready projectshow',\n",
       " 'danielwellington ad',\n",
       " 'mycovry lckingmfg velvasheen jcrewmens jcrew springstyle',\n",
       " '',\n",
       " '',\n",
       " 'waywaylatergram',\n",
       " '',\n",
       " 'amsterdam',\n",
       " '',\n",
       " 'teamangrynortherners',\n",
       " '',\n",
       " 'visitaustria',\n",
       " 'cph',\n",
       " 'amsterdam polarbearinthepark',\n",
       " '',\n",
       " '',\n",
       " '',\n",
       " '',\n",
       " 'happyearthday whpnaturalbeauty',\n",
       " '',\n",
       " '',\n",
       " '',\n",
       " '',\n",
       " '',\n",
       " 'pedrera casamila barcelona barcelonablogger barcelonacity barcelonalife barcelonanow barcelonatodo cityofbarcelona igersbarcelona onlybarcelona catalunyaexperience catalunya descobreixcatalunya spain visitbarcelona wonderlustbarcelona justgoshoot finditliveit europe gallery europe vacations topeuropephoto living europe discoverglobe spain vacations ig spain loves spain igersspain visitspain',\n",
       " 'paris parigi loves paris merveillesdefrance loves france super france europe vacations parisjetaime topparisphoto nikoneurope visitlafrance igersparis living europe hello france toureiffel eiffeltower france vacations thisisparis topeuropephoto topfrancephoto nikonfr kings villages cettesemainesurinstagram',\n",
       " 'loweprobags lowepro barcelona barcelonablogger barcelonacity barcelonalife barcelonanow barcelonatodo cityofbarcelona igersbarcelona onlybarcelona catalunyaexperience catalunya descobreixcatalunya spain visitbarcelona wonderlustbarcelona justgoshoot finditliveit europe gallery europe vacations topeuropephoto living europe discoverglobe spain vacations ig spain loves spain igersspain visitspain',\n",
       " 'etretat normandie thebirdsarereal merveillesdefrance loves france super france europe vacations nikoneurope visitlafrance igersnice living europe hello france france vacations topeuropephoto topfrancephoto nikonfr instagram welltravelled neverstopexploring wildernessculture letsgosomewhere visualsoflife justgoshoot finditliveit cettesemainesurinstagram dametraveler',\n",
       " 'paris parigi loves paris merveillesdefrance loves france super france europe vacations parisjetaime topparisphoto nikoneurope visitlafrance igersparis living europe hello france toureiffel eiffeltower france vacations thisisparis topeuropephoto topfrancephoto nikonfr kings villages cettesemainesurinstagram',\n",
       " 'cettesemainesurinstagram boston massachusetts bostondotcom igboston igersboston huntgram vscocam livefolk liveauthentic vsco socality welltravelled neverstopexploring wildernessculture letsgosomewhere visualsoflife justgoshoot finditliveit world vacations living destinations discoverglobe world vacations ig americas ig northamerica ig americas usa',\n",
       " 'labnf bnfrichelieu paris parigi loves paris merveillesdefrance loves france super france europe vacations parisjetaime topparisphoto nikoneurope visitlafrance igersparis living europe hello france toureiffel eiffeltower france vacations thisisparis topeuropephoto topfrancephoto nikonfr kings villages cettesemainesurinstagram',\n",
       " 'laseinemusicale paris parigi loves paris merveillesdefrance loves france super france europe vacations parisjetaime topparisphoto nikoneurope visitlafrance igersparis living europe hello france toureiffel eiffeltower france vacations thisisparis topeuropephoto topfrancephoto nikonfr kings villages cettesemainesurinstagram',\n",
       " 'photogratphie yoursingapore singaporelive getintosingapore singapore thisissingapore exploresingapore visitsingapore huntgram vscocam livefolk liveauthentic vsco socality welltravelled neverstopexploring wildernessculture letsgosomewhere visualsoflife justgoshoot finditliveit wu asia world vacations asia vacations living destinations discoverglobe whpnaturalbeauty',\n",
       " 'fsparis beautifulhotels dametraveler fourseasons paris parigi loves paris merveillesdefrance loves france super france europe vacations parisjetaime topparisphoto visitlafrance igersparis living europe hello france toureiffel eiffeltower france vacations thisisparis topeuropephoto topfrancephoto kings villages',\n",
       " 'paulwilkinsonphotography',\n",
       " 'paulwilkinsonphotography',\n",
       " 'paulwilkinsonphotography',\n",
       " 'paulwilkinsonphotography masterportraitphoto',\n",
       " 'paulwilkinsonphotography masterportraitphoto',\n",
       " 'paulwilkinsonphotography',\n",
       " 'tbt paulwilkinsonphotography',\n",
       " '',\n",
       " 'masterportraitphoto paulwilkinsonphotography',\n",
       " '',\n",
       " 'slikhaartv slikhaartv festivalseason',\n",
       " 'thanks',\n",
       " 'chilltime',\n",
       " 'love new dubai thanks',\n",
       " 'hellyeah',\n",
       " 'festivalseason coachella fashionguide slikhaartv',\n",
       " 'takeahint slikhaartv',\n",
       " 'staytuned slikhaartv dubai',\n",
       " 'sundayfunday goodvibes allthewayfromdenmark hellothere',\n",
       " 'dubai slikhaartv byvilain marinabeach',\n",
       " ...]"
      ]
     },
     "execution_count": 36,
     "metadata": {},
     "output_type": "execute_result"
    }
   ],
   "source": [
    "clean_tag"
   ]
  },
  {
   "cell_type": "code",
   "execution_count": 37,
   "metadata": {
    "collapsed": false
   },
   "outputs": [
    {
     "data": {
      "text/plain": [
       "(20740, 250)"
      ]
     },
     "execution_count": 37,
     "metadata": {},
     "output_type": "execute_result"
    }
   ],
   "source": [
    "clean_tag_vectorizer = CountVectorizer(analyzer = \"word\", tokenizer = None, preprocessor = None, stop_words = None, max_features = 250) \n",
    "clean_tag_features = clean_tag_vectorizer.fit_transform(clean_tag)\n",
    "clean_tag_features = clean_tag_features.toarray()\n",
    "clean_tag_features.shape"
   ]
  },
  {
   "cell_type": "code",
   "execution_count": 38,
   "metadata": {
    "collapsed": false
   },
   "outputs": [
    {
     "name": "stdout",
     "output_type": "stream",
     "text": [
      "['ad', 'africa', 'agameoftones', 'amazing', 'amg', 'aov', 'architecture', 'art', 'artofvisuals', 'australia', 'awesome', 'awesomeearth', 'awesomepix', 'barcelona', 'bbctravel', 'beautiful', 'beautifuldestinations', 'beautifulmatters', 'beauty', 'berlin', 'best', 'bestdiscovery', 'bestmeow', 'bestoftheday', 'bestvacations', 'bestwoof', 'blogger', 'bnw', 'browsingitaly', 'california', 'canon', 'captures', 'cbviews', 'china', 'city', 'cntraveler', 'coachella', 'color', 'colors', 'comeandsee', 'communityfirst', 'createcommune', 'createexplore', 'createexploretakeover', 'cute', 'design', 'diewocheaufinstagram', 'discover', 'discoverearth', 'discoverglobe', 'earth', 'earthday', 'earthfocus', 'earthpix', 'easter', 'europa', 'europe', 'exklusive', 'explore', 'exploremore', 'exploretocreate', 'fantastic', 'fashion', 'fashionblogger', 'fatalframes', 'finditliveit', 'fitness', 'follow', 'followme', 'food', 'foodporn', 'forbestravelguide', 'france', 'galaxys', 'germany', 'gf', 'gopro', 'guardiantravelsnaps', 'hallazgosemanal', 'hbouthere', 'hdr', 'heatercentral', 'hello', 'hero', 'home', 'hsdailyfeature', 'huffpostgram', 'huntgram', 'hypebeast', 'iamatraveler', 'ig', 'igers', 'igersfrance', 'igersitalia', 'igersparis', 'igmasters', 'ignantpicoftheday', 'igworldclub', 'ill', 'illgrammers', 'ink', 'inspiration', 'insta', 'instadaily', 'instago', 'instagood', 'instagram', 'instaitalia', 'instalike', 'instatravel', 'interiordesign', 'iphone', 'israel', 'istanbul', 'italia', 'italiainunoscatto', 'italian', 'italy', 'jj', 'justgoshoot', 'kings', 'la', 'landscape', 'lesphotographes', 'letsgosomewhere', 'lifeofadventure', 'lifestyle', 'like', 'liketkit', 'liveauthentic', 'livefolk', 'livetravelchannel', 'living', 'lojain', 'london', 'lonelyplanet', 'love', 'loveorvieto', 'loves', 'luxury', 'madwhips', 'main', 'makeup', 'masterpiece', 'mensfashion', 'mensstyle', 'menswear', 'milano', 'minimal', 'mood', 'moodygrams', 'motivation', 'mytinyatlas', 'natgeo', 'natgeotravel', 'nature', 'neverstopexploring', 'newyork', 'nofilter', 'nyc', 'onassignment', 'ootd', 'openmyworld', 'orvietosocialtour', 'ourplanetdaily', 'outfit', 'paris', 'passionpassport', 'peoplescreatives', 'perfection', 'photo', 'photography', 'photooftheday', 'picoftheday', 'places', 'portrait', 'reflection', 'repost', 'roamtheplanet', 'rome', 'rsa', 'sdmtravels', 'seemycity', 'shootermag', 'shot', 'shotaward', 'shotoniphone', 'shots', 'shotz', 'shotzdelight', 'sky', 'socality', 'sonyalpha', 'spain', 'sponsored', 'spring', 'stayandwander', 'street', 'streetdreamsmag', 'streetphotography', 'streetstyle', 'style', 'sunset', 'super', 'tasteintravel', 'tattoos', 'tbt', 'thecreatorclass', 'theprettycities', 'theweekoninstagram', 'tlpicks', 'top', 'topeuropephoto', 'travel', 'travelawesome', 'travelblogger', 'travelgram', 'traveling', 'travelling', 'travellingthroughtheworld', 'travelstoke', 'turkey', 'tv', 'umbria', 'urbanromantix', 'vacations', 'villages', 'vision', 'visualambassadors', 'visualsoflife', 'vsco', 'vscocam', 'vzcomood', 'wanderlust', 'watchthisinstagood', 'water', 'way', 'wedding', 'weekend', 'welivetoexplore', 'welltravelled', 'whatitalyis', 'whpnaturalbeauty', 'wildernessculture', 'wolfmillionaire', 'wonderful', 'world', 'worldclub', 'wow', 'yoga']\n"
     ]
    }
   ],
   "source": [
    "vocab = clean_tag_vectorizer.get_feature_names()\n",
    "print(vocab)"
   ]
  },
  {
   "cell_type": "markdown",
   "metadata": {},
   "source": [
    "# Mentions"
   ]
  },
  {
   "cell_type": "code",
   "execution_count": 39,
   "metadata": {
    "collapsed": false,
    "scrolled": true
   },
   "outputs": [
    {
     "data": {
      "text/plain": [
       "\"['@chicksandbarbell', '@kakaulossio']\""
      ]
     },
     "execution_count": 39,
     "metadata": {},
     "output_type": "execute_result"
    }
   ],
   "source": [
    "data['mentions'][0]"
   ]
  },
  {
   "cell_type": "code",
   "execution_count": 40,
   "metadata": {
    "collapsed": true
   },
   "outputs": [],
   "source": [
    "sentence, emojis = cleanup(data['mentions'][0])"
   ]
  },
  {
   "cell_type": "code",
   "execution_count": 41,
   "metadata": {
    "collapsed": false
   },
   "outputs": [
    {
     "data": {
      "text/plain": [
       "'chicksandbarbell kakaulossio'"
      ]
     },
     "execution_count": 41,
     "metadata": {},
     "output_type": "execute_result"
    }
   ],
   "source": [
    "sentence"
   ]
  },
  {
   "cell_type": "code",
   "execution_count": 42,
   "metadata": {
    "collapsed": false
   },
   "outputs": [
    {
     "data": {
      "text/plain": [
       "''"
      ]
     },
     "execution_count": 42,
     "metadata": {},
     "output_type": "execute_result"
    }
   ],
   "source": [
    "emojis"
   ]
  },
  {
   "cell_type": "code",
   "execution_count": 43,
   "metadata": {
    "collapsed": false
   },
   "outputs": [
    {
     "name": "stdout",
     "output_type": "stream",
     "text": [
      "5% done\n",
      "10% done\n",
      "14% done\n",
      "19% done\n",
      "24% done\n",
      "29% done\n",
      "34% done\n",
      "39% done\n",
      "43% done\n",
      "48% done\n",
      "53% done\n",
      "58% done\n",
      "63% done\n",
      "67% done\n",
      "72% done\n",
      "77% done\n",
      "82% done\n",
      "87% done\n",
      "92% done\n",
      "96% done\n"
     ]
    }
   ],
   "source": [
    "clean_mentions = []\n",
    "clean_mentions_emojis = []\n",
    "for i in range( 0, data['mentions'].size ):\n",
    "    if( (i+1)%1000 == 0 ):\n",
    "        print(str(round(i/20740*100))+\"% done\")\n",
    "    x,y = cleanup(data['mentions'][i])\n",
    "    if len(y) > 0:\n",
    "        print('yes')\n",
    "    clean_mentions.append(x)\n",
    "    clean_mentions_emojis.append(y)"
   ]
  },
  {
   "cell_type": "code",
   "execution_count": 44,
   "metadata": {
    "collapsed": false
   },
   "outputs": [
    {
     "data": {
      "text/plain": [
       "['chicksandbarbell kakaulossio',\n",
       " 'biancamantelli biancamantelli',\n",
       " '',\n",
       " 'vitafornutrientes migueltortelli vitafornutrientes migueltortelli',\n",
       " 'arnoldclassicsouthamerica teaconnectionbrasil',\n",
       " 'electriczoobr alepierozan succara electriczoobr',\n",
       " 'ilpescatoreoficial electriczoobr',\n",
       " '',\n",
       " 'pwrdbycoffee',\n",
       " 'marcelo kvra pedrogiannini amandaaliperti amandaubaiz pedrobittencourt mand mosc edusaporito alepierozan dr rafaelsoares teaconnectionbrasil nerd fit andreiasabaglopes',\n",
       " 'zoilolondon percyandfounders diegojacquet timeoutlondon food porn foodandwine foodpornweb london delishfood foodprnshar zoilolondon devourpower eater top london restaurants londonpopups percyandfounders infatuation london diego cardoso',\n",
       " 'thecheesebarldn camdenmarketldn timeoutlondon mtvuk londontheinside buzzfeedfood london top london restaurants camdenmarketldn restaurantstimelondon foodbible infatuation london pasta thecheesebarldn devourpower london eaterlondon',\n",
       " 'thecheesebarldn camdenmarketldn timeoutlondon top london restaurants camdenmarketldn restaurantstimelondon sundaytimesfood foodbible infatuation london thecheesebarldn devourpower london eaterlondon',\n",
       " 'citysocial timeoutlondon mtvuk londontheinside buzzfeedfood london drinksintheair eater top london restaurants citysocial londonviewpoints londonist com restaurantstimelondon citysocialbar infatuation london london foodguide eaterlondon',\n",
       " 'barclaysuk timeoutlondon londontheinside london londonist com breakfastlondon londoncoffeeshops barclaysuk london food infatuation london london coffee london foodguide',\n",
       " 'newyorkfoodbabes bubbyspieco bubbyspieco newyorkfoodbabes',\n",
       " 'thephenesw food porn foodnetwork foodpornweb london beautifulcuisines foodismuk devourpower eater top london restaurants thephenesw breakfastlondon foodbible infatuation london eaterlondon',\n",
       " 'thephenesw timeoutlondon food porn foodnetwork foodpornweb delishfood devourpower eater thephenesw breakfastlondon bestofthebrunch infatuation london devourpower london eaterlondon',\n",
       " 'damichelelondon marleyscupcakes kitty food timeoutlondon mtvuk infatuation foodnetwork foodandwine londontheinside buzzfeedfood london top london restaurants londonfoodspots restaurantstimelondon pizza london food foodbible infatuation london london london foodguide damichelelondon devourpower london',\n",
       " 'wearesquirrel wearesquirrel food love food womenshealthuk kkcomms southkensington inception group healthyfoodmag foodbible wearesquirrel',\n",
       " 'hawaiivolcanoesnps',\n",
       " 'tourismtofino youtube hellobc tourism bc tourismtofino dr chrisnicholas bcliving bbcbeautifulbritishcolumbia tourismbc theuncommonlaw hikesof pnw beautifulbritishcolombia',\n",
       " 'colehaan canadagoose forever men',\n",
       " 'eyebuydirect sprezzabox indochino bows ties indochino eyebuydirect bows ties itsnickgraham sprezzabox',\n",
       " 'theuncommonlaw rodemic eyebuydirect sprezzabox weekendcasual sonyalpha theuncommonlaw',\n",
       " 'beckipeckham errincasa braybraywoowoo braybraywoowoo errincasa theuncommonlaw',\n",
       " 'zara eight field freedom promasterphoto',\n",
       " 'theuncommonlaw',\n",
       " 'indochino aldo shoes eyebuydirect sprezzabox',\n",
       " 'capilanosuspensionbridge theuncommonlaw',\n",
       " 'fendi ginatricot fisforfendi',\n",
       " 'yoox wearehandsome greatbarrierreeffoundation',\n",
       " 'jonolsson',\n",
       " '',\n",
       " '',\n",
       " 'michawissen stone cold fox michawissen',\n",
       " 'gucci revolve nellycom',\n",
       " 'discoverla discoverla copterpilot',\n",
       " 'copterpilot discoverla discoverla copterpilot emitaz jonolsson oscarminyo',\n",
       " '',\n",
       " '',\n",
       " 'mackjackmcconaughey',\n",
       " 'mackjackmcconaughey dak lancearmstrong andersoneast tony mirandalambert andersoneast rickiefowler mirandalambert dak lancearmstrong tony romo',\n",
       " 'target mackjackmcconaughey target mackjackmcconaughey',\n",
       " 'littlebigtown mackjackmcconaughey littlebigtown karenfairchild jimiwestbrook phillipsweet ohgussie mackjackmcconaughey',\n",
       " 'butchwalker mackjackmcconaughey butchwalker butchwalker mackjackmcconaughey',\n",
       " 'mackjackmcconaughey jasonwu',\n",
       " 'jasonwu mackjackmcconaughey jasonwu jasonwu mackjackmcconaughey',\n",
       " 'mackjackmcconaughey jklivinfoundation mirandalambert mirandalambert mackjackmcconaughey jklivinfoundation jklivinfoundation mirandalambert mackjackmcconaughey',\n",
       " '',\n",
       " '',\n",
       " '',\n",
       " '',\n",
       " '',\n",
       " '',\n",
       " '',\n",
       " '',\n",
       " '',\n",
       " 'paulhewitt paul hewitt adrbohoga',\n",
       " '',\n",
       " 'natgeo natgeo natgeocreative thephotosociety jenniferhayesig daviddoubilet daviddoubilet',\n",
       " 'natgeocreative jenniferhayesig stevewinterphoto cristinamittermeier melissafarlow coryrichards',\n",
       " 'johnstanmeyer jimrichardsonng joelsartore ladzinski anniegriffithsphotography natgeocreative',\n",
       " 'natgeocreative paulnicklen chamiltonjames dguttenfelder randyolson timlaman',\n",
       " 'natgeocreative stevewinterphoto',\n",
       " 'natgeocreative',\n",
       " 'natgeo thephotosociety natgeocreative daviddoubilet daviddoubilet',\n",
       " 'natgeo natgeocreative thephotosociety daviddoubilet daviddoubilet',\n",
       " 'natgeo thephotosociety natgeocreative daviddoubilet jenniferhayesig',\n",
       " 'natgeo natgeocreative thephotosociety daviddoubilet',\n",
       " '',\n",
       " '',\n",
       " '',\n",
       " '',\n",
       " '',\n",
       " '',\n",
       " '',\n",
       " '',\n",
       " '',\n",
       " '',\n",
       " 'naked soul art travels',\n",
       " 'fiitness daily fit couple goals naked soul art travels',\n",
       " 'fiitness daily fiitness daily',\n",
       " 'fiitness daily fiitness daily fit couple goals naked soul art travels',\n",
       " 'treeoflife love oprah elephantjournal fit couple goals spiritualsoul alexgreycosm charlesbukowskiquotes zachrykdouglas sad quotes spiritscienceofficial sad love quotes naked soul quotspot surrender sadness tru shinobi hurtandlovequotes',\n",
       " 'fiitness daily tailopez thegoodquote lifeisgoodco prince ea fiitness daily fit couple goals rd rn female quote dalailama stonecold naked soul art travels ilovethesecret',\n",
       " 'osho buddha paulocoelho babaramdass ekhart tolle prince ea humansofny jasonlsilva spiritualmovement awake spiritual alanwattsphilosopher dalailama poemsporn karmapa naked soul art travels salil jha alison malee spiritual ilovethesecret buddhaquotes',\n",
       " 'deepakchopra prince ea elephantjournal supersoul spiritualthoughts spiritualmetaphors thesecret spiritualmovement awake spiritual goodquotes dalailama awakenedconsciouscollective tonyrobbins quotesonthewall spiritual living human life buddhaquotes',\n",
       " 'archernick prince ea fiitness daily elephantjournal fit couple goals amsuccess spiritualthoughts thesecret spiritualmovement awake spiritual goodquotes awakenedconsciouscollective stonecold successes art travels tonyrobbins motivationmafia ilovethesecret buddhaquotes',\n",
       " 'ramit osho buddha thegoodquote ekhart tolle prince ea fiitness daily elephantjournal fit couple goals spiritualthoughts thesecret awake spiritual goodquotes eye us naked soul art travels tonyrobbins quotesonthewall ilovethesecret buddhaquotes',\n",
       " 'ilannfive mnml la watchmoodl',\n",
       " 'aladesign sneakersaddictcom aladesign menwithfootwear',\n",
       " 'stutterheim stutterheim ootdmen menwithstreetstyle alexander stutterheim menstyleoficial men stylefashion perfecturbanstyle streetfashionable bestcasualoutfit',\n",
       " 'ilannfive converse ilannfive',\n",
       " 'menstyleoficial men stylefashion vscomacedonia reborn mk mnml la',\n",
       " 'menwithclass happysocks gshockeu',\n",
       " 'gucci elixirexclusive bettoi gucci bettoi menwithclass ootdmen gentlemenschoice classy gentleman beautifulmenswear menstyleoficial mensfashion inspirations style men stylefashion mensstyle co elixirexclusive',\n",
       " 'vscomacedonia reborn mk',\n",
       " 'stutterheim modaparahomens converse stutterheim modamasculina ootdmen carpediemjewellery menwithstreetstyle alexander stutterheim menstyleoficial men stylefashion',\n",
       " 'vscomacedonia reborn mk',\n",
       " 'alfanzu alfanzu blackbirdhotel',\n",
       " 'johanesadriano johanesadriano blackbirdhotel',\n",
       " 'instagram',\n",
       " 'johnnyp couchsurfing johnnyp',\n",
       " 'aryanarapati sssukri stutterheim',\n",
       " 'rahmatpanji',\n",
       " 'couchsurfing',\n",
       " 'ijoeel mukticahyadi',\n",
       " 'waman wamin sssukri',\n",
       " 'andrewtkearns ourcamplife',\n",
       " '',\n",
       " '',\n",
       " '',\n",
       " 'vcuhealth donatelifeamerica',\n",
       " 'petco',\n",
       " 'petpartners katespadeny',\n",
       " 'edbyellen',\n",
       " 'petco potterybarn purina',\n",
       " 'thegaybeards theellenshow petsmart edbyellen',\n",
       " 'katespadeny potterybarn',\n",
       " 'arabian travel market waldorfdubai hiltonhotels hiltonhonors waldorfastoria waldorfdubai arabian travel market',\n",
       " 'waldorfdubai hiltonhotels hiltonhonors waldorfastoria mydubai beautifuldestinations visit dubai beautifulhotels waldorfdubai theglasspassage',\n",
       " 'waldorfdubai hiltonhotels hiltonhotels hiltonhonors waldorfastoria mydubai visit dubai beautifulhotels waldorfdubai',\n",
       " 'waldorfdubai hiltonhotels hiltonhonors waldorfastoria waldorfdubai',\n",
       " 'waldorfdubai heinzbecklapergola hiltonhotels hiltonhonors waldorfastoria mydubai beautifuldestinations visit dubai beautifulhotels waldorfdubai',\n",
       " 'thedubaimall walterscoffeedxb',\n",
       " 'walterscoffeedxb walterscoffee amcbreakingbad thedubaimall mydubai visit dubai walterscoffeedxb',\n",
       " 'dubai moleculedxb',\n",
       " 'mydubai visit dubai dubai moleculedxb',\n",
       " 'moleculedxb beautifulcuisines dubai handsinframe moleculedxb',\n",
       " '',\n",
       " 'jihan',\n",
       " 'hawbashnooriphotography jihan',\n",
       " 'hawbashnooriphotography jihan',\n",
       " 'hawbashnooriphotography jihan',\n",
       " 'hawbashnooriphotography jihan',\n",
       " 'hawbashnooriphotography jihan',\n",
       " 'hawbashnooriphotography jihan',\n",
       " 'hawbashnooriphotography jihan',\n",
       " 'hawbashnooriphotography jihan',\n",
       " 'etnicisback',\n",
       " 'emilienefnaf etnicisback',\n",
       " 'iepqc yorendelola vichika yorn',\n",
       " 'gioboyparis billyboyofficiel gioboyparis billyboyofficiel',\n",
       " 'yorendelola cassandremakeup',\n",
       " 'iepqc',\n",
       " '',\n",
       " 'camille colman yorendelola cassandremakeup',\n",
       " '',\n",
       " 'iepqc tpmptv galafr',\n",
       " '',\n",
       " 'time kirapollack myleslittle',\n",
       " 'nytimes dionnesearcey',\n",
       " 'nytimes dionnesearcey kassiebracken nytimes',\n",
       " '',\n",
       " '',\n",
       " '',\n",
       " '',\n",
       " 'nytimes petekmuller',\n",
       " '',\n",
       " '',\n",
       " '',\n",
       " 'danielwellington danielwellington',\n",
       " '',\n",
       " 'cluse cluse',\n",
       " '',\n",
       " '',\n",
       " '',\n",
       " '',\n",
       " '',\n",
       " 'tomtomglobal vikikafitness vikikafitness vikikacosta vikikafitness tomtomglobal tomtomsports',\n",
       " 'javiermenendeza',\n",
       " 'vikikacosta javiermenendeza',\n",
       " '',\n",
       " 'rutharcosataz rutharcosataz',\n",
       " 'passioncafe',\n",
       " 'javiermenendeza',\n",
       " 'amixstore amixesp servivita',\n",
       " 'rutharcosataz',\n",
       " '',\n",
       " 'art instcoffee art spotlight coffeeandseasons flatlay sketchfashionillustration',\n",
       " 'poorlittleitgirl art poorlittleitgirl nawden art collective drawingfeever arts help art daily art spotlight flatlay sketchfashionillustration',\n",
       " '',\n",
       " 'abeautifulmess tjmaxx flatlays flatlayforever tea flatlay flatlaytoday',\n",
       " 'augustwren dallasshaw dcinstyle augustwren dallasshaw dcinstyle',\n",
       " 'starbucks flatlayforever ferrerorocherca coffeewithstyle cups love coffee coffeeandseasons creativityinmybreakfast flatlay flatlaytoday momentsofmine',\n",
       " 'art etsy flatlays flatlayforever art spotlight sketchfashionillustration',\n",
       " 'art nawden flatlays flatlayforever illustrationsempire flatlay',\n",
       " '',\n",
       " 'suebzimmerman suebzimmerman',\n",
       " 'brandonexplores brandonexplores',\n",
       " 'travelloapp studentflightsau travelloapp travelloapp',\n",
       " 'arturstanisz arturstanisz',\n",
       " 'ch ubella ch ubella',\n",
       " 'mr mr mirrorless',\n",
       " 'rocksportrait rocksportrait',\n",
       " 'cbezerraphotos cbezerraphotos',\n",
       " 'daley',\n",
       " 'idroneman idroneman',\n",
       " 'alec basanec alec basanec',\n",
       " 'thechocpot thechocpot thechocpot thegirlswhoatetheworld nutellasum imstillhungry ifat arvinisstarvin msyan imstillhungry nutellasum ifat thechocpot msyan arvinisstarvin stephwoon',\n",
       " 'simonjohnsonprovidore tasteofsydney tasteofsydney simonjohnsonprovidore',\n",
       " 'sprout market sprout market',\n",
       " 'itd rude theflowerroom makmakmacarons theflowerroom makmakmacarons',\n",
       " 'incredibleflowercakes itd rude itd rude incredibleflowercakes',\n",
       " 'oliokensingtonst stanleesoon designsbyariana tonicpraus oliokensingtonst',\n",
       " 'popina sydney gateway oscarwylee visitnsw joseph dang flatlaysquad flatlays savannahpr onthetable project itd rude flatlaystyle gateway sydney flatlay flatlaytoday popina sydney',\n",
       " 'lisforolive llai alguy lackofcoloraus',\n",
       " 'thetiafox donutscookiesandcream msyan scroll icecream',\n",
       " 'thetiafox thetiafox thecruxandco',\n",
       " 'expressmen milonquayim rayban tobootnewyork expressmen',\n",
       " 'ankarifloruss clubmonaco tommyhilfiger etonshirts ankarifloruss',\n",
       " 'designowstudio stutterheim samsoesamsoe designowstudio north official',\n",
       " 'expressmen milonquayim calvinklein rayban expressmen',\n",
       " 'tommyhilfiger tbahama josabank alfreddunhill',\n",
       " 'motiankari maryleest guess thevintagetwin rayban maryleest zara',\n",
       " 'milonquayim guess converse agjeans topman rayban',\n",
       " 'nordstrom liketoknow ted baker hugoboss nordstrom rewardstyle nordstrommen persol liketoknow tobootnewyork',\n",
       " 'milonquayim hugoboss maryleest',\n",
       " 'rayban motiankari guess alexaanello thevintagetwin evantye rayban maryleest',\n",
       " 'liketoknow zimmermann gucci zimmermann liketoknow milano streetstyle',\n",
       " 'liketoknow liketoknow liketoknow',\n",
       " 'liketoknow amandajpulley bcbgmaxazria liketoknow thecrescentdallas',\n",
       " 'liketoknow amandajpulley liketoknow farmriooficial petersyn clothing',\n",
       " 'liketoknow henribendel amandauprichard liketoknow',\n",
       " 'plumprettysugar kbstyled seersuckerandsaddles themrsgibby glitterandgingham laurenlefevre stello style plumprettysugar liketoknow amandajpulley liketoknow',\n",
       " 'liketoknow liketoknow',\n",
       " 'liketoknow amandajpulley bcbgmaxazria liketoknow',\n",
       " 'liketoknow liketoknow',\n",
       " 'liketoknow bcbgmaxazria liketoknow',\n",
       " 'locman italy official caropaoletti caropaoletti locman italy official',\n",
       " '',\n",
       " 'igersitalia folkmagazine vsco igersumbria djiglobal shotaward livefolk natgeoyourshot tv living hippie world fromwhereidrone thedreamlocation',\n",
       " 'djiglobal vscogood livefolk mavic pro fromwhereidrone',\n",
       " 'caropaoletti locman italy official nikonitalia',\n",
       " 'mattiacontilli djiglobal',\n",
       " 'caropaoletti djiglobal caropaoletti djiglobal',\n",
       " 'igersitalia igerstoscana elbamylove isoladelbaapp',\n",
       " 'igerstoscana caropaoletti locman italy official',\n",
       " 'caropaoletti',\n",
       " 'misterzimi misterzimi elsas wholesomelife',\n",
       " 'purecocobella purecocobella purecocobella elsas wholesomelife',\n",
       " 'elsas wholesomelife',\n",
       " 'plumbooks plumbooks macmillanaus elsas wholesomelife',\n",
       " '',\n",
       " 'elsie xx elsas wholesomelife',\n",
       " '',\n",
       " 'alexwatson elsas wholesomelife conrad maldives',\n",
       " '',\n",
       " 'purecocobella purecocobella elsas wholesomelife',\n",
       " 'farfetch mrselfportrait brigadeirochoc tomenyc chloe liketoknow celine',\n",
       " '',\n",
       " 'flatlays bellemiette',\n",
       " 'mountloftyhouse instagram cntraveler mountloftyhouse mgallerybysofitel aus accorhotels aus qftravelinsider',\n",
       " 'firstviewphoto fashionweekaus liketoknow dolcegabbana fashion week avenue brigadeirochoc fashionweekaus papermachetiger macgrawlove firstviewphoto ootdmagazine mansurgavriel streetstyleluxe liketoknow edit thebrand',\n",
       " 'gucci farfetch gucci ladyartigas farfetch brigadeirochoc vitkac liketoknow msmin official',\n",
       " 'reynaldotjandra sweet brigadeirochoc reynaldotjandra chloe sofitelbalinusadua accorhotels accorhotels aus accorhotels apac sweet escape sanfranciscohatco au',\n",
       " 'makmakmacarons',\n",
       " 'binnywear diptyque binnywear prada',\n",
       " '',\n",
       " '',\n",
       " '',\n",
       " '',\n",
       " '',\n",
       " '',\n",
       " '',\n",
       " '',\n",
       " '',\n",
       " '',\n",
       " '',\n",
       " '',\n",
       " 'bernardomarotta',\n",
       " '',\n",
       " '',\n",
       " '',\n",
       " '',\n",
       " 'felipepoubel',\n",
       " 'lisboalive',\n",
       " '',\n",
       " '',\n",
       " '',\n",
       " '',\n",
       " '',\n",
       " '',\n",
       " 'originalproject',\n",
       " '',\n",
       " 'meljordao',\n",
       " 'andreia palma',\n",
       " '',\n",
       " 'andreia palma',\n",
       " 'starwoodmotors starwoodmotors',\n",
       " 'topgearporschenj topgearporschenj topgearporschenj',\n",
       " 'haugenracing dutch touch haugenracing',\n",
       " 'zitowheels vader zitowheels vader',\n",
       " 'carlifestyle carlifestyle',\n",
       " 'rdbla speedsuspects speedsuspects rdbla',\n",
       " 'goranphotography khk goranphotography khk',\n",
       " 'zedsly zedsly',\n",
       " 'timothysykes timothysykes timothysykes srs swissrichstreets srs swissrichstreets',\n",
       " 'darwinproaero dpjack darwinproaero dpjack darwinproaero carlifestyle darwinproaero',\n",
       " 'visittheusa visitnorway instagram visitjordan vsco visitzurich cntraveler travelandleisure leica camera visitqatar visit singapore beautifuldestinations ourfinland canonitaliaspa polaroid sonyalpha roma visitporto travellingthroughtheworld fubiz',\n",
       " 'roma visitcalifornia visittheusa instagram visitjordan vueling visitzurich cntraveler travelandleisure leica camera visitqatar visit singapore clubmed beautifuldestinations visit dubai canonitaliaspa polaroid topeuropephoto sonyalpha roma travellingthroughtheworld',\n",
       " 'instagram vsco cntraveler leica camera topdecktravel beautifuldestinations canonitaliaspa polaroid roma',\n",
       " 'vice visitcalifornia visittheusa instagram visitjordan vsco visitzurich cntraveler leica camera topdecktravel visitportugal visitqatar beautifuldestinations visit dubai canonitaliaspa polaroid sonyalpha roma visitporto fubiz',\n",
       " 'visittheusa instagram visitjordan vsco visitzurich cntraveler leica camera topdecktravel visitqatar visit singapore beautifuldestinations visit dubai canonitaliaspa polaroid canonuk sonyalpha roma visitporto travellingthroughtheworld',\n",
       " 'vice visitcalifornia visittheusa instagram cntraveler topdecktravel visitengland visit singapore beautifuldestinations visit dubai canonitaliaspa polaroid olympus pengeneration canonuk sonyalpha visitporto travellingthroughtheworld fubiz canonbelgium',\n",
       " 'visitcalifornia visittheusa instagram visitjordan visitzurich bookingcom cntraveler leica camera visitqatar visit singapore clubmed beautifuldestinations visit dubai visit berlin canonitaliaspa polaroid sonyalpha roma visitporto travellingthroughtheworld',\n",
       " 'visitcalifornia visittheusa instagram visitjordan visitzurich bookingcom cntraveler leica camera topdecktravel visitqatar beautifuldestinations visit dubai visit berlin canonitaliaspa polaroid visit okinawajapan sonyalpha roma visithk visitporto',\n",
       " 'visitcalifornia visittheusa instagram visitjordan bookingcom cntraveler travelandleisure leica camera topdecktravel visitqatar beautifuldestinations visit dubai ourfinland visitcotedazur canonitaliaspa visitbarcelona polaroid sonyalpha visithk visitporto',\n",
       " 'visitcopenhagen visittheusa instagram visitjordan bookingcom cntraveler topdecktravel visit holland visitportugal visitqatar beautifuldestinations visit dubai ourfinland visitfrance canonitaliaspa visitbarcelona polaroid sonyalpha visithk visitporto',\n",
       " '',\n",
       " '',\n",
       " 'tobbo',\n",
       " 'jonathanlevineprojects',\n",
       " '',\n",
       " '',\n",
       " '',\n",
       " '',\n",
       " '',\n",
       " 'tobbo',\n",
       " 'jordanmarshallphotography',\n",
       " '',\n",
       " '',\n",
       " '',\n",
       " '',\n",
       " 'jordanmarshallphotography kamrinoelm',\n",
       " 'bellarobb',\n",
       " '',\n",
       " '',\n",
       " '',\n",
       " 'fitmarkbags scalclothing axtonsupply',\n",
       " 'muscleegg foods wyckedmealz',\n",
       " 'spectrumfitnessproductions gmail fitmarkbags spectrumfitnessproductions mensphysiquepic mensphysiquenews',\n",
       " 'gmail wyckedaesthetics',\n",
       " '',\n",
       " 'fitconutah muscleegg muscleegg valarie sanford eileenwellsfitness fitconutah',\n",
       " 'hifbrand samuellathrop samuellathrop danny page hifbrand',\n",
       " 'muscleegg',\n",
       " 'muscleegg fitconutah muscleegg fitconutah',\n",
       " 'bodybuilding motivation mensphysiquepic skullznbarbells mensphysiquenews',\n",
       " 'suavebeauty suavebeauty',\n",
       " '',\n",
       " 'suavebeauty suavebeauty',\n",
       " 'projekt inspire tz projekt inspire tz',\n",
       " '',\n",
       " '',\n",
       " 'truefit truefit',\n",
       " 'thesamedamntime',\n",
       " 'intel intel jobsatintel',\n",
       " 'flysaa flysaa',\n",
       " '',\n",
       " 'fourteenjay aveda eggcanvas aveda hermes homeism isabelmarant fourteenjay',\n",
       " 'birchcoffee',\n",
       " 'janessaleone eggcanvas gucci motherdenim papillionaire driesvannoten',\n",
       " 'barneysny refineryhotel refineryrooftop barneyswarehouse',\n",
       " 'janessaleone eggcanvas gucci motherdenim papillionaire driesvannoten',\n",
       " 'jomalonelondon eleven zeusndione esteelauder deborahlippmann esteelauder osmanstudio eugeniakimnyc deborahlippmann jomalonelondon zeusndione eleven six',\n",
       " 'eggcanvas louisvuitton acnestudios nililotan furla',\n",
       " 'eggcanvas barneysny',\n",
       " 'eggcanvas forevervanny barneysny thelatinafey shakeshack marie mag iammasima barneyswarehouse itsheymorgan',\n",
       " '',\n",
       " 'chateaudechambord chateaudechambord',\n",
       " '',\n",
       " 'chateaudechambord chateaudechambord',\n",
       " 'capra puanindya puanindya capra',\n",
       " '',\n",
       " '',\n",
       " '',\n",
       " '',\n",
       " '',\n",
       " 'chicityfoodie mushroomstew food',\n",
       " 'mallorykorol riverroastchi mallorykorol riverroastchi',\n",
       " 'alexadawgz begylebrewing worldofbeer alexadawgz begylebrewing',\n",
       " 'tantachicago mushroomstew rosskittles tantachicago bluhostel food',\n",
       " 'markfuente chdistillery chdistillery chdistillery darkmattercoffee chdistillery',\n",
       " 'letseatchi stansdonutschicago stansdonutschicago letseatchi',\n",
       " 'heavenonseven bannos leilu eringbyrne heavenonseven jimmybannos food',\n",
       " 'chiearthskitchen',\n",
       " 'paigeleclercq cubs paigeleclercq',\n",
       " 'adastchicago thefeedfeed austeritywine thefeedfeed adastchicago austeritywine',\n",
       " 'misshayleypaige',\n",
       " 'clubmonaco clubmonaco freepeople',\n",
       " 'frontgate target target frontgate',\n",
       " 'liketoknow gucci aliceandolivia shopbop nordstrom revolve marc fisher liketoknow tularosalabel grlfrnd denim goodamerican liketoknow home',\n",
       " 'misshayleypaige lazarobridal misshayleypaige lazarobridal',\n",
       " 'liketoknow gucci dior diormakeup',\n",
       " 'ole henriksen sephora',\n",
       " '',\n",
       " 'ecotools ecotools',\n",
       " '',\n",
       " '',\n",
       " '',\n",
       " '',\n",
       " '',\n",
       " '',\n",
       " '',\n",
       " '',\n",
       " 'anniediharvey',\n",
       " '',\n",
       " '',\n",
       " '',\n",
       " '',\n",
       " '',\n",
       " '',\n",
       " 'worldmarket keurig',\n",
       " 'ikeausa',\n",
       " 'michaelsstores homedepot target ikeausa rugs usa',\n",
       " '',\n",
       " 'target paintedfoxhome',\n",
       " 'llogothetis netflix llogothetis',\n",
       " 'beachyogagirl kinoyoga omstarsofficial',\n",
       " '',\n",
       " 'omstarsofficial omstarsofficial',\n",
       " 'beachyogagirl kinoyoga omstarsofficial',\n",
       " '',\n",
       " 'beachyogagirl kinoyoga omstarsofficial',\n",
       " '',\n",
       " 'beachyogagirl kinoyoga omstarsofficial',\n",
       " 'omstarsofficial beachyogagirl kinoyoga',\n",
       " 'omstarsofficial beachyogagirl kinoyoga',\n",
       " 'fabrykaform mywhitetype',\n",
       " '',\n",
       " 'missha cocolitapl missha official',\n",
       " '',\n",
       " 'tv living tv stilllife hm home',\n",
       " 'chocolissimopl chocolissimopl',\n",
       " 'fabrykaform hm home mywhitetype',\n",
       " 'evree official evree official',\n",
       " 'wiecej kultury wiecej kultury wydawnictwoznak pl',\n",
       " 'flatlaysquad bloomingville interiors flatlays fabrykaform tv living tv stilllife hm home flatlaytoday',\n",
       " 'andyheart illesteva atpatelier vestiaireco cosstores celine',\n",
       " '',\n",
       " 'andyheart levis martinianoshoes katkim zara celine',\n",
       " 'jenisicecreams',\n",
       " 'katkim yunicekang andyheart yunicekang katkim cosstores',\n",
       " 'andyheart',\n",
       " 'andyheart voidwatches rikastudios frame',\n",
       " 'thfactory',\n",
       " 'thfactory',\n",
       " 'tataharper credobeauty tataharper credobeauty favorite esty',\n",
       " '',\n",
       " '',\n",
       " 'yellowstonenps yellowstone cougar project cobblestonetosandweasel',\n",
       " 'thephotosociety',\n",
       " 'thephotosociety natgeocreative natgeoexpeditions',\n",
       " 'natgeocreative',\n",
       " 'natgeoexpeditions',\n",
       " '',\n",
       " 'jasoninthehouse',\n",
       " 'natgeocreative theohotosociety',\n",
       " 'zyrken jesselaflair tempestfreerunning',\n",
       " '',\n",
       " 'zyrken jesselaflair tempestfreerunning',\n",
       " 'zyrken zyrken jesselaflair',\n",
       " 'hypebeast joeyrelish hypebeast joeyrelish jesselaflair tempestfreerunning budweiser',\n",
       " 'zyrken sarashirpey zyrken jesselaflair tempestfreerunning',\n",
       " 'zyrken zyrken jesselaflair tempestfreerunning',\n",
       " 'blackr ce jesselaflair tempestfreerunning blackr ce',\n",
       " 'blackr ce jesselaflair tempestfreerunning blackr ce thisiscuba',\n",
       " 'zyrken zyrken jesselaflair tempestfreerunning',\n",
       " '',\n",
       " 'hofmann spain',\n",
       " 'rincondtv hofmann spain',\n",
       " 'mr boo enfilmin',\n",
       " '',\n",
       " '',\n",
       " 'elperiodico cas anabsgarcia elperiodico cas mr boo',\n",
       " 'metropolitangym mr boo',\n",
       " 'metropolitangym mr boo',\n",
       " '',\n",
       " 'ypslonatacado louboutinworld lojasrenner amarofashion ypslonatacado',\n",
       " 'vipapier vipapier vipapier',\n",
       " 'ypslonatacado liketoknow amarofashion amarofashion liketoknow ypslonatacado mainarateixeirasemijoias',\n",
       " '',\n",
       " 'ypslonatacado arezzo zara arezzoriopreto ypslonatacado',\n",
       " 'aliexpressbr liketoknow liketoknow aliexpressbr aliexpress official',\n",
       " 'ypslonatacado liketoknow zara liketoknow ypslonatacado',\n",
       " 'franscafe franscafe franscaferedentora',\n",
       " 'gdokyjeans louboutinworld lojasrenner gdokyjeans',\n",
       " 'popandsuki sprinklescupcakes popandsuki',\n",
       " 'lukeshadbolt lizardisland',\n",
       " 'lukeshadbolt sarahandsebastianjewellery eres realisationpar',\n",
       " 'lukeshadbolt lizardisland areyouami',\n",
       " 'lukeshadbolt sarahandsebastianjewellery eres',\n",
       " 'lizardisland lukeshadbolt lizardisland',\n",
       " 'lukeshadbolt sarahandsebastianjewellery',\n",
       " 'lizardisland lukeshadbolt lizardisland',\n",
       " 'lukeshadbolt areyouami',\n",
       " '',\n",
       " '',\n",
       " 'abercrombie expressmen apc paris statebags theserenagoh justinliv abercrombie statebags apc paris expressmen',\n",
       " '',\n",
       " 'theshopsatcolumbuscircle lainyhedaya rachmartino strollerinthecity robertgrahamnyc johngarcia justinliv robertgrahamnyc theshopsatcolumbuscircle',\n",
       " 'houseofmackage dan churchill houseofmackage',\n",
       " 'ddugoff frankandoak dan churchill frankandoak ddugoff urbanoutfittersmens',\n",
       " 'rayban converse topman justinliv hm rayban',\n",
       " 'absolutvodka us oh anthonio',\n",
       " 'topman orlebarbrown rayban theserenagoh topman orlebarbrown justinliv rayban asos us',\n",
       " 'rayban theserenagoh justinliv rayban',\n",
       " 'theserenagoh rayban descendantofthieves descendantofthieves rayban',\n",
       " 'emirates sheikhmende mydubai visit dubai almaktoumfans emirates',\n",
       " 'ahmedhossam sheikhmende ahmedhossam',\n",
       " '',\n",
       " '',\n",
       " 'hhshkmohd mydubai',\n",
       " 'khalidalrazooqi hhshkmohd khalidalrazooqi dubaipolicehq sheikhmende mydubai',\n",
       " 'zalviant',\n",
       " 'sohailgaladari sheikhmende khaleejtimes sohailgaladari',\n",
       " '',\n",
       " 'faz hhshkmohd viproomdubai movidadubai mydubai happy dubai bluemarlinibizauae dubai theactdubai dubai sasscafedubai dubaitag dubaireserve dtec dso novikovdubai livelove dubai dubai ty',\n",
       " '',\n",
       " '',\n",
       " '',\n",
       " '',\n",
       " 'baohausnyc discoverla dinela eatswithanthony baohausnyc',\n",
       " 'westelm wayfair jossandmain venice plants',\n",
       " '',\n",
       " 'coachella coachella heybenxue',\n",
       " 'coachella',\n",
       " 'coachella',\n",
       " '',\n",
       " '',\n",
       " '',\n",
       " '',\n",
       " '',\n",
       " '',\n",
       " '',\n",
       " '',\n",
       " '',\n",
       " '',\n",
       " '',\n",
       " 'bordplaten bordplaten bordplaten',\n",
       " 'lyngbyporcelain emmeselle lyngbyporcelain',\n",
       " 'fritz hansen ikeanorge brdrkruger carlhansenandson rorostweed louispoulsen nordpeis jotunlady tiscarugs',\n",
       " '',\n",
       " '',\n",
       " '',\n",
       " '',\n",
       " '',\n",
       " 'lyngbyporcelain lyngbyporcelain',\n",
       " '',\n",
       " '',\n",
       " '',\n",
       " 'tiannasumer gnarlord',\n",
       " '',\n",
       " '',\n",
       " 'bad bryant trinh bad coffee',\n",
       " '',\n",
       " '',\n",
       " '',\n",
       " 'rei nicalegre',\n",
       " 'johncollinson thenorthface factionskis smithoptics nicalegre',\n",
       " 'gyrostabilizedsystems tgrtoddjones gramwithmedoe nicalegre rei',\n",
       " 'gregvondoersten gregvondoersten',\n",
       " 'sammycarlson gregvondoersten gregvondoersten',\n",
       " 'rei nicalegre',\n",
       " 'nicalegre rei johncollinson angelcollinson nickmcnutt samsmoothy thenorthface smithoptics atomicski volklskis factionskis nicalegre',\n",
       " '',\n",
       " 'rei nicalegre',\n",
       " 'nicalegre',\n",
       " 'timuremek ktz official',\n",
       " 'linikerfgaldino',\n",
       " 'openingceremony areyouami',\n",
       " 'brixtonwomens bambaswim',\n",
       " 'fancy louisvuitton fancy discountuniverse sandyliang brixtonwomens',\n",
       " 'peonyswimwear peonyswimwear',\n",
       " 'glass stories',\n",
       " 'victoriassecret victoriassecret',\n",
       " 'bodybauble',\n",
       " '',\n",
       " 'ray photography',\n",
       " 'tmariesuits mrolympiallc tmariesuits',\n",
       " 'sixdeuce usa sixdeuce sixdeuce usa',\n",
       " 'sannation',\n",
       " 'wahhabc aroundthenpc jm npcnewsonlineofficialpage aroundthenpc jm npcnewsonlineofficialpage wahhabc',\n",
       " '',\n",
       " 'newsdenver wahhabc',\n",
       " '',\n",
       " 'ray photography',\n",
       " 'armbrustprogym sixdeuce usa armbrustprogym sixdeuce usa',\n",
       " 'instagramnyc timeoutnewyork nycgo travelandleisure city newyork beautifuldestinations nycprimeshot noyourcity pictures newyork loving newyork newyork instagram topnewyorkphoto createexplore saw nyc loves nyc createcommune new york city photo travellingthroughtheworld',\n",
       " 'instagramnyc instagood stonehengenyc nycgo nbcnewyork travelandleisure beautifuldestinations nycprimeshot loving newyork newyork instagram topnewyorkphoto createcultivate loves nyc createcommune newyorklike travellingthroughtheworld',\n",
       " 'absolutelyx absolutelyx',\n",
       " 'instagramnyc stonehengenyc nycgo travelandleisure lufthansa usa mastercardca city newyork beautifuldestinations nycprimeshot ig nycity pictures newyork usaprimeshot loving newyork newyork instagram topnewyorkphoto createexplore saw nyc loves nyc agameoftones travellingthroughtheworld',\n",
       " 'instagramnyc instagood nycgo cntraveler city newyork beautifuldestinations nycprimeshot pictures newyork newyork instagram topnewyorkphoto saw nyc loves nyc nyloveyou newyorklike travellingthroughtheworld',\n",
       " 'instagramnyc instagood stonehengenyc nycgo cntraveler mastercardca city newyork beautifuldestinations passionpassport nycprimeshot pictures newyork newyork instagram topnewyorkphoto saw nyc createcommune new york city photo newyorklike travellingthroughtheworld',\n",
       " 'stonehengenyc litaflita',\n",
       " 'instagramnyc nycgo cntraveler mastercardca city newyork beautifuldestinations nycprimeshot pictures newyork centralparknyc newyork instagram saw nyc travellingthroughtheworld',\n",
       " 'instagramnyc instagood timeoutnewyork nycgo instagram mastercardca beautifuldestinations passionpassport nycprimeshot pictures newyork loving newyork newyork instagram topnewyorkphoto saw nyc united states america nytimes newyorklike travellingthroughtheworld',\n",
       " 'instagramnyc instagood stonehengenyc nycgo mastercardca city newyork beautifuldestinations nycprimeshot pictures newyork loving newyork newyork instagram topnewyorkphoto saw nyc travellingthroughtheworld shooters pt',\n",
       " '',\n",
       " '',\n",
       " '',\n",
       " '',\n",
       " '',\n",
       " '',\n",
       " '',\n",
       " '',\n",
       " '',\n",
       " '',\n",
       " 'lavatibrand musikafrere musikafrere lavatibrand',\n",
       " 'asaprocky realtristan kingjames highfashionmen ilariaurbinati cristiano mensfashions menwithclass zaramen musikafrere thenotoriousmma leomessi gentlemenschoice menslaw mensuitsteam paulpogba',\n",
       " 'musikafrere kingjames highfashionmen menwithclass musikafrere highmenstyle leomessi menslaw paulpogba',\n",
       " '',\n",
       " 'jordanclarksons realtristan highfashionmen ilariaurbinati menwithclass manoftheworld musikafrere leomessi gentlemenschoice menslaw mensuitstyles mensfashion mensuitsteam paulpogba',\n",
       " 'musikafrere jordanclarksons kingjames ilariaurbinati menwithclass musikafrere gentlemenschoice menslaw',\n",
       " 'musikafrere jordanclarksons gq realtristan kingjames ilariaurbinati cristiano cp menwithclass musikafrere leomessi gentlemenschoice jimmooregq menslaw mensuitstyles mensuitsteam paulpogba',\n",
       " 'jordanclarksons mensfashionpost realtristan kingjames cp menwithclass manoftheworld musikafrere highmenstyle stevestoute gentlemenschoice jimmooregq menslaw mensuitsteam',\n",
       " 'musikafrere gq kingjames ilariaurbinati cp denisastefan menwithclass manoftheworld musikafrere stevestoute leomessi gentlemenschoice jimmooregq menslaw mensuitstyles mensuitsteam paulpogba',\n",
       " 'musikafrere asaprocky jordanclarksons gq realtristan kingjames cristiano cp denisastefan menwithclass manoftheworld musikafrere highmenstyle jimmooregq menslaw mensuitstyles mensuitsteam gqstyle paulpogba',\n",
       " '',\n",
       " '',\n",
       " 'william jordan',\n",
       " 'ac satco ac satco',\n",
       " 'sinister gen',\n",
       " 'topgearporschenj greenwichcarsandcoffee ducky lambo',\n",
       " 'jk arredondo',\n",
       " '',\n",
       " '',\n",
       " 'fuxwithmichael',\n",
       " 'semanthica',\n",
       " 'unacosaalgiorno erbabrusca alicedelcourt',\n",
       " '',\n",
       " '',\n",
       " '',\n",
       " '',\n",
       " '',\n",
       " '',\n",
       " '',\n",
       " '',\n",
       " '',\n",
       " '',\n",
       " '',\n",
       " '',\n",
       " 'mr austin mills',\n",
       " '',\n",
       " '',\n",
       " '',\n",
       " '',\n",
       " '',\n",
       " 'ontheroad',\n",
       " 'shopzenger shopzenger',\n",
       " 'thererumnatura',\n",
       " 'monalogue cutewildanimals',\n",
       " 'godive',\n",
       " 'hobopeeba',\n",
       " 'jamesjcruz',\n",
       " 'blue',\n",
       " 'mariasauh',\n",
       " 'dorpell',\n",
       " 'derekleeknives inktography inktography inktography inktography',\n",
       " 'heeterknifeworks americansteelworx rockytheriot americansteelworx desert blade works rockytheriot heeterknifeworks',\n",
       " 'sdunkhorstknives fineline sdunkhorstknives fineline',\n",
       " 'sdunkhorstknives fineline sdunkhorstknives fineline',\n",
       " 'borraskustomdesigns borraskustomdesigns',\n",
       " 'kochtools nicholsdamascus fubar designs snmetalwork kochtools theknifeclub epic blades fubar designs',\n",
       " 'derekleeknives inktography inktography inktography inktography',\n",
       " 'bmhknives widowmakerknives widowmakerknives bmhknives',\n",
       " 'lumablades dpc precision th element th element lumablades dpc precision',\n",
       " 'lumablades ekimknives lumablades',\n",
       " 'michaelkors topshop linzishoes ivyrevel',\n",
       " 'michaelkors topshop linzishoes ivyrevel wolford idealofsweden',\n",
       " 'myeyeswide yylinofficial brandedlabpr kaptenandson yylinofficial',\n",
       " 'missguided linzishoes officialrarelondon world fashion bloggers women style fashion voyage',\n",
       " 'sheinofficial nakdfashion ysl lovers',\n",
       " 'topshop',\n",
       " 'newlookfashion runawaythelabel vivichi official',\n",
       " 'seppalaofficial nakdfashion',\n",
       " 'idealofsweden bourjois uk idealofsweden officialrarelondon idealofsweden',\n",
       " 'ysl sheinofficial seppalaofficial freddyukireland',\n",
       " '',\n",
       " 'peel karin pavlova peel',\n",
       " '',\n",
       " 'jitkakynclova',\n",
       " '',\n",
       " 'folkmagazine ig hotels wilderness culture exklusive shot stayandwander visualofearth thegreatoutdoors roamnation',\n",
       " 'karlthefog folkmagazine ig hotels chasingfog wilderness culture exklusive shot rsa nature stayandwander thegreatoutdoors livefolk roamnation',\n",
       " 'sirondrej',\n",
       " '',\n",
       " '',\n",
       " 'der landgraf santanya der landgraf mike mercedesbenz rokenr elliottcole attasss benzpower martinheiss mercedesamg mbusa amg tdso mercedesbenzuk mboakville merc ed amguice turnbull mercedesbenz de gorden wagener',\n",
       " 'santanya der landgraf mike mercedesbenz rokenr elliottcole attasss martinheiss mercedesamg mbusa amg tdso benzblogger swizzcars mercedesbenzuk mboakville amguice turnbull mercedesbenz de gorden wagener',\n",
       " 'merc ed der landgraf mike mercedesbenz rokenr elliottcole attasss benzpower martinheiss mercedesamg amg tdso aehel mercedesbenzuk mboakville merc ed amguice turnbull mercedesbenz de velocitacars gorden wagener',\n",
       " 'santanya der landgraf mike mercedesbenz rokenr elliottcole attasss benzpower martinheiss mercedesamg mbusa amg tdso benzblogger mercedesbenzuk mboakville merc ed amguice turnbull mercedesbenz de gorden wagener',\n",
       " 'santanya der landgraf mike mercedesbenz rokenr elliottcole attasss benzpower martinheiss mercedesamg mbusa amg tdso benzblogger mercedesbenzuk mboakville merc ed amguice turnbull mercedesbenz de gorden wagener',\n",
       " 'santanya der landgraf mike mercedesbenz rokenr elliottcole attasss martinheiss mercedesamg mbusa amg tdso benzblogger swizzcars mercedesbenzuk mboakville merc ed amguice turnbull mercedesbenz de gorden wagener',\n",
       " 'der landgraf mike mercedesbenz rokenr elliottcole attasss benzpower martinheiss mercedesamg mbusa amg tdso benzblogger mercedesbenzuk mboakville merc ed amguice turnbull mercedesbenz de velocitacars gorden wagener',\n",
       " 'santanya der landgraf mike mercedesbenz elliottcole attasss martinheiss mercedesamg mbusa amg tdso mercedesbenzuk gercollector mboakville merc ed amguice turnbull mercedesbenz de velocitacars gorden wagener',\n",
       " 'santanya der landgraf mike mercedesbenz rokenr elliottcole attasss martinheiss mercedesamg amg tdso benzblogger swizzcars mercedesbenzuk mboakville merc ed amguice turnbull mercedesbenz de velocitacars gorden wagener',\n",
       " 'andreas amg velocitacars santanya der landgraf mike mercedesbenz rokenr elliottcole attasss martinheiss mercedesamg mbusa amg tdso mercedesbenzuk mboakville merc ed amguice turnbull mercedesbenz de velocitacars gorden wagener andreas amg',\n",
       " '',\n",
       " '',\n",
       " '',\n",
       " '',\n",
       " '',\n",
       " '',\n",
       " '',\n",
       " '',\n",
       " '',\n",
       " '',\n",
       " '',\n",
       " 'deandrehopkins deandrehopkins',\n",
       " '',\n",
       " 'cyfy phillywill stingray thom pson stingray cyfy thom pson phillywill',\n",
       " '',\n",
       " '',\n",
       " '',\n",
       " 'stingray stingray',\n",
       " '',\n",
       " '',\n",
       " 'wsl ripcurl aus monsterenergy dragonalliance kustomfootwear ocean earth jsindustries',\n",
       " 'wsl ripcurl aus monsterenergy dragonalliance kustomfootwear ocean earth jsindustries holdenaustralia tylerwright monsterenergy glenhall kustomfootwear ocean earth ripcurl aus kitaalexander jsindustries holdenaustralia microsurfacademy',\n",
       " 'kitaalexander holdenaustralia',\n",
       " 'ripcurl aus monsterenergy dragonalliance kustomfootwear ocean earth jsindustries boskophoto',\n",
       " 'jsindustries holdenaustralia ripcurl aus ripcurl aus jsindustries holdenaustralia',\n",
       " 'wsl ripcurl aus monsterenergy dragonalliance kustomfootwear ocean earth jsindustries',\n",
       " 'surfingworld seano corey wilson',\n",
       " 'wsl ripcurl aus monsterenergy dragonalliance kustomfootwear ocean earth jsindustries wsl',\n",
       " 'kitaalexander tylerwright microsurfacademy ripcurl aus ripcurl usa monsterenergy dragonalliance jsindustries kustomfootwear ocean earth tylerwright kitaalexander',\n",
       " 'wsl ripcurl aus monsterenergy dragonalliance kustomfootwear ocean earth jsindustries corey wilson',\n",
       " 'gavinmcclurg',\n",
       " '',\n",
       " 'natgeocreative',\n",
       " 'natgeocreative',\n",
       " 'natgeocreative',\n",
       " '',\n",
       " '',\n",
       " 'leicacamerausa',\n",
       " 'natgeocreative',\n",
       " 'leica camera leicacamerausa',\n",
       " '',\n",
       " 'visitcausewaycoastandglens elladvornik visitcausewaycoastandglens honor hrvatska',\n",
       " 'honor hrvatska visitcausewaycoastandglens instagiantscauseway honor hrvatska',\n",
       " 'honor hrvatska visitcausewaycoastandglens honor hrvatska',\n",
       " 'mango maisonvalentino ootdmagazine ootdsubmit ootd inspirations london street style milano streetstyle ootdbrowser street style paris ootd guliver ootdgals',\n",
       " '',\n",
       " 'elladvornik',\n",
       " 'elladvornik vida rode',\n",
       " 'bookingcom elladvornik',\n",
       " 'restaurantolo bookingcom',\n",
       " 'anishaxx danessa myricks danessa myricks embryolisseusa cozzette abracadabranyc alconeco nigelbeautyemporium frendsbeauty theofficialstockist camerareadycosmetics danessa myricks',\n",
       " 'gurumakeupemporium cozzette danessa myricks cozzette danessa myricks imatsofficial',\n",
       " 'themakeupshow abracadabranyc alconeco nigelbeautyemporium frendsbeauty danessa myricks danessa myricks',\n",
       " 'danessa myricks danessa myricks aniaama abracadabranyc alconeco nigelbeautyemporium frendsbeauty theofficialstockist camerareadycosmetics danessa myricks aniaama',\n",
       " 'abracadabranyc alconeco nigelbeautyemporium frendsbeauty danessa myricks themakeupshow danessa myricks anishaxx',\n",
       " 'danessa myricks danessa myricks damarislewis nickydoesmyhair danessa myricks embryoluusa limeloghtbyalcone cozzette cozzette benefitcosmetics abracadabranyc alconeco nigelbeautyemporium frendsbeauty theofficialstockist camerareadycosmetics damarislewis danessa myricks',\n",
       " 'danessa myricks danessa myricks cocoamane jeddakhan tassalieah danessa myricks makeupforeverofficial makeupforeverus cozzette abracadabranyc alconeco nigelbeautyemporium frendsbeauty editkit camerareadycosmetics cocoamane danessa myricks tasaleeah',\n",
       " 'themakeupshow themakeupshow danessa myricks',\n",
       " 'danessa myricks danessa myricks anishaxx danessa myricks danessa myricks abracadabranyc alconeco nigelbeautyemporium frendsbeauty editkit camerareadycosmetics danessa myricks anishaxx',\n",
       " 'danessa myricks danessa myricks mingyoungc danessa myricks danessa myricks benifitcismetics embryolisseusa cozzette cozzette kayvondbeauty staticnailsofficial abracadabranyc alconeco nigelbeautyemporium frendsbeauty editkit camerareadycosmetics minyoungc danessa myricks',\n",
       " 'copicmarker adultswim kuretakejapan',\n",
       " 'copicmarker adultswim kuretakejapan',\n",
       " 'copicmarker rickandmorty',\n",
       " 'copicmarker adultswim starburnsind kuretakejapan',\n",
       " 'copicmarker rickandmorty',\n",
       " 'copicmarker vancityreynolds',\n",
       " 'copicmarker rickandmorty',\n",
       " 'copicmarker',\n",
       " 'copicmarker',\n",
       " 'copicmarker',\n",
       " 'nicetourisme urlaubinfrankreich',\n",
       " 'nicetourisme urlaubinfrankreich',\n",
       " 'igersnice nicetourisme urlaubinfrankreich',\n",
       " 'itineramagica beautifuldestinations hyerestourisme itineramagica urlaubinfrankreich',\n",
       " 'hyerestourisme hotelprovencal urlaubinfrankreich',\n",
       " 'hyerestourisme nicetourisme urlaubinfrankreich',\n",
       " '',\n",
       " 'viennatouristboard prada albertinamuseum',\n",
       " 'checkvienna',\n",
       " 'viennatouristboard visitaustria checkvienna',\n",
       " 'sergeysuxov explorelusters',\n",
       " 'destinosimperdiveis traveler',\n",
       " 'addictedtomaldives tourexplorer',\n",
       " '',\n",
       " 'tourexplorer dimagetsaway',\n",
       " '',\n",
       " 'traveler jodymcdonaldphoto',\n",
       " 'mauricetravelphotos',\n",
       " '',\n",
       " 'asteroidv',\n",
       " 'architecten',\n",
       " '',\n",
       " '',\n",
       " 'hansverstuyftarchitecten',\n",
       " '',\n",
       " '',\n",
       " 'heartlydesignstudio derek swalwell derek swalwell kate sees heartlydesignstudio',\n",
       " 'emaphotographi emaphotographi',\n",
       " 'designwanted',\n",
       " '',\n",
       " 'natgeo natgeocreative thephotosociety',\n",
       " 'natgeo natgeocreative thephotosociety',\n",
       " 'natgeo thephotosociety natgeocreative',\n",
       " 'natgeo natgeocreative thephotosociety',\n",
       " 'sleepingcars sleepingcars natgeo thephotosociety natgeocreative',\n",
       " 'natgeo thephotosociety natgeo natgeocreative',\n",
       " 'douglaskirkland',\n",
       " 'thephotosociety natgeo natgeocreative theimagereview',\n",
       " 'kirbase balashovenator natgeo thephotosociety natgeocreative theimagereview',\n",
       " 'thephotosociety natgeo natgeocreative theimagereview',\n",
       " '',\n",
       " '',\n",
       " '',\n",
       " 'thescottycunha matrix matrix',\n",
       " '',\n",
       " 'josephcrumley asos hm rayban desertx',\n",
       " '',\n",
       " 'frankandoak hm rayban luckybrand zara',\n",
       " '',\n",
       " '',\n",
       " 'facusantana editoraphotosoficial',\n",
       " 'flavioiwai flavioiwai editoraphotosoficial',\n",
       " 'guilhermebastian guilhermebastian editoraphotosoficial',\n",
       " 'rafapetrocco guitichauer guitichauer editoraphotosoficial',\n",
       " 'anacariane editoraphotosoficial rafapetrocco',\n",
       " 'vi guimaraes tiago lambao cltfotografia',\n",
       " 'anacariane anacariane editoraphotosoficial rafapetrocco',\n",
       " 'nelliefoto',\n",
       " '',\n",
       " 'henriqueribas henriqueribas alekeese grupophotopro',\n",
       " '',\n",
       " '',\n",
       " '',\n",
       " '',\n",
       " '',\n",
       " '',\n",
       " '',\n",
       " '',\n",
       " '',\n",
       " '',\n",
       " 'witness change equalityja logotv',\n",
       " 'hammond robin noorimages logotv impossible hq witness change whereloveisillegal',\n",
       " 'witness change equalityja logotv',\n",
       " 'witness change equalityja logotv',\n",
       " 'hammond robin noorimages logotv impossible hq witness change whereloveisillegal',\n",
       " 'witness change equalityja logotv',\n",
       " 'witness change equalityja logotv',\n",
       " 'witness change equalityja logotv',\n",
       " 'witness change equalityja logotv',\n",
       " 'witness change equalityja logotv',\n",
       " '',\n",
       " '',\n",
       " '',\n",
       " '',\n",
       " 'ccrain',\n",
       " 'katespadeny',\n",
       " 'maccosmetics',\n",
       " '',\n",
       " 'wendystapletonreyes diegoreyesduque villabianca',\n",
       " '',\n",
       " 'lovelystreetsofficial ikeaspain',\n",
       " 'abeautifulmess darling pantone rubirroja acolorstory',\n",
       " 'abeautifulmess rubirroja acolorstory',\n",
       " '',\n",
       " 'smallable store abeautifulmess pennyskateboards rubirroja acolorstory smallable store',\n",
       " 'annariflebond riflepaperco',\n",
       " 'pantone',\n",
       " 'rubirroja disney pixar disneyspain',\n",
       " 'planetadelibros',\n",
       " '',\n",
       " 'yoga girl',\n",
       " 'gopro world',\n",
       " 'dennisfromsalad',\n",
       " 'yoga girl sgtpeppersfriends',\n",
       " 'yoga girl dennisfromsalad sodalime penny thegoat',\n",
       " 'yoga girl dennisfromsalad sodalime',\n",
       " 'yoga girl',\n",
       " 'philip merryweather',\n",
       " 'yoga girl penny thegoat',\n",
       " 'yoga girl',\n",
       " 'jessiann gravel lachowski milolaslo',\n",
       " 'mountaincreek pierce mountaincreek pierce allmountainstyle',\n",
       " 'pierce jessiann gravel pierce',\n",
       " 'allmountainstyle',\n",
       " 'lachowski milolaslo facefactory paris',\n",
       " 'lachowski milolaslo sozzirenata lachowski milolaslo',\n",
       " 'liujouomoofficial byronmollinedo anna bollati mimmodimaggio byronmollinedo anna bollati liujouomoofficial',\n",
       " 'chico lachowski yearbookfanzine karl simone wilhelmina asafganot taylorhendrich clientmagazine',\n",
       " 'jessiann gravel lachowski milolaslo',\n",
       " 'giovannisquatriti giovannisquatriti whynotmodels',\n",
       " 'liketoknow nordstrom nordstrom',\n",
       " 'liketoknow nordstrom liketoknow',\n",
       " 'liketoknow liketoknow',\n",
       " 'liketoknow liketoknow',\n",
       " 'liketoknow liketoknow',\n",
       " 'liketoknow liketoknow',\n",
       " 'jcrew jenniferlake palmbeachlately jcrew jcrew jcrew shopstyle jcrew',\n",
       " '',\n",
       " '',\n",
       " 'liketoknow liketoknow',\n",
       " 'time theashleygraham imgmodels',\n",
       " 'time bandrybarry time',\n",
       " 'time time johnlegend chrissyteigen mssarahcatharinepaulson',\n",
       " 'dior',\n",
       " 'cnnpolitics',\n",
       " '',\n",
       " '',\n",
       " '',\n",
       " '',\n",
       " 'spaldingnixfineart blackcattips sitabellan blackcattips itsjeremyscott spaldingnixfineart',\n",
       " 'jmarkwallace jmarkwallace',\n",
       " 'thegavinhoey thegavinhoey',\n",
       " 'cristinamittermeier sonyalpha cristinamittermeier',\n",
       " 'insighting',\n",
       " 'oveck monaris saradietschy andyto timbuz stevesweatpants oveck onabags dave krugman sonyalpha',\n",
       " 'chrisburkard chrisburkard',\n",
       " 'chrisburkard chrisburkard chrisburkard yeahfieldtrip',\n",
       " 'oveck monaris timbuz andyto dave stevesweatpants saradietschy sonyalpha filmfernando bunnyfromtheblock lucky fourteen irwinrommel nicolepickles jennifer alainmenox desboylan cubaphoto onabags bunnyfromtheblock monaris saradietschy filmfernando andyto timbuz nicolepickles stevesweatpants oveck irwinrommel bunnyfromtheblock onabags dave krugman jennifer desboylan alainmenox sonyalpha cubaphoto lucky fourteen',\n",
       " 'stevesweatpants streetdreamsmag sonyalpha',\n",
       " 'monaris monaris monaris sonyalpha',\n",
       " '',\n",
       " '',\n",
       " 'happykingdom happykingdom kz',\n",
       " '',\n",
       " '',\n",
       " 'rouge almaty rouge almaty',\n",
       " 'happykingdom happykingdom kz',\n",
       " 'guerlain bobbibrown',\n",
       " '',\n",
       " '',\n",
       " '',\n",
       " '',\n",
       " '',\n",
       " 'studio laura',\n",
       " '',\n",
       " '',\n",
       " '',\n",
       " '',\n",
       " 'thephotosociety',\n",
       " '',\n",
       " '',\n",
       " '',\n",
       " '',\n",
       " '',\n",
       " '',\n",
       " '',\n",
       " 'faces faces salon',\n",
       " 'daviddefranco alfredochiari',\n",
       " '',\n",
       " '',\n",
       " 'outlinedcloth nytimesfashion oakstreetbootmakers independencechicago orslow knickerbockermfgco levis vintage clothing gqreport clutchmagazinejapan milwaukeemag buzzfeedstyle gqtaiwan outlinedcloth adam mar',\n",
       " 'dressedtoill normanrussell isatv taylorstitch jshoes grayers rayban gqreport complexstyle buzzfeedstyle gqtaiwan snobshots',\n",
       " 'mrporterlive whhitneyy nytimesfashion normanrussell taylorstitch britishgq outfitgrid manwomanshows honda libertyfairs studebakermetals moonstar jp freenotecloth gqreport gq korea clutchmagazinejapan buzzfeedstyle gqtaiwan witandco maisonmargielafragrances',\n",
       " 'bonobos vans apolis chupsocks shopcovry craighillcompany',\n",
       " 'radiomilwaukee bucks mkefilm carharttwip visitmilwaukee brewers discoverwisconsin raleighdenimworkshop onmilwaukee milwaukeepublicmarket fox andersonsbelts gqreport alexmillny mke city milwaukeemag milwaukee day jcrewmens snobshots todaystmj',\n",
       " 'thevallenalexander rgt stetsonusa shockoe atelier nikesportswear mke city thevallenalexander',\n",
       " 'projectshow kabanko murasekabanko naskademini rgt projectshow naskademini kirikomade shockoe atelier yuketenbymegco anonymousism japan kabanko murasekabanko',\n",
       " 'danielwellington danielwellington articlegoods maisonmargielafragrances',\n",
       " 'gucci steveyeun nytimesfashion targetstyle dapperlou louisvuitton lckingmfg velvasheen gqreport gq korea clutchmagazinejapan complexstyle buzzfeedstyle gqtaiwan jcrewmens shopcovry pursuitofportraits snobshots popeye magazine official',\n",
       " 'spruceshop corporatelobbyist everydaydrew nytimesfashion bucks visitmilwaukee ishdarr corporatelobbyist trustedkicks onmilwaukee gqreport esquire gq korea clutchmagazinejapan spruceshop buzzfeedstyle gqtaiwan gqjapan snobshots westinmilwaukee',\n",
       " '',\n",
       " '',\n",
       " '',\n",
       " '',\n",
       " '',\n",
       " 'nashdarwish bolognawelcome',\n",
       " 'thexx nashdarwish thexx',\n",
       " 'tramping dutchman tramping dutchman',\n",
       " 'susangrim',\n",
       " '',\n",
       " '',\n",
       " 'nicecream linasaber',\n",
       " 'linasaber spoonuniversity beautifulcuisines letscookvegan liveaustralia',\n",
       " 'food selfmagazine instagram stylerunner linasaber beautifulcuisines letscookvegan veganfoodspot buzzfeedhealth nicecream',\n",
       " '',\n",
       " 'linasaber letscookvegan nicecream',\n",
       " 'nicecream linasaber beautifulcuisines letscookvegan liveaustralia nicecream livefeeling',\n",
       " 'linasaber letscookvegan liveaustralia nicecream livefeeling',\n",
       " 'linasaber liveaustralia',\n",
       " 'linasaber',\n",
       " 'catalunyaexperience cntraveler bestvacations wonderful places beautifuldestinations paradise earthpix lapedrera barcelona visitbarcelona beautifulmatters spain topbarcelonaphoto spain vacations beautifulhomes travellingthroughtheworld wonderfuldestinations instagramfr living europe hello rooftops hello worldpics',\n",
       " 'giovanna jeanne cntraveler bestvacations wonderful places parisjetaime beautifuldestinations paradise earthpix super france giovanna jeanne dametraveler topparisphoto topeuropephoto topfrancephoto martsetmetiers travellingthroughtheworld wonderfuldestinations hello france instagramfr living europe paris',\n",
       " 'loweprofrance aurore alifanti catalunyaexperience cntraveler bestvacations wonderful places loweprobags beautifuldestinations paradise earthpix barcelona barcelona visitbarcelona spain topbarcelonaphoto spain vacations topeuropephoto aurore alifanti travellingthroughtheworld wonderfuldestinations loweprofrance living europe hello worldpics',\n",
       " 'cntraveler bestvacations wonderful places beautifuldestinations paradise earthpix super france manchetourisme dametraveler merveillesdefrance topeuropephoto topfrancephoto sunset vision travellingthroughtheworld wonderfuldestinations hello france instagramfr france vacations living europe tourisme normandie',\n",
       " 'cntraveler bestvacations wonderful places parisjetaime beautifuldestinations paradise earthpix super france paris maville forbestravelguide topparisphoto topeuropephoto topfrancephoto travellingthroughtheworld wonderfuldestinations hello france instagramfr living europe paris hello rooftops',\n",
       " 'visittheusa cntraveler bestvacations wonderful places bplboston bostonglobe beautifuldestinations paradise earthpix boston usaprimeshot beautifulmatters bestintravel travellingthroughtheworld wonderfuldestinations instagramfr best city shots hello worldpics living destinations world vacations',\n",
       " 'labnf inha fr cntraveler bestvacations wonderful places parisjetaime beautifuldestinations paradise earthpix super france paris maville beautifulmatters topparisphoto labnf topeuropephoto topfrancephoto travellingthroughtheworld wonderfuldestinations hello france instagramfr living europe paris',\n",
       " 'cntraveler bestvacations wonderful places parisjetaime beautifuldestinations paradise earthpix super france paris maville boulogne billancourt beautifulmatters topparisphoto topeuropephoto topfrancephoto travellingthroughtheworld wonderfuldestinations hello france instagramfr living europe laseinemusicale',\n",
       " 'theclubsingapore singapour visit singapore cntraveler bestvacations wonderful places visit singapore beautifuldestinations paradise earthpix exploresingapore ig asia igs asia singaporetoday nikonasia travellingthroughtheworld theclubsingapore wonderfuldestinations ratp singapour tourisme asia vacations hello worldpics living destinations',\n",
       " 'fsparis lacerti lacerti fourseasons fsparis cntraveler bestvacations wonderful places parisjetaime beautifuldestinations earthpix super france beautifulhotels beautifulmatters dametraveler topparisphoto topeuropephoto topfrancephoto travellingthroughtheworld wonderfuldestinations hello france living europe',\n",
       " 'belmondlemanoir',\n",
       " 'crystalcruises',\n",
       " '',\n",
       " 'mo ly',\n",
       " 'mo ly',\n",
       " 'belmondlemanoir',\n",
       " 'sassyandcohairandbeauty sassyandcohairandbeauty',\n",
       " 'abbiemartin lexy caitlin samanthajane meganguardd samanthajane lexy caitlin abbiemartin',\n",
       " 'bryonycreighton',\n",
       " '',\n",
       " '',\n",
       " 'emilvilain',\n",
       " 'emilvilain rasmusvilain',\n",
       " '',\n",
       " '',\n",
       " '',\n",
       " '',\n",
       " 'emilvilain',\n",
       " 'emilvilain',\n",
       " 'emilvilain rasmusvilain',\n",
       " ...]"
      ]
     },
     "execution_count": 44,
     "metadata": {},
     "output_type": "execute_result"
    }
   ],
   "source": [
    "clean_mentions"
   ]
  },
  {
   "cell_type": "code",
   "execution_count": 45,
   "metadata": {
    "collapsed": false,
    "scrolled": true
   },
   "outputs": [
    {
     "data": {
      "text/plain": [
       "(20740, 250)"
      ]
     },
     "execution_count": 45,
     "metadata": {},
     "output_type": "execute_result"
    }
   ],
   "source": [
    "clean_mentions_vectorizer = CountVectorizer(analyzer = \"word\", tokenizer = None, preprocessor = None, stop_words = None, max_features = 250) \n",
    "clean_mentions_features = clean_mentions_vectorizer.fit_transform(clean_mentions)\n",
    "clean_mentions_features = clean_mentions_features.toarray()\n",
    "clean_mentions_features.shape"
   ]
  },
  {
   "cell_type": "code",
   "execution_count": 46,
   "metadata": {
    "collapsed": false
   },
   "outputs": [
    {
     "name": "stdout",
     "output_type": "stream",
     "text": [
      "['adidas', 'adidasoriginals', 'agameoftones', 'americanstyle', 'anastasiabeverlyhills', 'andy', 'art', 'artofvisuals', 'arts', 'asos', 'au', 'australia', 'austria', 'awesome', 'awesomeglobe', 'bbc', 'beautifulcuisines', 'beautifuldestinations', 'beautifulhotels', 'beautifulmatters', 'best', 'bestmeow', 'bestvacations', 'bestwoof', 'bloglovin', 'bmw', 'bnw', 'buzzfeedfood', 'canon', 'canondeutschland', 'canonusa', 'cars', 'chanelofficial', 'chique', 'chloe', 'city', 'cntraveler', 'co', 'coachella', 'color', 'com', 'complex', 'culture', 'daily', 'dametraveler', 'danessa', 'danielwellington', 'de', 'dior', 'discoverglobe', 'djiglobal', 'dogs', 'dotzsoh', 'earth', 'earthfocus', 'earthofficial', 'earthpix', 'ericdamier', 'es', 'esteelauder', 'europe', 'exklusive', 'explorecanada', 'fantastic', 'fashion', 'fashiongoalsz', 'fashionzine', 'fitness', 'flatlays', 'folkmagazine', 'folkscenery', 'food', 'foodandwine', 'foodnetwork', 'forever', 'france', 'frenchie', 'frique', 'fubiz', 'getnicefashion', 'gopro', 'guardiantravelsnaps', 'gucci', 'hairsandstyles', 'heatercentral', 'hello', 'highsnobiety', 'hm', 'home', 'hotels', 'hudabeauty', 'huffposttaste', 'hypebeast', 'ig', 'india', 'indian', 'infatuation', 'inflowtravel', 'inspirations', 'insta', 'instagood', 'instagram', 'italia', 'italiainunoscatto', 'italiait', 'italian', 'italianlandscapes', 'italy', 'japan', 'kings', 'kissinfashion', 'la', 'le', 'lego', 'levis', 'life', 'lifestyle', 'liketoknow', 'lilac', 'lillylashes', 'livefolk', 'living', 'lombardia', 'london', 'lonelyplanet', 'louisvuitton', 'love', 'lovegreatbritain', 'loves', 'luxury', 'luxuryworldtraveler', 'maccosmetics', 'magazine', 'main', 'makeupforeverofficial', 'man', 'mango', 'men', 'mensfashion', 'mensfashionpost', 'mensfashions', 'menwithclass', 'menwithstreetstyle', 'mercedesbenz', 'mike', 'milano', 'millionaire', 'moodygrams', 'musikafrere', 'myricks', 'nakdfashion', 'natgeo', 'natgeocreative', 'natgeotravel', 'nature', 'newyork', 'nordstrom', 'nyc', 'nyxcosmetics', 'official', 'ootd', 'ootdmagazine', 'ootdmen', 'ootdsubmit', 'orvieto', 'ourplanetdaily', 'paris', 'passionpassport', 'photo', 'photographers', 'photography', 'photos', 'pix', 'pixeltheplanet', 'places', 'plushladies', 'project', 'quayaustralia', 'raw', 'rayban', 'repostapp', 'revolve', 'roamtheplanet', 'rtpintomedia', 'selection', 'shot', 'shots', 'shotz', 'simple', 'soft', 'sonyalpha', 'spain', 'stayandwander', 'stevewinterphoto', 'street', 'streetstyle', 'streetstyleluxe', 'style', 'stylefriques', 'styles', 'sunset', 'super', 'tartecosmetics', 'thefeedfeed', 'thefullcolors', 'thegreatoutdoors', 'thenorthface', 'thephotosociety', 'thevisualscollective', 'toofaced', 'top', 'topeuropephoto', 'topshop', 'travel', 'travelandleisure', 'travelawesome', 'travelchannel', 'travellingthroughtheworld', 'tv', 'uk', 'united', 'urbandecaycosmetics', 'urlaubinfrankreich', 'us', 'usa', 'vacations', 'vans', 'vision', 'visit', 'visitcalifornia', 'visitflorida', 'visitnsw', 'visitsouthtyrol', 'visittallinn', 'visualsoflife', 'vogue', 'vsco', 'wakeupandmakeup', 'wearetravelgirls', 'westernaustralia', 'wilderness', 'windsorstore', 'wolf', 'women', 'wonderful', 'world', 'worldwide', 'yoga', 'ysl', 'zara']\n"
     ]
    }
   ],
   "source": [
    "vocab = clean_mentions_vectorizer.get_feature_names()\n",
    "print(vocab)"
   ]
  },
  {
   "cell_type": "markdown",
   "metadata": {},
   "source": [
    "# Localization"
   ]
  },
  {
   "cell_type": "code",
   "execution_count": 47,
   "metadata": {
    "collapsed": false
   },
   "outputs": [
    {
     "data": {
      "text/plain": [
       "'Vancouver, British Columbia'"
      ]
     },
     "execution_count": 47,
     "metadata": {},
     "output_type": "execute_result"
    }
   ],
   "source": [
    "data['localization'][23]"
   ]
  },
  {
   "cell_type": "code",
   "execution_count": 48,
   "metadata": {
    "collapsed": true
   },
   "outputs": [],
   "source": [
    "sentence, emojis = cleanup(data['localization'][23])"
   ]
  },
  {
   "cell_type": "code",
   "execution_count": 49,
   "metadata": {
    "collapsed": false
   },
   "outputs": [
    {
     "data": {
      "text/plain": [
       "'vancouver british columbia'"
      ]
     },
     "execution_count": 49,
     "metadata": {},
     "output_type": "execute_result"
    }
   ],
   "source": [
    "sentence"
   ]
  },
  {
   "cell_type": "code",
   "execution_count": 50,
   "metadata": {
    "collapsed": false
   },
   "outputs": [
    {
     "data": {
      "text/plain": [
       "''"
      ]
     },
     "execution_count": 50,
     "metadata": {},
     "output_type": "execute_result"
    }
   ],
   "source": [
    "emojis"
   ]
  },
  {
   "cell_type": "code",
   "execution_count": 51,
   "metadata": {
    "collapsed": false
   },
   "outputs": [
    {
     "name": "stdout",
     "output_type": "stream",
     "text": [
      "5% done\n",
      "10% done\n",
      "14% done\n",
      "19% done\n",
      "24% done\n",
      "29% done\n",
      "34% done\n",
      "39% done\n",
      "43% done\n",
      "48% done\n",
      "53% done\n",
      "yes\n",
      "yes\n",
      "yes\n",
      "58% done\n",
      "63% done\n",
      "67% done\n",
      "72% done\n",
      "77% done\n",
      "82% done\n",
      "87% done\n",
      "92% done\n",
      "96% done\n"
     ]
    }
   ],
   "source": [
    "clean_places = []\n",
    "clean_places_emojis = []\n",
    "for i in range( 0, data['localization'].size ):\n",
    "    if( (i+1)%1000 == 0 ):\n",
    "        print(str(round(i/20740*100))+\"% done\")\n",
    "    x,y = cleanup(data['localization'][i])\n",
    "    if len(y) > 0:\n",
    "        print('yes')\n",
    "    clean_places.append(x)\n",
    "    clean_places_emojis.append(y)"
   ]
  },
  {
   "cell_type": "code",
   "execution_count": 52,
   "metadata": {
    "collapsed": false
   },
   "outputs": [
    {
     "name": "stdout",
     "output_type": "stream",
     "text": [
      "♥\n",
      "♥\n",
      "♥\n"
     ]
    }
   ],
   "source": [
    "for i in range(20740):\n",
    "    if clean_places_emojis[i]:\n",
    "        print(clean_places_emojis[i])"
   ]
  },
  {
   "cell_type": "code",
   "execution_count": 127,
   "metadata": {
    "collapsed": false
   },
   "outputs": [
    {
     "data": {
      "text/plain": [
       "(20740, 250)"
      ]
     },
     "execution_count": 127,
     "metadata": {},
     "output_type": "execute_result"
    }
   ],
   "source": [
    "clean_places_vectorizer = CountVectorizer(analyzer = \"word\", tokenizer = None, preprocessor = None, stop_words = None, max_features = 250) \n",
    "clean_places_features = clean_places_vectorizer.fit_transform(clean_places)\n",
    "clean_places_features = clean_places_features.toarray()\n",
    "clean_places_features.shape"
   ]
  },
  {
   "cell_type": "code",
   "execution_count": 128,
   "metadata": {
    "collapsed": false
   },
   "outputs": [
    {
     "name": "stdout",
     "output_type": "stream",
     "text": [
      "['abu', 'airport', 'alberta', 'amsterdam', 'angeles', 'arab', 'arizona', 'art', 'arts', 'atlanta', 'australia', 'austria', 'bali', 'banff', 'bar', 'barcelona', 'bay', 'beach', 'berlin', 'beverly', 'big', 'blue', 'bologna', 'bondi', 'boston', 'brazil', 'bridge', 'brighton', 'british', 'brooklyn', 'cafe', 'california', 'canyon', 'cape', 'carolina', 'casa', 'castle', 'cathedral', 'center', 'central', 'centre', 'centro', 'ch', 'chelsea', 'chicago', 'china', 'city', 'club', 'coachella', 'coast', 'coffee', 'colombia', 'colorado', 'columbia', 'copenhagen', 'costa', 'crescent', 'cuba', 'dallas', 'dame', 'de', 'del', 'denmark', 'des', 'desert', 'di', 'diego', 'disney', 'district', 'dolomiti', 'downtown', 'du', 'dubai', 'duomo', 'earth', 'east', 'eiffel', 'el', 'emirates', 'estonia', 'falls', 'festival', 'fitness', 'florence', 'florida', 'forest', 'four', 'france', 'francisco', 'garden', 'gardens', 'georgia', 'germany', 'grand', 'greece', 'hamburg', 'havana', 'hill', 'hills', 'hollywood', 'hong', 'hotel', 'house', 'iceland', 'illinois', 'india', 'indio', 'indonesia', 'institute', 'international', 'island', 'islands', 'istanbul', 'italia', 'italy', 'jakarta', 'janeiro', 'japan', 'jordan', 'jos', 'kingdom', 'kong', 'kyoto', 'la', 'lago', 'lake', 'las', 'lavaredo', 'le', 'lisbon', 'london', 'los', 'ltd', 'madrid', 'maldives', 'malibu', 'mall', 'manhattan', 'marina', 'market', 'massachusetts', 'melbourne', 'mexico', 'miami', 'milan', 'milano', 'monte', 'montreal', 'morocco', 'moscow', 'mount', 'mountain', 'munich', 'museum', 'music', 'naples', 'national', 'netherlands', 'nevada', 'new', 'newport', 'north', 'norway', 'notre', 'nyc', 'old', 'ontario', 'oregon', 'orvieto', 'paine', 'palm', 'paris', 'park', 'paulo', 'petersburg', 'piazza', 'pier', 'place', 'planet', 'playa', 'plaza', 'point', 'portugal', 'queensland', 'republic', 'reserve', 'resort', 'restaurant', 'rio', 'ritz', 'rock', 'rome', 'russia', 'saint', 'san', 'santa', 'santorini', 'sea', 'seasons', 'singapore', 'soho', 'south', 'spa', 'spain', 'springs', 'square', 'st', 'state', 'station', 'stockholm', 'street', 'studio', 'sur', 'sweden', 'switzerland', 'sydney', 'tallinn', 'tel', 'texas', 'thailand', 'tokyo', 'toronto', 'torres', 'tour', 'tower', 'town', 'tre', 'turkey', 'ubud', 'united', 'usa', 'val', 'valencia', 'valley', 'vancouver', 'vegas', 'venezia', 'venice', 'victoria', 'vienna', 'village', 'wales', 'washington', 'west', 'western', 'williamsburg', 'world', 'york', 'yosemite', 'zealand']\n"
     ]
    }
   ],
   "source": [
    "vocab = clean_places_vectorizer.get_feature_names()\n",
    "print(vocab)"
   ]
  },
  {
   "cell_type": "code",
   "execution_count": 112,
   "metadata": {
    "collapsed": false
   },
   "outputs": [],
   "source": [
    "#dataset1 = np.hstack((clean_places_features,clean_mentions_features,clean_tag_features,clean_user_features,clean_features))\n",
    "#dataset1 = np.hstack((clean_places_features, clean_features))\n",
    "dataset2 = np.hstack((data.numberFollowers.as_matrix().reshape(20740,1), data.numberFollowing.as_matrix().reshape(20740,1), data.numberPosts.as_matrix().reshape(20740,1)))"
   ]
  },
  {
   "cell_type": "code",
   "execution_count": 113,
   "metadata": {
    "collapsed": false
   },
   "outputs": [
    {
     "data": {
      "text/plain": [
       "(20740, 500)"
      ]
     },
     "execution_count": 113,
     "metadata": {},
     "output_type": "execute_result"
    }
   ],
   "source": [
    "dataset1.shape"
   ]
  },
  {
   "cell_type": "code",
   "execution_count": 172,
   "metadata": {
    "collapsed": false
   },
   "outputs": [],
   "source": [
    "#dataset = np.hstack((dataset1,dataset2))\n",
    "dataset = np.hstack((clean_features,dataset2))"
   ]
  },
  {
   "cell_type": "code",
   "execution_count": 173,
   "metadata": {
    "collapsed": false
   },
   "outputs": [
    {
     "data": {
      "text/plain": [
       "(20740, 253)"
      ]
     },
     "execution_count": 173,
     "metadata": {},
     "output_type": "execute_result"
    }
   ],
   "source": [
    "dataset.shape"
   ]
  },
  {
   "cell_type": "code",
   "execution_count": 174,
   "metadata": {
    "collapsed": true
   },
   "outputs": [],
   "source": [
    "import xgboost as xgb\n",
    "from sklearn.model_selection import GridSearchCV"
   ]
  },
  {
   "cell_type": "code",
   "execution_count": 175,
   "metadata": {
    "collapsed": false
   },
   "outputs": [],
   "source": [
    "parameters = {\n",
    "         }\n",
    "xg = GridSearchCV(xgb.XGBRegressor(), parameters, cv = 5, scoring = 'neg_mean_squared_error', verbose=100)"
   ]
  },
  {
   "cell_type": "code",
   "execution_count": 176,
   "metadata": {
    "collapsed": false
   },
   "outputs": [
    {
     "name": "stdout",
     "output_type": "stream",
     "text": [
      "Fitting 5 folds for each of 1 candidates, totalling 5 fits\n",
      "[CV]  ................................................................\n",
      "[CV] ....................... , score=-8114467289.154094, total=   3.2s\n",
      "[Parallel(n_jobs=1)]: Done   1 out of   1 | elapsed:    3.3s remaining:    0.0s\n",
      "[CV]  ................................................................\n",
      "[CV] ....................... , score=-9695777527.818127, total=   2.7s\n",
      "[Parallel(n_jobs=1)]: Done   2 out of   2 | elapsed:    6.1s remaining:    0.0s\n",
      "[CV]  ................................................................\n",
      "[CV] ...................... , score=-12057256868.057964, total=   2.7s\n",
      "[Parallel(n_jobs=1)]: Done   3 out of   3 | elapsed:    8.9s remaining:    0.0s\n",
      "[CV]  ................................................................\n",
      "[CV] ....................... , score=-8052137038.289817, total=   2.7s\n",
      "[Parallel(n_jobs=1)]: Done   4 out of   4 | elapsed:   11.7s remaining:    0.0s\n",
      "[CV]  ................................................................\n",
      "[CV] ...................... , score=-11939168163.799667, total=   2.7s\n",
      "[Parallel(n_jobs=1)]: Done   5 out of   5 | elapsed:   14.5s remaining:    0.0s\n",
      "[Parallel(n_jobs=1)]: Done   5 out of   5 | elapsed:   14.5s finished\n"
     ]
    },
    {
     "data": {
      "text/plain": [
       "-9971761377.4239349"
      ]
     },
     "execution_count": 176,
     "metadata": {},
     "output_type": "execute_result"
    }
   ],
   "source": [
    "xg.fit(dataset, np.ravel(data.numberLikes))\n",
    "xg.best_score_"
   ]
  },
  {
   "cell_type": "code",
   "execution_count": 189,
   "metadata": {
    "collapsed": false
   },
   "outputs": [
    {
     "data": {
      "text/plain": [
       "-9971761377.423933"
      ]
     },
     "execution_count": 189,
     "metadata": {},
     "output_type": "execute_result"
    }
   ],
   "source": [
    "from sklearn.model_selection import cross_val_score\n",
    "model = xgb.XGBRegressor()\n",
    "scores = cross_val_score(model, dataset, np.ravel(data.numberLikes), cv=5, scoring = 'neg_mean_squared_error')\n",
    "np.mean(scores)"
   ]
  },
  {
   "cell_type": "code",
   "execution_count": 190,
   "metadata": {
    "collapsed": false
   },
   "outputs": [],
   "source": [
    "from sklearn.cross_validation import train_test_split"
   ]
  },
  {
   "cell_type": "code",
   "execution_count": 191,
   "metadata": {
    "collapsed": true
   },
   "outputs": [],
   "source": [
    "x_train, x_test, y_train, y_test = train_test_split(dataset, np.ravel(data.numberLikes), test_size=0.2, random_state=42)"
   ]
  },
  {
   "cell_type": "code",
   "execution_count": 192,
   "metadata": {
    "collapsed": false
   },
   "outputs": [
    {
     "data": {
      "text/plain": [
       "XGBRegressor(base_score=0.5, colsample_bylevel=1, colsample_bytree=1, gamma=0,\n",
       "       learning_rate=0.1, max_delta_step=0, max_depth=3,\n",
       "       min_child_weight=1, missing=None, n_estimators=100, nthread=-1,\n",
       "       objective='reg:linear', reg_alpha=0, reg_lambda=1,\n",
       "       scale_pos_weight=1, seed=0, silent=True, subsample=1)"
      ]
     },
     "execution_count": 192,
     "metadata": {},
     "output_type": "execute_result"
    }
   ],
   "source": [
    "model = xgb.XGBRegressor()\n",
    "model.fit(x_train, y_train)"
   ]
  },
  {
   "cell_type": "code",
   "execution_count": 193,
   "metadata": {
    "collapsed": false
   },
   "outputs": [
    {
     "data": {
      "text/plain": [
       "0.48517030551434759"
      ]
     },
     "execution_count": 193,
     "metadata": {},
     "output_type": "execute_result"
    }
   ],
   "source": [
    "model.score(x_test,y_test)"
   ]
  },
  {
   "cell_type": "code",
   "execution_count": 196,
   "metadata": {
    "collapsed": false
   },
   "outputs": [],
   "source": [
    "testing = model.predict(x_test)"
   ]
  },
  {
   "cell_type": "code",
   "execution_count": 201,
   "metadata": {
    "collapsed": false
   },
   "outputs": [
    {
     "data": {
      "text/plain": [
       "86009.141"
      ]
     },
     "execution_count": 201,
     "metadata": {},
     "output_type": "execute_result"
    }
   ],
   "source": [
    "testing[4]"
   ]
  },
  {
   "cell_type": "code",
   "execution_count": 202,
   "metadata": {
    "collapsed": false
   },
   "outputs": [
    {
     "data": {
      "text/plain": [
       "144000"
      ]
     },
     "execution_count": 202,
     "metadata": {},
     "output_type": "execute_result"
    }
   ],
   "source": [
    "y_test[4]"
   ]
  },
  {
   "cell_type": "code",
   "execution_count": null,
   "metadata": {
    "collapsed": true
   },
   "outputs": [],
   "source": []
  }
 ],
 "metadata": {
  "kernelspec": {
   "display_name": "Python 3",
   "language": "python",
   "name": "python3"
  },
  "language_info": {
   "codemirror_mode": {
    "name": "ipython",
    "version": 3
   },
   "file_extension": ".py",
   "mimetype": "text/x-python",
   "name": "python",
   "nbconvert_exporter": "python",
   "pygments_lexer": "ipython3",
   "version": "3.6.0"
  }
 },
 "nbformat": 4,
 "nbformat_minor": 2
}
