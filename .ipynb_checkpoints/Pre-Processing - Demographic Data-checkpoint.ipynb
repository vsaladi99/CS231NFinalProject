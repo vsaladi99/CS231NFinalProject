{
 "cells": [
  {
   "cell_type": "code",
   "execution_count": 2,
   "metadata": {},
   "outputs": [],
   "source": [
    "import numpy as np\n",
    "import matplotlib.pyplot as plt\n",
    "import pandas as pd\n",
    "import os\n",
    "import json\n",
    "import requests\n",
    "import os.path"
   ]
  },
  {
   "cell_type": "code",
   "execution_count": 18,
   "metadata": {},
   "outputs": [
    {
     "ename": "IOError",
     "evalue": "[Errno 2] No such file or directory: '/demographic_data/BDl6VftNEQN.json'",
     "output_type": "error",
     "traceback": [
      "\u001b[0;31m---------------------------------------------------------------------------\u001b[0m",
      "\u001b[0;31mIOError\u001b[0m                                   Traceback (most recent call last)",
      "\u001b[0;32m<ipython-input-18-99311aafc7fb>\u001b[0m in \u001b[0;36m<module>\u001b[0;34m()\u001b[0m\n\u001b[1;32m     20\u001b[0m     \u001b[0mcompleteName\u001b[0m \u001b[0;34m=\u001b[0m \u001b[0mos\u001b[0m\u001b[0;34m.\u001b[0m\u001b[0mpath\u001b[0m\u001b[0;34m.\u001b[0m\u001b[0mjoin\u001b[0m\u001b[0;34m(\u001b[0m\u001b[0mcurpath\u001b[0m\u001b[0;34m,\u001b[0m \u001b[0;34m\"/demographic_data/\"\u001b[0m\u001b[0;34m,\u001b[0m \u001b[0mfilename\u001b[0m\u001b[0;34m)\u001b[0m\u001b[0;34m\u001b[0m\u001b[0m\n\u001b[1;32m     21\u001b[0m \u001b[0;34m\u001b[0m\u001b[0m\n\u001b[0;32m---> 22\u001b[0;31m     \u001b[0mfile\u001b[0m \u001b[0;34m=\u001b[0m \u001b[0mopen\u001b[0m\u001b[0;34m(\u001b[0m\u001b[0mcompleteName\u001b[0m\u001b[0;34m,\u001b[0m \u001b[0;34m\"wb\"\u001b[0m\u001b[0;34m)\u001b[0m\u001b[0;34m\u001b[0m\u001b[0m\n\u001b[0m\u001b[1;32m     23\u001b[0m     \u001b[0mfile\u001b[0m\u001b[0;34m.\u001b[0m\u001b[0mwrite\u001b[0m\u001b[0;34m(\u001b[0m\u001b[0mhandle_demographics\u001b[0m\u001b[0;34m)\u001b[0m\u001b[0;34m\u001b[0m\u001b[0m\n\u001b[1;32m     24\u001b[0m     \u001b[0mfile\u001b[0m\u001b[0;34m.\u001b[0m\u001b[0mclose\u001b[0m\u001b[0;34m(\u001b[0m\u001b[0;34m)\u001b[0m\u001b[0;34m\u001b[0m\u001b[0m\n",
      "\u001b[0;31mIOError\u001b[0m: [Errno 2] No such file or directory: '/demographic_data/BDl6VftNEQN.json'"
     ]
    }
   ],
   "source": [
    "df = pd.read_json(\"production.50kInsta.json\")\n",
    "\n",
    "valid_json_sections = [ \"gender\", \"agecensus\", \"occupations\", \"accountsfollowed\", \"locationbycountry\",\n",
    "                       \"familystatus\", \"numberoffollowers\", \"timeonnetwork\", \"likesinterests\", \"postingfrequency\",\n",
    "                        \"raceusonly\", \"locationbyusstate\", \"personalincome\"]\n",
    "\n",
    "\n",
    "api_url_base = 'https://app.neoreach.com/api/v3/demographic.json'\n",
    "\n",
    "percentDf = pd.DataFrame(columns=['postId', 'handle'])\n",
    "\n",
    "for index, row in df.iterrows():\n",
    "    handle = row['handle']\n",
    "    response = requests.get(api_url_base, headers={'Authorization': 'NeoReach: 70b1fde6-b432-4718-885b-1fb74d8bb988'}, params={'network': 'instagram', 'handle':handle})\n",
    "    handle_demographics = json.loads(response.text)\n",
    "    percentDf = percentDf.append({'handle': row['handle'], 'postId': row['postId']}, ignore_index=True)\n",
    "    \n",
    "    filename = str(row['postId'] +\".json\")\n",
    "    curpath = os.path.abspath(os.curdir)\n",
    "    completeName = os.path.join(curpath, \"/demographic_data/\", filename)         \n",
    "\n",
    "    file = open(completeName, \"wb\")\n",
    "    file.write(handle_demographics)\n",
    "    file.close()\n",
    "    \n",
    "    for k, v in handle_demographics['result']['data'].items():\n",
    "        if k in valid_json_sections: \n",
    "            for k1, v1 in v.items():\n",
    "                #print v\n",
    "                name = v[k1]['name']\n",
    "                percent = v[k1]['percent']\n",
    "                num = v[k1]['number']\n",
    "                name = str(k + \":\" + name)\n",
    "                percentDf.loc[percentDf['postId'] == row['postId'],  name] = percent\n"
   ]
  },
  {
   "cell_type": "code",
   "execution_count": null,
   "metadata": {},
   "outputs": [],
   "source": []
  }
 ],
 "metadata": {
  "kernelspec": {
   "display_name": "Python 2",
   "language": "python",
   "name": "python2"
  },
  "language_info": {
   "codemirror_mode": {
    "name": "ipython",
    "version": 2
   },
   "file_extension": ".py",
   "mimetype": "text/x-python",
   "name": "python",
   "nbconvert_exporter": "python",
   "pygments_lexer": "ipython2",
   "version": "2.7.15"
  }
 },
 "nbformat": 4,
 "nbformat_minor": 2
}
