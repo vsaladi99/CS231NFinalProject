{
 "cells": [
  {
   "cell_type": "code",
   "execution_count": 49,
   "metadata": {
    "collapsed": true
   },
   "outputs": [],
   "source": [
    "import pandas as pd\n",
    "import numpy as np\n",
    "import re"
   ]
  },
  {
   "cell_type": "code",
   "execution_count": 50,
   "metadata": {
    "collapsed": false
   },
   "outputs": [],
   "source": [
    "data = pd.read_excel(\"data_alex.xlsx\")"
   ]
  },
  {
   "cell_type": "code",
   "execution_count": 51,
   "metadata": {
    "collapsed": false
   },
   "outputs": [
    {
     "data": {
      "text/html": [
       "<div>\n",
       "<table border=\"1\" class=\"dataframe\">\n",
       "  <thead>\n",
       "    <tr style=\"text-align: right;\">\n",
       "      <th></th>\n",
       "      <th>USERNAME</th>\n",
       "      <th>FOLLOWERS</th>\n",
       "      <th>FOLLOWING</th>\n",
       "      <th>LIKES</th>\n",
       "      <th>COMMENTS</th>\n",
       "      <th>TEXT</th>\n",
       "      <th>NUMBER OF TAGS</th>\n",
       "      <th>LIST OF TAGS</th>\n",
       "      <th>DATE</th>\n",
       "      <th>DAY(0 MONDAY,6 SUNDAY)</th>\n",
       "      <th>...</th>\n",
       "      <th>Unnamed: 30</th>\n",
       "      <th>Unnamed: 31</th>\n",
       "      <th>Unnamed: 32</th>\n",
       "      <th>Unnamed: 33</th>\n",
       "      <th>Unnamed: 34</th>\n",
       "      <th>Unnamed: 35</th>\n",
       "      <th>Unnamed: 36</th>\n",
       "      <th>Unnamed: 37</th>\n",
       "      <th>Unnamed: 38</th>\n",
       "      <th>Unnamed: 39</th>\n",
       "    </tr>\n",
       "  </thead>\n",
       "  <tbody>\n",
       "    <tr>\n",
       "      <th>0</th>\n",
       "      <td>georgiou82</td>\n",
       "      <td>1134619.0</td>\n",
       "      <td>915.0</td>\n",
       "      <td>18560.0</td>\n",
       "      <td>95.0</td>\n",
       "      <td>Every day is a #newday and every experience is...</td>\n",
       "      <td>2</td>\n",
       "      <td>#newera#newday</td>\n",
       "      <td>2017-02-11 11:05:10</td>\n",
       "      <td>5</td>\n",
       "      <td>...</td>\n",
       "      <td>NaN</td>\n",
       "      <td>NaN</td>\n",
       "      <td>NaN</td>\n",
       "      <td>NaN</td>\n",
       "      <td>NaN</td>\n",
       "      <td>NaN</td>\n",
       "      <td>NaN</td>\n",
       "      <td>NaN</td>\n",
       "      <td>NaN</td>\n",
       "      <td>NaN</td>\n",
       "    </tr>\n",
       "    <tr>\n",
       "      <th>1</th>\n",
       "      <td>georgiou82</td>\n",
       "      <td>1134619.0</td>\n",
       "      <td>915.0</td>\n",
       "      <td>17710.0</td>\n",
       "      <td>86.0</td>\n",
       "      <td>#goodnight !!! The #weekend is ahead!!! Have a...</td>\n",
       "      <td>3</td>\n",
       "      <td>#goodnight#goodone#weekend</td>\n",
       "      <td>2017-02-11 00:33:10</td>\n",
       "      <td>5</td>\n",
       "      <td>...</td>\n",
       "      <td>NaN</td>\n",
       "      <td>NaN</td>\n",
       "      <td>NaN</td>\n",
       "      <td>NaN</td>\n",
       "      <td>NaN</td>\n",
       "      <td>NaN</td>\n",
       "      <td>NaN</td>\n",
       "      <td>NaN</td>\n",
       "      <td>NaN</td>\n",
       "      <td>NaN</td>\n",
       "    </tr>\n",
       "    <tr>\n",
       "      <th>2</th>\n",
       "      <td>georgiou82</td>\n",
       "      <td>1134619.0</td>\n",
       "      <td>915.0</td>\n",
       "      <td>11959.0</td>\n",
       "      <td>79.0</td>\n",
       "      <td>#tb #2007 #stous31dromous #megatv #greece #new...</td>\n",
       "      <td>7</td>\n",
       "      <td>#tb#memories#greece#stous31dromous#newyork#200...</td>\n",
       "      <td>2017-02-09 15:51:47</td>\n",
       "      <td>3</td>\n",
       "      <td>...</td>\n",
       "      <td>NaN</td>\n",
       "      <td>NaN</td>\n",
       "      <td>NaN</td>\n",
       "      <td>NaN</td>\n",
       "      <td>NaN</td>\n",
       "      <td>NaN</td>\n",
       "      <td>NaN</td>\n",
       "      <td>NaN</td>\n",
       "      <td>NaN</td>\n",
       "      <td>NaN</td>\n",
       "    </tr>\n",
       "    <tr>\n",
       "      <th>3</th>\n",
       "      <td>georgiou82</td>\n",
       "      <td>1134619.0</td>\n",
       "      <td>915.0</td>\n",
       "      <td>13608.0</td>\n",
       "      <td>37.0</td>\n",
       "      <td>Cold weather brings people together.... #filmi...</td>\n",
       "      <td>2</td>\n",
       "      <td>#mprousko4#filming</td>\n",
       "      <td>2017-02-08 18:21:57</td>\n",
       "      <td>2</td>\n",
       "      <td>...</td>\n",
       "      <td>NaN</td>\n",
       "      <td>NaN</td>\n",
       "      <td>NaN</td>\n",
       "      <td>NaN</td>\n",
       "      <td>NaN</td>\n",
       "      <td>NaN</td>\n",
       "      <td>NaN</td>\n",
       "      <td>NaN</td>\n",
       "      <td>NaN</td>\n",
       "      <td>NaN</td>\n",
       "    </tr>\n",
       "    <tr>\n",
       "      <th>4</th>\n",
       "      <td>georgiou82</td>\n",
       "      <td>1134619.0</td>\n",
       "      <td>915.0</td>\n",
       "      <td>15842.0</td>\n",
       "      <td>62.0</td>\n",
       "      <td>The youngest hearts might be the oldest souls....</td>\n",
       "      <td>4</td>\n",
       "      <td>#peru#lifelessons#tb#andreasgeorgiou✔️</td>\n",
       "      <td>2017-02-08 13:03:14</td>\n",
       "      <td>2</td>\n",
       "      <td>...</td>\n",
       "      <td>NaN</td>\n",
       "      <td>NaN</td>\n",
       "      <td>NaN</td>\n",
       "      <td>NaN</td>\n",
       "      <td>NaN</td>\n",
       "      <td>NaN</td>\n",
       "      <td>NaN</td>\n",
       "      <td>NaN</td>\n",
       "      <td>NaN</td>\n",
       "      <td>NaN</td>\n",
       "    </tr>\n",
       "  </tbody>\n",
       "</table>\n",
       "<p>5 rows × 40 columns</p>\n",
       "</div>"
      ],
      "text/plain": [
       "     USERNAME  FOLLOWERS  FOLLOWING    LIKES  COMMENTS  \\\n",
       "0  georgiou82  1134619.0      915.0  18560.0      95.0   \n",
       "1  georgiou82  1134619.0      915.0  17710.0      86.0   \n",
       "2  georgiou82  1134619.0      915.0  11959.0      79.0   \n",
       "3  georgiou82  1134619.0      915.0  13608.0      37.0   \n",
       "4  georgiou82  1134619.0      915.0  15842.0      62.0   \n",
       "\n",
       "                                                TEXT NUMBER OF TAGS  \\\n",
       "0  Every day is a #newday and every experience is...              2   \n",
       "1  #goodnight !!! The #weekend is ahead!!! Have a...              3   \n",
       "2  #tb #2007 #stous31dromous #megatv #greece #new...              7   \n",
       "3  Cold weather brings people together.... #filmi...              2   \n",
       "4  The youngest hearts might be the oldest souls....              4   \n",
       "\n",
       "                                        LIST OF TAGS                 DATE  \\\n",
       "0                                     #newera#newday  2017-02-11 11:05:10   \n",
       "1                         #goodnight#goodone#weekend  2017-02-11 00:33:10   \n",
       "2  #tb#memories#greece#stous31dromous#newyork#200...  2017-02-09 15:51:47   \n",
       "3                                 #mprousko4#filming  2017-02-08 18:21:57   \n",
       "4             #peru#lifelessons#tb#andreasgeorgiou✔️  2017-02-08 13:03:14   \n",
       "\n",
       "  DAY(0 MONDAY,6 SUNDAY)     ...     Unnamed: 30 Unnamed: 31 Unnamed: 32  \\\n",
       "0                      5     ...             NaN         NaN         NaN   \n",
       "1                      5     ...             NaN         NaN         NaN   \n",
       "2                      3     ...             NaN         NaN         NaN   \n",
       "3                      2     ...             NaN         NaN         NaN   \n",
       "4                      2     ...             NaN         NaN         NaN   \n",
       "\n",
       "  Unnamed: 33 Unnamed: 34 Unnamed: 35 Unnamed: 36 Unnamed: 37 Unnamed: 38  \\\n",
       "0         NaN         NaN         NaN         NaN         NaN         NaN   \n",
       "1         NaN         NaN         NaN         NaN         NaN         NaN   \n",
       "2         NaN         NaN         NaN         NaN         NaN         NaN   \n",
       "3         NaN         NaN         NaN         NaN         NaN         NaN   \n",
       "4         NaN         NaN         NaN         NaN         NaN         NaN   \n",
       "\n",
       "  Unnamed: 39  \n",
       "0         NaN  \n",
       "1         NaN  \n",
       "2         NaN  \n",
       "3         NaN  \n",
       "4         NaN  \n",
       "\n",
       "[5 rows x 40 columns]"
      ]
     },
     "execution_count": 51,
     "metadata": {},
     "output_type": "execute_result"
    }
   ],
   "source": [
    "data.head()"
   ]
  },
  {
   "cell_type": "code",
   "execution_count": 52,
   "metadata": {
    "collapsed": false
   },
   "outputs": [
    {
     "data": {
      "text/plain": [
       "\"? Meanwhile in magical Mykonos. There's no place like Greece. Photo by @robertoderosa #mykonos #greece #hellas #greek #greeks #greeklife #greekgirl #greekislands\""
      ]
     },
     "execution_count": 52,
     "metadata": {},
     "output_type": "execute_result"
    }
   ],
   "source": [
    "data['TEXT'][3456]"
   ]
  },
  {
   "cell_type": "code",
   "execution_count": 53,
   "metadata": {
    "collapsed": false
   },
   "outputs": [
    {
     "data": {
      "text/plain": [
       "'#actor#onset#newtvseries#tv'"
      ]
     },
     "execution_count": 53,
     "metadata": {},
     "output_type": "execute_result"
    }
   ],
   "source": [
    "data['LIST OF TAGS'][9]"
   ]
  },
  {
   "cell_type": "code",
   "execution_count": 54,
   "metadata": {
    "collapsed": false
   },
   "outputs": [
    {
     "data": {
      "text/plain": [
       "[]"
      ]
     },
     "execution_count": 54,
     "metadata": {},
     "output_type": "execute_result"
    }
   ],
   "source": [
    "emoji_regexp = u'[\\U00002600-\\U000026FF]|[\\U00002700-\\U000027BF]|[\\U0001f300-\\U0001f5fF]|[\\U0001f600-\\U0001f64F]|' \\\n",
    "               u'[\\U0001f680-\\U0001f6FF]|[\\U00002A00-\\U00002AFF]|[\\U0001F1E0-\\U0001F1FF]'\n",
    "re.findall(emoji_regexp, data['TEXT'][170], re.UNICODE)"
   ]
  },
  {
   "cell_type": "code",
   "execution_count": 55,
   "metadata": {
    "collapsed": false
   },
   "outputs": [
    {
     "name": "stdout",
     "output_type": "stream",
     "text": [
      "#THEOhioState #OhioState #OhioStateIotas#IotaPhiTheta#IotaHistoryISBlackHistory #CentaurHistory #IotaHistory #IotaLegacy #CentaurLegacy #CentaurHistoryISBlackHistory#Iotas #Centaurs #IotasOnTheYard #IPhi #IPhiTheta #ThetaMen #IPT1963 #IPT #IPT53@ohiostateiotas\n",
      "#THEOhioState #OhioState #OhioStateIotas#IotaPhiTheta#IotaHistoryISBlackHistory #CentaurHistory #IotaHistory #IotaLegacy #CentaurLegacy #CentaurHistoryISBlackHistory#Iotas #Centaurs #IotasOnTheYard #IPhi #IPhiTheta #ThetaMen #IPT1963 #IPT #IPT53@ohiostateiotas\n"
     ]
    }
   ],
   "source": [
    "text = data['TEXT'][17806]\n",
    "print(text) # with emoji\n",
    "\n",
    "emoji_pattern = re.compile(\"[\"\n",
    "        u\"\\U0001F600-\\U0001F64F\"  # emoticons\n",
    "        u\"\\U0001F300-\\U0001F5FF\"  # symbols & pictographs\n",
    "        u\"\\U0001F680-\\U0001F6FF\"  # transport & map symbols\n",
    "        u\"\\U0001F1E0-\\U0001F1FF\"  # flags (iOS)\n",
    "        u\"\\U00002700-\\U000027BF\"\n",
    "        u\"\\U00002A00-\\U00002AFF\"\n",
    "        u\"\\U00002600-\\U000026FF\"\n",
    "                           \"]+\", flags=re.UNICODE)\n",
    "print(emoji_pattern.sub(r'', text)) # no emoji"
   ]
  },
  {
   "cell_type": "markdown",
   "metadata": {},
   "source": [
    "# Post Description"
   ]
  },
  {
   "cell_type": "code",
   "execution_count": 56,
   "metadata": {
    "collapsed": false,
    "scrolled": true
   },
   "outputs": [
    {
     "data": {
      "text/plain": [
       "'⛅⛅'"
      ]
     },
     "execution_count": 56,
     "metadata": {},
     "output_type": "execute_result"
    }
   ],
   "source": [
    "data['TEXT'][6666]"
   ]
  },
  {
   "cell_type": "code",
   "execution_count": 57,
   "metadata": {
    "collapsed": true
   },
   "outputs": [],
   "source": [
    "letters_only = re.sub(\"[^a-zA-Z]\",           # The pattern to search for\n",
    "                      \" \",                   # The pattern to replace it with\n",
    "                      data['TEXT'][6666]) "
   ]
  },
  {
   "cell_type": "code",
   "execution_count": 58,
   "metadata": {
    "collapsed": false
   },
   "outputs": [
    {
     "data": {
      "text/plain": [
       "'  '"
      ]
     },
     "execution_count": 58,
     "metadata": {},
     "output_type": "execute_result"
    }
   ],
   "source": [
    "letters_only"
   ]
  },
  {
   "cell_type": "code",
   "execution_count": 59,
   "metadata": {
    "collapsed": false
   },
   "outputs": [
    {
     "data": {
      "text/plain": [
       "[]"
      ]
     },
     "execution_count": 59,
     "metadata": {},
     "output_type": "execute_result"
    }
   ],
   "source": [
    "lower_case = letters_only.lower()        # Convert to lower case\n",
    "words = lower_case.split()               # Split into words\n",
    "words"
   ]
  },
  {
   "cell_type": "code",
   "execution_count": 60,
   "metadata": {
    "collapsed": false
   },
   "outputs": [
    {
     "data": {
      "text/plain": [
       "[]"
      ]
     },
     "execution_count": 60,
     "metadata": {},
     "output_type": "execute_result"
    }
   ],
   "source": [
    "from nltk.corpus import stopwords\n",
    "words = [w for w in words if not w in stopwords.words(\"english\")]\n",
    "words"
   ]
  },
  {
   "cell_type": "code",
   "execution_count": 61,
   "metadata": {
    "collapsed": false
   },
   "outputs": [
    {
     "data": {
      "text/plain": [
       "''"
      ]
     },
     "execution_count": 61,
     "metadata": {},
     "output_type": "execute_result"
    }
   ],
   "source": [
    "\" \".join(words)"
   ]
  },
  {
   "cell_type": "code",
   "execution_count": 62,
   "metadata": {
    "collapsed": true
   },
   "outputs": [],
   "source": [
    "def cleanup(sentence):\n",
    "    #letters_only = re.sub(\"[^a-zA-Z]\", \" \", sentence.split(', ')[0])\n",
    "    #emojis = re.findall(emoji_regexp, sentence.split(', ')[0], re.UNICODE)\n",
    "    try:\n",
    "        letters_only = re.sub(\"[^a-zA-Z]\", \" \", sentence)\n",
    "        emojis = re.findall(emoji_regexp, sentence, re.UNICODE)\n",
    "    except:\n",
    "        letters_only = ''\n",
    "        emojis = []\n",
    "    words = letters_only.lower().split()        \n",
    "    words = [w for w in words if not w in stopwords.words(\"english\")]\n",
    "    words = [w for w in words if len(w) > 1]\n",
    "    return (\" \".join(words)), (\" \".join(emojis))"
   ]
  },
  {
   "cell_type": "code",
   "execution_count": 63,
   "metadata": {
    "collapsed": false
   },
   "outputs": [],
   "source": [
    "sentence, emojis = cleanup(data['TEXT'][9])"
   ]
  },
  {
   "cell_type": "code",
   "execution_count": 64,
   "metadata": {
    "collapsed": false
   },
   "outputs": [
    {
     "data": {
      "text/plain": [
       "'great meetings great people welcome family pavlidou sofia newtvseries tv onset actor'"
      ]
     },
     "execution_count": 64,
     "metadata": {},
     "output_type": "execute_result"
    }
   ],
   "source": [
    "sentence"
   ]
  },
  {
   "cell_type": "code",
   "execution_count": 65,
   "metadata": {
    "collapsed": false
   },
   "outputs": [
    {
     "data": {
      "text/plain": [
       "''"
      ]
     },
     "execution_count": 65,
     "metadata": {},
     "output_type": "execute_result"
    }
   ],
   "source": [
    "emojis"
   ]
  },
  {
   "cell_type": "code",
   "execution_count": 66,
   "metadata": {
    "collapsed": false
   },
   "outputs": [
    {
     "data": {
      "text/plain": [
       "30003"
      ]
     },
     "execution_count": 66,
     "metadata": {},
     "output_type": "execute_result"
    }
   ],
   "source": [
    "data['TEXT'].size"
   ]
  },
  {
   "cell_type": "code",
   "execution_count": 67,
   "metadata": {
    "collapsed": false
   },
   "outputs": [
    {
     "name": "stdout",
     "output_type": "stream",
     "text": [
      "3% done\n",
      "7% done\n",
      "10% done\n",
      "13% done\n",
      "17% done\n",
      "20% done\n",
      "23% done\n",
      "27% done\n",
      "30% done\n",
      "33% done\n",
      "37% done\n",
      "40% done\n",
      "43% done\n",
      "47% done\n",
      "50% done\n",
      "53% done\n",
      "57% done\n",
      "60% done\n",
      "63% done\n",
      "67% done\n",
      "70% done\n",
      "73% done\n",
      "77% done\n",
      "80% done\n",
      "83% done\n",
      "87% done\n",
      "90% done\n",
      "93% done\n",
      "97% done\n",
      "100% done\n"
     ]
    }
   ],
   "source": [
    "clean = []\n",
    "clean_emojis = []\n",
    "for i in range( 0, data['TEXT'].size ):\n",
    "    if( (i+1)%1000 == 0 ):\n",
    "        print(str(round(i/30003*100))+\"% done\")\n",
    "    x,y = cleanup(data['TEXT'][i])\n",
    "    clean.append(x)\n",
    "    clean_emojis.append(y)"
   ]
  },
  {
   "cell_type": "code",
   "execution_count": 68,
   "metadata": {
    "collapsed": false
   },
   "outputs": [
    {
     "data": {
      "text/plain": [
       "30003"
      ]
     },
     "execution_count": 68,
     "metadata": {},
     "output_type": "execute_result"
    }
   ],
   "source": [
    "len(clean_emojis)"
   ]
  },
  {
   "cell_type": "code",
   "execution_count": 69,
   "metadata": {
    "collapsed": false
   },
   "outputs": [],
   "source": [
    "from sklearn.feature_extraction.text import CountVectorizer, TfidfTransformer\n",
    " \n",
    "clean_vectorizer = CountVectorizer(analyzer = \"word\", tokenizer = None, preprocessor = None, stop_words = None, max_features = 250) \n",
    "\n",
    "# fit_transform() does two functions: First, it fits the model\n",
    "# and learns the vocabulary; second, it transforms our training data\n",
    "# into feature vectors. The input to fit_transform should be a list of \n",
    "# strings.\n",
    "clean_features = clean_vectorizer.fit_transform(clean)\n",
    "\n",
    "#tfidf_transformer = TfidfTransformer()\n",
    "#clean_features = tfidf_transformer.fit_transform(clean_features)\n",
    "\n",
    "# Numpy arrays are easy to work with, so convert the result to an \n",
    "# array\n",
    "clean_features = clean_features.toarray()"
   ]
  },
  {
   "cell_type": "code",
   "execution_count": 70,
   "metadata": {
    "collapsed": false
   },
   "outputs": [
    {
     "data": {
      "text/plain": [
       "(30003, 250)"
      ]
     },
     "execution_count": 70,
     "metadata": {},
     "output_type": "execute_result"
    }
   ],
   "source": [
    "clean_features.shape"
   ]
  },
  {
   "cell_type": "code",
   "execution_count": 71,
   "metadata": {
    "collapsed": false
   },
   "outputs": [
    {
     "name": "stdout",
     "output_type": "stream",
     "text": [
      "['actor', 'aka', 'akas', 'alphakappaalpha', 'alphaphialpha', 'alphatv', 'always', 'amazing', 'anime', 'animeboy', 'animegirl', 'animelife', 'ant', 'aphia', 'apisteuta', 'april', 'art', 'artist', 'athens', 'athensvoice', 'back', 'backstage', 'beach', 'beautiful', 'beauty', 'best', 'bio', 'black', 'blogger', 'blue', 'boruto', 'burak', 'burakozcivit', 'city', 'collection', 'com', 'cosplay', 'credits', 'crescent', 'cute', 'day', 'de', 'design', 'details', 'direct', 'dress', 'easter', 'ellada', 'europe', 'fab', 'fabulous', 'facebook', 'family', 'famu', 'fashion', 'fashionblogger', 'fashiongram', 'fashionista', 'firearms', 'fitness', 'follow', 'followme', 'food', 'friends', 'fun', 'funny', 'get', 'girl', 'go', 'godly', 'good', 'goodmorning', 'gr', 'great', 'greece', 'greecestagram', 'greek', 'greeklife', 'greekpost', 'greekposts', 'greekquote', 'greekquotes', 'greeks', 'gunporn', 'guns', 'hair', 'handmade', 'happy', 'happyeaster', 'heels', 'hellas', 'hinata', 'hokage', 'home', 'https', 'ig', 'igers', 'inspiration', 'insta', 'instadaily', 'instafashion', 'instagood', 'instagram', 'instalifo', 'instalike', 'instamood', 'instastyle', 'island', 'itachi', 'ivit', 'japan', 'karasevda', 'karasevdadizi', 'kawaii', 'kawaiianime', 'kawaiigirl', 'kemal', 'kemalsoydere', 'kings', 'kushina', 'la', 'last', 'life', 'lifestyle', 'lifo', 'like', 'likes', 'link', 'live', 'logia', 'look', 'love', 'lovers', 'loves', 'luigi', 'madwalk', 'make', 'makeup', 'manga', 'minato', 'mod', 'moe', 'mood', 'morbi', 'morning', 'much', 'music', 'mykonos', 'naruhina', 'naruto', 'narutocosplay', 'narutogaiden', 'narutomovie', 'narutoshippuden', 'narutothelast', 'narutouzumaki', 'narvu', 'nature', 'nesbur', 'neslihanatagul', 'new', 'newcollection', 'night', 'nihan', 'nihansezin', 'nihkem', 'official', 'one', 'online', 'ooniiichan', 'ootd', 'open', 'otaku', 'outfit', 'page', 'part', 'people', 'perfect', 'photo', 'photography', 'photooftheday', 'photos', 'photoshoot', 'pic', 'picoftheday', 'pink', 'pixiv', 'post', 'pretty', 'queen', 'quoteoftheday', 'quotes', 'red', 'regrann', 'repost', 'repostapp', 'sakura', 'sasuke', 'sea', 'see', 'selfie', 'sgrho', 'shirt', 'shoes', 'shop', 'shopping', 'shoutout', 'skg', 'sky', 'smile', 'soon', 'spring', 'ss', 'streetstyle', 'style', 'stylish', 'summer', 'sun', 'sunday', 'sunset', 'super', 'switzerland', 'tactical', 'tag', 'tags', 'tbt', 'team', 'thank', 'thessaloniki', 'time', 'today', 'top', 'travel', 'truestory', 'tv', 'uchihas', 'urban', 'us', 'video', 'videotv', 'view', 'vmc', 'vsco', 'white', 'world', 'wu', 'www', 'yeni', 'yfsf', 'youtube']\n"
     ]
    }
   ],
   "source": [
    "vocab = clean_vectorizer.get_feature_names()\n",
    "print(vocab)"
   ]
  },
  {
   "cell_type": "code",
   "execution_count": 72,
   "metadata": {
    "collapsed": false
   },
   "outputs": [],
   "source": [
    "from collections import Counter\n",
    "from sklearn.feature_extraction import DictVectorizer\n",
    "clean_emojis_vectorizer = DictVectorizer()\n",
    "#description_emojis_vectorizer = CountVectorizer() \n",
    "\n",
    "# fit_transform() does two functions: First, it fits the model\n",
    "# and learns the vocabulary; second, it transforms our training data\n",
    "# into feature vectors. The input to fit_transform should be a list of \n",
    "# strings.\n",
    "#X = description_vectorizer.fit(emojis)\n",
    "#clean_description_emojis_features = description_vectorizer.transform(clean_description_emojis)\n",
    "X = clean_emojis_vectorizer.fit_transform(Counter(s.split()) for s in clean_emojis)\n",
    "\n",
    "# Numpy arrays are easy to work with, so convert the result to an \n",
    "# array\n",
    "clean_emojis_features = X.toarray()"
   ]
  },
  {
   "cell_type": "code",
   "execution_count": 73,
   "metadata": {
    "collapsed": false
   },
   "outputs": [
    {
     "data": {
      "text/plain": [
       "(30003, 153)"
      ]
     },
     "execution_count": 73,
     "metadata": {},
     "output_type": "execute_result"
    }
   ],
   "source": [
    "clean_emojis_features.shape"
   ]
  },
  {
   "cell_type": "code",
   "execution_count": 74,
   "metadata": {
    "collapsed": false
   },
   "outputs": [
    {
     "data": {
      "text/plain": [
       "6133"
      ]
     },
     "execution_count": 74,
     "metadata": {},
     "output_type": "execute_result"
    }
   ],
   "source": [
    "#create list of unique emojis\n",
    "emojis = set()\n",
    "for i in range (20740):\n",
    "    if clean_emojis[i]:\n",
    "        for emoji in clean_emojis[i].split():\n",
    "            emojis.add(emoji)\n",
    "emojis = list(emojis)\n",
    "test = np.zeros(shape=(20740,808))\n",
    "\n",
    "#create sentence to vector\n",
    "for i in range (20740):\n",
    "    if clean_emojis[i]:\n",
    "        for emoji in clean_emojis[i].split():\n",
    "            test[i][emojis.index(emoji)]+=1\n",
    "\n",
    "#verify results\n",
    "x = 0\n",
    "for i in range (20740):\n",
    "    for j in range(808):\n",
    "        if test[i][j] > 0:\n",
    "            x+=1\n",
    "x"
   ]
  },
  {
   "cell_type": "markdown",
   "metadata": {},
   "source": [
    "# Hashtags"
   ]
  },
  {
   "cell_type": "code",
   "execution_count": 75,
   "metadata": {
    "collapsed": false,
    "scrolled": true
   },
   "outputs": [
    {
     "data": {
      "text/plain": [
       "'#newera#newday'"
      ]
     },
     "execution_count": 75,
     "metadata": {},
     "output_type": "execute_result"
    }
   ],
   "source": [
    "#data['tags'][0][1:-1].split(', ')[23][2:-1]\n",
    "data['LIST OF TAGS'][0]"
   ]
  },
  {
   "cell_type": "code",
   "execution_count": 76,
   "metadata": {
    "collapsed": false
   },
   "outputs": [],
   "source": [
    "sentence, emojis = cleanup(data['LIST OF TAGS'][0])"
   ]
  },
  {
   "cell_type": "code",
   "execution_count": 77,
   "metadata": {
    "collapsed": false
   },
   "outputs": [
    {
     "data": {
      "text/plain": [
       "'newera newday'"
      ]
     },
     "execution_count": 77,
     "metadata": {},
     "output_type": "execute_result"
    }
   ],
   "source": [
    "sentence"
   ]
  },
  {
   "cell_type": "code",
   "execution_count": 78,
   "metadata": {
    "collapsed": false
   },
   "outputs": [
    {
     "data": {
      "text/plain": [
       "''"
      ]
     },
     "execution_count": 78,
     "metadata": {},
     "output_type": "execute_result"
    }
   ],
   "source": [
    "emojis"
   ]
  },
  {
   "cell_type": "code",
   "execution_count": 79,
   "metadata": {
    "collapsed": false
   },
   "outputs": [
    {
     "name": "stdout",
     "output_type": "stream",
     "text": [
      "yes\n",
      "yes\n",
      "yes\n",
      "yes\n",
      "yes\n",
      "yes\n",
      "yes\n",
      "yes\n",
      "yes\n",
      "yes\n",
      "yes\n",
      "yes\n",
      "yes\n",
      "yes\n",
      "yes\n",
      "yes\n",
      "yes\n",
      "yes\n",
      "yes\n",
      "3% done\n",
      "yes\n",
      "yes\n",
      "yes\n",
      "yes\n",
      "7% done\n",
      "10% done\n",
      "yes\n",
      "yes\n",
      "13% done\n",
      "yes\n",
      "17% done\n",
      "20% done\n",
      "23% done\n",
      "27% done\n",
      "30% done\n",
      "33% done\n",
      "37% done\n",
      "40% done\n",
      "43% done\n",
      "47% done\n",
      "50% done\n",
      "53% done\n",
      "57% done\n",
      "60% done\n",
      "63% done\n",
      "67% done\n",
      "70% done\n",
      "73% done\n",
      "77% done\n",
      "80% done\n",
      "83% done\n",
      "87% done\n",
      "90% done\n",
      "93% done\n",
      "97% done\n",
      "100% done\n"
     ]
    }
   ],
   "source": [
    "clean_tag = []\n",
    "clean_tag_emojis = []\n",
    "for i in range( 0, data['LIST OF TAGS'].size ):\n",
    "    if( (i+1)%1000 == 0 ):\n",
    "        print(str(round(i/30003*100))+\"% done\")\n",
    "    x,y = cleanup(data['LIST OF TAGS'][i])\n",
    "    if len(y) > 0:\n",
    "        print('yes')\n",
    "    clean_tag.append(x)\n",
    "    clean_tag_emojis.append(y)"
   ]
  },
  {
   "cell_type": "code",
   "execution_count": 80,
   "metadata": {
    "collapsed": false
   },
   "outputs": [
    {
     "data": {
      "text/plain": [
       "['newera newday',\n",
       " 'goodnight goodone weekend',\n",
       " 'tb memories greece stous dromous newyork megatv',\n",
       " 'mprousko filming',\n",
       " 'peru lifelessons tb andreasgeorgiou',\n",
       " 'love andreasgeorgiou',\n",
       " 'work progress andreasgeorgiou',\n",
       " 'dayout lovehim crazy godson',\n",
       " 'andreasgeorgiou quoteoftheday',\n",
       " 'actor onset newtvseries tv',\n",
       " 'filming onset cyprus mprousko',\n",
       " 'music soundtrack tvseries',\n",
       " 'directing onset lovemyjob tvseries',\n",
       " 'directorassistant hasmyback tvseries friends loveher coworkers',\n",
       " 'travel amsterdam backstage filming europe mprousko',\n",
       " 'fridaynight athens greece morningshoot earlynight',\n",
       " 'moodofday positive ambition',\n",
       " 'andreasgeorgiou photoshoot magazine',\n",
       " 'andreasgeorgiou olaksekolla tvshow ola tvshow',\n",
       " 'olatvshow themos olaksekolla',\n",
       " 'sister brother qualitytime familymoments',\n",
       " 'happynewyear',\n",
       " 'andreasgeorgiou fb',\n",
       " 'soon christmas lovey mprousko',\n",
       " 'mprousko amsterdam',\n",
       " 'amsterdam',\n",
       " 'weekend athens bro',\n",
       " 'didymafeggaria',\n",
       " 'feelingstupid',\n",
       " 'ilovemyjob',\n",
       " '',\n",
       " 'mprousko',\n",
       " 'love grandmother yaya sheisafighter respect',\n",
       " 'mprousko filming',\n",
       " 'women',\n",
       " 'eclecticsoiree',\n",
       " 'ancientgreece culture athens greece acropolis philosophy',\n",
       " 'fatheranddaughter love mprousko',\n",
       " 'morning sunday greece chillday chill',\n",
       " 'mprousko backstage katerinaloura stella',\n",
       " 'filming mprousko',\n",
       " 'sundayfunday family movieday friends sundaychilling sunday',\n",
       " 'greece cyprus football watching vs',\n",
       " 'backstage series filming family tv mprousko',\n",
       " 'tv mprousko series',\n",
       " 'latinamerica greece mprousko love international cyprus',\n",
       " 'mprousko andreasgeorgiou tv greece cyprus series pemier',\n",
       " 'andreasgeorgiou avantpremier tv mprousko series premier',\n",
       " 'sunday greece glass cyprus mprousko premier',\n",
       " 'premier greece cyprus sunday mprousko',\n",
       " 'athens sunday',\n",
       " 'photoshoot athens mprousko',\n",
       " 'stylist mprousko',\n",
       " 'mprousko chania travel crete love tvseries film',\n",
       " 'sundayfunday sundaymorning sundayselfie sundayfun burnt sundaybrunch sundays',\n",
       " 'specialday thankyou specialfriends theodorosgabriel christening',\n",
       " 'brusko mprousko barcelona filming',\n",
       " 'love barcelona brusko',\n",
       " 'filming barcelona best sangria',\n",
       " 'christening love blessed',\n",
       " 'bird affection andreasgeorgiou love',\n",
       " 'nature ocean beauty sky amazing cloudporn shore beautiful sun photooftheday waves instagood clouds travel wave waterfoam pretty reflection seashore greece ferry water',\n",
       " 'travel wisdom film soul greece chania',\n",
       " 'seazon samariagorge series mprousko tv',\n",
       " 'horses samariagorge crete',\n",
       " 'filming mprousko tv series seazon',\n",
       " 'assistantdirector',\n",
       " 'director mprousko',\n",
       " 'mprousko filming samariagorge',\n",
       " 'chania picoftheday visitgreece instagreece holiday creta sea vacation sun wu greece nature hellas blue greece summer love greek greecestagram rethymno heraklion sky kreta beach island travel beautiful ig greece holidays',\n",
       " 'comingsoon mprousko brusko',\n",
       " 'greece series andreasgeorgiou actors mprousko brusko tv cyprus',\n",
       " 'series greece tv filming mprousko actors brusko seazon cyprus',\n",
       " 'mprousko brusko',\n",
       " 'backtowork excited moretocome mprousko today',\n",
       " 'sleepyhead nightowl knockedout knockout nightynight goddaughter goodday nighttime instagoodnight sleepy bed tired dark instagood moon moonlight photooftheday sleep bedtime rest goodnight sleeptime lightsout passout night niece',\n",
       " 'instagood thailand brusko tb greece flicks movies movie cinema instaflick tvseries films bruskoworldwide tv video actor flick theatre photooftheday goodmovie actress videos instamovies film instaflicks',\n",
       " 'kitten animal instagramcats kitty pet petsagram greekcat instagood animals pets photooftheday cats catsagram lovecats greece kittens petstagram catsofinstagram cat catoftheday nature catstagram',\n",
       " 'father bestfriend brother otherhalf',\n",
       " 'travelgram pretty red sunsets gorgeous instasky tflers sunset skyporn instagood cloudporn view greekstagram sun horizon sky clouds nature pink orange warm travel beautiful greece photooftheday',\n",
       " 'pretty blue sunrise clouds freshair dusk beauty sun sunset beach photooftheday summer love flowers day mothernature iphonesia skylovers nature light weather beautiful sky air',\n",
       " 'nighttime panselinos night instagood fullmoon',\n",
       " 'travel summertime greekstagram fun greekislands travelgram sunny warm hot summer tagsforlikes greece tourism sun andreasgeorgiou',\n",
       " 'sweet children cuddle instagood adorable sleeping cuddly little beautiful family small instababy kid igbabies photooftheday sleep lovely happy kids babies childrenphoto life baby infant tiny victorhugo love cute',\n",
       " 'instago travelingram tourism travel instapassport trip instatraveling rhodes mytravelgram instatravel travelgram instagood visiting igtravel fun photooftheday vacation greekstagram holiday travelling tflers traveling greece',\n",
       " 'lovethissong beats melody genre beat goodmusic bumpin song listentothis music jam songs repeat instagood instamusic',\n",
       " 'travelgram instatravel instagood holiday instago travelling greekstagram traveling travelingram tflers travel trip greece instatraveling igtravel visiting vacation photooftheday tourist instapassport mytravelgram fun',\n",
       " 'instagramcats lovecats instagood animals sleeping petsagram catsagram islands lovekittens nature instacat adorable pet kittens cat animal catlover catsofinstagram kitty furry catstagram photooftheday pets petstagram kitten cats greek catoftheday',\n",
       " 'bluesky seasons season sunshine instasummer instagood warm weather sunny beautiful photooftheday nature summerweather clearsky summertime sun greece fun summertimeshine hot vacationtime summer sky clearskys tflers greekstagram',\n",
       " 'igtravel visiting instatraveling instapassport photooftheday fun trip tourist instago tflers travelingram travelgram traveling tourism instatravel travelling travel holiday instagood vacation mytravelgram andreasgeorgiou',\n",
       " '',\n",
       " 'photocredit',\n",
       " 'tflers mytravelgram tourist travelingram igtravel trip tourism traveling vacation instatravel instapassport travel travelling visiting peru instagood photooftheday holiday tb fun instatraveling travelgram lima instago',\n",
       " 'instapassport mytravelgram trip greece instatraveling vacation instago travelingram visiting visitgreece traveling holiday travelling travelgram tourist photooftheday instatravel tflers travel igtravel tourism fun instagood',\n",
       " 'fun family greece travel summer',\n",
       " 'tvshow peru tv',\n",
       " 'nature instagood sheep animal cute animallovers travel petsagram explore peru animals photooftheday discovertheworld petstagram andreasgeorgiou love animales',\n",
       " 'explore tflers love visiting culture instapassport fun vacation instatraveling discovertheworld holiday photooftheday instagood instatravel travelingram peru travelling instago travelgram igtravel trip traveling experience mytravelgram brusko travel',\n",
       " 'explore trip igtravel travelling peru travelingram brusko visiting traveling discovertheworld instagood instatravel instago tourism mytravelgram instatraveling photooftheday instapassport travelgram travel love tourist vacation fun tflers happy',\n",
       " 'peru trip travel vacation culture instatraveling instagood travelgram explore photooftheday tourism mytravelgram travelingram igtravel traveling travelling instago instatravel tflers visiting fun discovertheworld instapassport',\n",
       " 'igtravel travelgram holiday instagood instapassport travel traveling mytravelgram photooftheday travelling visiting trip tflers tourism tourist fun instatraveling instatravel instago vacation travelingram',\n",
       " 'mfollowers instagram',\n",
       " 'peru andreasgeorgiou travel',\n",
       " 'travel peru andreasgeorgiou',\n",
       " 'lovemyfriends',\n",
       " 'filming mprousko cyprus',\n",
       " 'onset kokkinonyfiko',\n",
       " 'happybirthday tb',\n",
       " 'good monday week',\n",
       " 'nationalsiblingsday',\n",
       " 'nationalsiblingsday',\n",
       " 'nationalsiblingsday',\n",
       " 'nikebasketball',\n",
       " '',\n",
       " 'loveflowers lovenature lovesunset loveyou elenimenegaki eleni lovesand',\n",
       " 'eleni elenimenegaki lovenature',\n",
       " 'eleni lovecolours elenimenegaki loveflowers lovenature',\n",
       " 'blackandwhite elenimenegaki eleni',\n",
       " 'eleni elenimenegaki styling',\n",
       " 'eleni elenimenegaki',\n",
       " 'eleni elenimenegaki converse americanvintage styling',\n",
       " 'elenimenegaki eleni',\n",
       " 'eleni elenimenegaki',\n",
       " 'elenimenegaki eleni',\n",
       " 'eleni elenimenegaki',\n",
       " 'elenimenegaki eleni',\n",
       " 'eleni elenimenegaki',\n",
       " 'elenimenegaki eleni',\n",
       " 'elenimenegaki styling eleni',\n",
       " 'elenimenegaki eleni',\n",
       " 'eleni elenimenegaki',\n",
       " 'elenimenegaki eleni',\n",
       " 'eleni elenimenegaki totaloutfit styling',\n",
       " 'eleni elenimenegaki',\n",
       " 'eleni elenimenegaki',\n",
       " 'eleni elenimenegaki',\n",
       " 'elenimenegaki styling eleni',\n",
       " 'styling elenimenegaki eleni',\n",
       " 'eleni styling elenimenegaki',\n",
       " 'eleni elenimenegaki',\n",
       " 'eleni elenimenegaki',\n",
       " '',\n",
       " '',\n",
       " '',\n",
       " '',\n",
       " '',\n",
       " '',\n",
       " 'maggicooking',\n",
       " '',\n",
       " 'barbastathis maskaneikalo',\n",
       " 'tastetheday cocacolagreece',\n",
       " 'monoxeria justhands',\n",
       " 'therecipeoftheday kenwood gr hsyntaghthshmeras',\n",
       " '',\n",
       " '',\n",
       " '',\n",
       " 'glikessintages nestledessert',\n",
       " 'poliestiaelgreco therecipeoftheday hsyntaghthshmeras',\n",
       " 'recipeoftheday hsyntaghthshmeras',\n",
       " 'chocolate foodporn justhands banana calzone monoxeria',\n",
       " 'nestledessert',\n",
       " 'syntaghthshmeras therecipeoftheday',\n",
       " 'fresh pastrami sandwich',\n",
       " 'melissasimigdali monoxeria justhands',\n",
       " 'kenwood gr therecipeoftheday hsyntaghthshmeras',\n",
       " 'balsamictop therecipeoftheday ptaste hsyntaghthshmeras',\n",
       " 'monoxeria justhands maggicooking',\n",
       " '',\n",
       " 'syntaghthshmeras therecipeoftheday',\n",
       " '',\n",
       " 'therecipeoftheday hsyntaghthshmeras',\n",
       " 'mlssupersmarttv',\n",
       " 'hsyntaghthshmeras therecipeoftheday',\n",
       " '',\n",
       " '',\n",
       " '',\n",
       " 'therecipeoftheday syntaghthshmeras',\n",
       " '',\n",
       " '',\n",
       " '',\n",
       " '',\n",
       " 'syntaghthshmeras herecipeoftheday',\n",
       " '',\n",
       " 'therecipeoftheday syntaghthshmeras',\n",
       " 'syntaghthsmeras therecipeoftheday',\n",
       " 'therecipeoftheday syntaghthsmeras melissasimigdali',\n",
       " 'justhands monoxeria soft cookies',\n",
       " 'melissasimigdali therecipeoftheday syntaghthshmeras',\n",
       " 'syntaghthshmeras therecipeoftheday slimfix',\n",
       " 'syntaghthshmeras eidikoi sta thalassina safcolhellas herecipeoftheday',\n",
       " 'justhands monoxeria',\n",
       " 'barbastathis maskaneikalo',\n",
       " 'melissapasta giatieimastemakaronades',\n",
       " 'xrisizimi',\n",
       " '',\n",
       " 'hsyntaghthsmeras therecipeoftheday',\n",
       " '',\n",
       " 'balsamictop therecipeoftheday hysntaghthshmeras ptaste',\n",
       " '',\n",
       " '',\n",
       " '',\n",
       " '',\n",
       " '',\n",
       " '',\n",
       " '',\n",
       " '',\n",
       " '',\n",
       " 'faysbeautytips',\n",
       " 'prince',\n",
       " '',\n",
       " '',\n",
       " '',\n",
       " '',\n",
       " '',\n",
       " 'faysbookgr celebrityhomes',\n",
       " '',\n",
       " '',\n",
       " '',\n",
       " '',\n",
       " '',\n",
       " '',\n",
       " 'sealover backstage summerishere peripou happydog covergirl comingsoon happyme',\n",
       " '',\n",
       " 'trailer dutchesssdaily comingsoon sytycdgr instafashion dancegr womenwithstyle yeahh instastyle staytuned dancelikeeveryoneiswatching cantwait fashionista backstage',\n",
       " 'spring fashionista backstage makeup womenwithstyle dancelikeeveryoneiswatching colorblock dancegr instabeauty sytycdgr',\n",
       " '',\n",
       " 'staytuned dancelikeeveryoneiswatching sytycdgr dancegr backstage comingsoon trailer',\n",
       " 'fashionista dancelikeeveryoneiswatching instafashion backstage sytycdgr streetstyle dancegr pinkwomanofficial instastyle strikeapose womenwithstyle ootd instabeauty',\n",
       " 'traveler wow happyeaster happeningnow',\n",
       " 'sytycdgr fashionista excited instafashion pinkwomanofficial jumpsuit dancegr ootd yeahh happy totallook dancelikeeveryoneiswatching instastyle womenwithstyle staytuned',\n",
       " 'onedayleft dancegr summerishere foreverandalways flyingme catchmeifyoucan sytycdgr summerlover happyme dancelikeeveryoneiswatching',\n",
       " 'premiere dancelikeeveryoneiswatching tonight ioannismelissanidis video happeningnow fullhappiness nofilter staytuned dancegr',\n",
       " 'earthday',\n",
       " 'instastyle summerishere wink instafashion summermood womenwithstyle fashionista tropical ootd finally',\n",
       " 'backstage happyface happyme instastyle staytuned tonight womenwithstyle typou fashionista instafashion nightshow lol inception',\n",
       " 'yoohooo details timeforjcou jcouwatches instastyle happy instafashion timetorelax fashionista timeforyou',\n",
       " 'timeforjcou fashionista newcampaign instabeauty sunday jcouwatches instastyle funday womenwithstyle instafashion details timeforyou sunnyday',\n",
       " 'shadesofblue bluelover summerlover sealover wow nofilter',\n",
       " 'happeningnow backstage womenwithstyle fashionista instabeauty instastyle instafashion',\n",
       " 'details instabeauty fashionista luckyday jcouwatches timeforjcou goodluck timeforyou womenwithstyle instafashion',\n",
       " 'hugs nameday dutchesssdaily happyelephant inlove happyme happynamedaytome tiny wow happyface kisses',\n",
       " 'backstage covergirl instafashion womenwithstyle okmagzine instastyle yeahh happy fashionista',\n",
       " 'blueskies timoesenaagapwperissotero spring thaexoumezhleies catstagram catsofinstagram saturdays saveastray straycat happyme sunnyday goodvibesonly shhh',\n",
       " 'spon saturdays garden outside breakfast energy nestlefitness happyme',\n",
       " 'styleinspiration lepandorine motivafashion sundays ootd fashionblogger happyme denim pleasedontrainonmyparade streetstyle goodvibesonly',\n",
       " 'foodporn newyork lovefood bloggerlife churros moodoftheday happyme travelgram icecream slurp',\n",
       " 'streetphotography travelgram urbanphotography bloggerlife lowereastside newyork clearskies manhattan',\n",
       " 'urbanphotography bloggerlife manhattan clearskies travelgram streetphotography newyork',\n",
       " '',\n",
       " 'nyc urban manhattan midtown urbanphotography clearskies streetphotography travelgram bloggerlife',\n",
       " 'urbanphotography nyc firetruck clearskies streetphotography midtown travelgram bloggerlife manhattan urban',\n",
       " 'sweetandsalty mytravelgram blacktap lovefood nyc milkshake foodporn bloggerlife peanutbutter yummy moodoftheday crazyfood',\n",
       " 'friendshipgoals brooklyn friendship gratitude happygirl williamsburg flying feelingblessed friendsforever mytravelgram bloggerlife mydoo happyme nyc',\n",
       " 'streetphotography fashionblogger bsbfashion citylife midtown travelgram streetstyle thavenue instadaily ootdshare nyc womensfashion nightphotography styleinspiration ootd manhattan slipons parka fashionaddict',\n",
       " 'styleinspiration backpack happyme lol bestfriends nyc mylook streetstyle friendship cycling fashionaddict nikonloveny whoworeitbetter manhattan twins moodoftheday thefashionistasdiary mytravelgram',\n",
       " 'photography memories bsbfashion skyscraper streetstyle moodoftheday bomberjacket lovemetender mystyle lookup streetphotography urban mytravelgram nyc mypassion bloggerlife',\n",
       " 'amazingview feelingblessed thingsilove tulips bloggerlife nyc springtime moodoftheday happiness photography',\n",
       " 'foodporn pancakes goodmorning nomnom yummy smiles foodie bloggerlife moodoftheday happyme lovefood travelgram',\n",
       " 'bun dreamdress memories redcarpet madwalk feelingblessed mylook styleinspiration womensfashion bsbfashion bow fairytale happyme',\n",
       " 'september memorial travelgram loveforever groundzero manhattan urbanphotography streetphotography nyc',\n",
       " 'styleinspiration newyork streetstyle fashionblogger lovewall travelgram streetart happyme goodvibesonly manhattan bsbfashion',\n",
       " 'ocean tattooligans tattoo kwadron',\n",
       " 'stodromo vodafonecu alphatv',\n",
       " '',\n",
       " '',\n",
       " '',\n",
       " 'migatoshoes sunday fewhourslefttogo alloverbyathinaoikonomakou migatolovers',\n",
       " 'motivafashion ootd trussardijeans funday sunday',\n",
       " 'lovetotravel maldivesislands goprohero travelblogger mytravelgram maldives worldtraveler summer palmtrees beachlife',\n",
       " 'paradise easter maldives travelling maldivesislands',\n",
       " 'mytravelgram exoticdestination maldives alloverswimsuit maldivesislands onepiece blackandwhite moments',\n",
       " 'sand sun maldives summerlove beachlife mytravelgram tannedskin saltyhair maldivessunset colors sea relax',\n",
       " 'dreamyvacations maldives wanderlust islandlife exoticdestination paradise saltyhair amazingcolours travelblogger fairytale sand',\n",
       " 'summergirl shadows ss travelwithstyle maldives travelblogger mytravelgram staytuned beachlife alloverjewelry',\n",
       " 'alloverjewelry travelblogger panamahat mytravelgram islandlife maldives alloverbyathinaoikonomakou',\n",
       " 'dreamyvacations maldives travelblogger mytravelgram shinebright summer fashionblogger tannedskin beachgirl sunnyday',\n",
       " 'turquoisewaters alloverinmaldives whitesand dreamplace loveatfirstsight alloverbyathinaoikonomakou vacationgoals maldives indianocean',\n",
       " 'mytravelgram tropicallife maldives palmleaf travelblogger travelgirl islandlife sand lifeisabeach palmtrees',\n",
       " 'oceanbreeze maldives styleblogger mytravelgram travelgirl lagoon travelblogger',\n",
       " 'yogaphotography bestvacationever mytravelgram beachyoga desertedbeach wanderlust desertedisland travelblogger travelgirl worldtraveller yogalover maldives styleblogger',\n",
       " 'travelblogger inlove summerbreeze mytravelgram maldives travelersnotebook worldtraveler maldiveslife bestvacationever',\n",
       " 'luckiestgirlintheworld happiness bestvacationever doyoubelieveinmiracles maldives onlylove',\n",
       " 'whitesand travelphotography ayadamaldives amazingplace beautifuldestination maldives palmtrees exoticislands',\n",
       " 'flamingofloat gettingtan maldiveslife bodygoals inflatablewatertoys unforgettablememories shadesofblue travelblogger flamingolove islandlife',\n",
       " 'palmleaf alloverbyathinaoikonomakou summergirl bohojewelry maldives palmtrees ss bohemian',\n",
       " 'traveler beachgirl theglobewanderer alloverbyathinaoikonomakou travelblogging explorer beautifulmaldives wanderlust',\n",
       " 'travelawesome traveler maldives underwaterpics travelblogging scubadiving explorer meters sealover gopro lifeexperience adventure wanderer underwater',\n",
       " 'fun beachgirl myamazingvacationtomaldives gopro videogram travelblogger mytravelgram goproadventure underwatershots',\n",
       " 'maldives traveller mytravelgram poolnet alloverbyathinaoikonomakou alloverjewelry relaxing travelingtheworld fashionjewelry bloggerdiaries fashionblogger laydown',\n",
       " 'enjoy summervibes',\n",
       " 'beachgirl styleinspo summer maldives mytravelgram saltyskin tanningseason loading travelinspiration beachhair',\n",
       " 'bluesky greece sunday tannedskin kimonos beachgirl windydays sealover nadiarapti',\n",
       " 'maldives summerstyle wildwood islandgirl bohoaddict tropics alloverjewelry fashionjewelry inspiredtravels',\n",
       " 'mood maldives whitesand islandlife alloverjewelry ss collection seashell alloverbyathinaoikonomakou tropical',\n",
       " 'goproadventure oceanlife worldtraveller bloggerdiaries travelblogger explorer standuppaddle maldives goprophotography adventuregirls sup',\n",
       " 'mytravelgram wanderlust sand islandlife travelblogger sealover myeastervacation nofilter exoticislands mylifestyle maldives sunnyday palmtrees',\n",
       " 'alloverhatbyzinag lifeisabeach mylifestyle worldtraveller bestdestination desertedbeach maldiveslife maldives travelphotography',\n",
       " 'lovetotravel luckygirl myeastervacation bestvacationever mytravelgram travelblogger worldtraveller frommaldiveswithlove wanderlust blessed maldives',\n",
       " 'proudtobegreek lovegreece family',\n",
       " 'lovegreece proudtobegreek',\n",
       " 'proudtobegreek lovegreece goodvibesonly greeksun positiveenergy',\n",
       " 'nature proudtobegreek lovegreece',\n",
       " 'lovemyfamily',\n",
       " 'lovegreece proudtobegreek cycling',\n",
       " 'apollon stbday fatherandson lovemyfamily',\n",
       " 'loveyourself mindyoursoul thinkpositive',\n",
       " 'mvvfoundation greece rfkhumanrights speaktruthtopower humanrights',\n",
       " 'oramaelpidas apolitoserotas bsbfashion madwalk gineethelontisdotis charityact savealife dancewithsakis societygivers',\n",
       " 'internationalearthday lovegreece proudtobegreek',\n",
       " 'love happyeaster fatheranddaughter happynameday',\n",
       " 'love smile live laugh goodvibesonly positiveenergy',\n",
       " '',\n",
       " '',\n",
       " '',\n",
       " '',\n",
       " '',\n",
       " '',\n",
       " '',\n",
       " 'bumpedinto badoo',\n",
       " 'crazyhairdontcare smouts eyelashextensions permenantlashes dlashextensions',\n",
       " 'colors clouds greece sky perfection inlovewithgreece lovemycountry',\n",
       " 'mycollection womenwithstyle lynnebykaterinakainourgiou ss collection soexcited happyhappyhappy unique nowinstore',\n",
       " 'sweetandsexy girlswhosmellamazing naturalproducts avgerinos perfumeshop lollipop',\n",
       " 'soexcited shoesaddicted nakshoesss newcampaign shoeporn ss collection',\n",
       " 'summercollection highheels funkyshoes inlove richmondshoes denimgirl lovethislook chicandbasic',\n",
       " 'saturdaymood motivafashion stayinlove happyagain lepandorinegreece quoteoftheday happysaturday goodvibesonly',\n",
       " 'floral perfection nowinstore lovethisprint lynnebykaterinakainourgiou newcollection',\n",
       " 'amaziday summermood cantwait summervibes sunnyday',\n",
       " 'aromatotherapy relaxtime cosmetics myperfume homemysweethome smouts pinkeverywhere naturalproducts babytalc',\n",
       " 'athens strikeapose springtime happyhappyhappy smouts sundaymood friendsonly cityvibes',\n",
       " 'whitejumpsuit readyforsummer ss collection nowinstore lynnebykaterinakainourgiou',\n",
       " 'nowinstore blackandwhite lynnebykaterinakainourgiou ss collection',\n",
       " 'myeyesalwayssearchforyou goodnightworld eyesarethewindowtothesoul goodnightselfie sleeptight',\n",
       " '',\n",
       " 'lovemycountry seacureseverything nofilters greece feelingblessed springtime inlovewithgreece',\n",
       " 'smouts whitelace heels ss newcolletion gold sequins shoeporn minidress glitter glittery',\n",
       " 'seacureseverything beachtime happysunday summerloading alonetime vouliagmenimylove',\n",
       " 'inlove smouts lovethislook makesmefeelbetter highheels',\n",
       " 'sunglasseslover newcollection cantwait summervibes fashionsunglasses smellslikesummer summerloading enzo rror',\n",
       " 'seacureseverything happyeaster greece sealife',\n",
       " 'ineedahug mycookie moodofthenight saturdaynight thisislove feelingblessed truelove',\n",
       " 'lovethispic ss nakshoes nowinstore wedges shoeporn',\n",
       " 'naturalproducts eyetherapy avgerinos eyecream',\n",
       " 'friendschildhood soon mylife mybestie',\n",
       " 'whiteonly whitejumpsuit readyforsummer streetstyle platformheels',\n",
       " 'nowinstore lovethislook summervibes ss collection myfavoritedress amazingtuesday smouts sunnyday newcolletion lynnebykaterinakainourgiou',\n",
       " 'instastyle desireefashion',\n",
       " 'instastyle mariailiakigr',\n",
       " 'happyeaster',\n",
       " 'happyeaster',\n",
       " '',\n",
       " 'easter tinos',\n",
       " 'mariailiakigr instastyle',\n",
       " 'detoleskaizesti',\n",
       " 'jump instastyle smile mariailiakigr',\n",
       " 'instastyle mariailiakigr',\n",
       " 'leica huawei bestselfie',\n",
       " 'superdrygreece mariailiakigr shopandtrade',\n",
       " 'instastyle countryliving mariailiakigr',\n",
       " 'pepejeansgreece shopandtrade',\n",
       " 'followmi migatolovers',\n",
       " '',\n",
       " 'followmi migatolovers',\n",
       " 'happyeaster tinos',\n",
       " 'worldpenguinday',\n",
       " 'foureira lastsunday vogueclub tomorrow thessaloniki',\n",
       " 'gotmilk',\n",
       " 'monogiasena newvideo',\n",
       " 'sytycdgr dancegr',\n",
       " '',\n",
       " '',\n",
       " 'sytycdgr dancegr',\n",
       " 'dancegr',\n",
       " 'day shooting',\n",
       " '',\n",
       " 'dancegr',\n",
       " 'sytycdgr dancegr',\n",
       " 'mood bitchplease',\n",
       " 'madwalk',\n",
       " '',\n",
       " '',\n",
       " 'fishing greece sun',\n",
       " 'fishing xalki kalianastasi',\n",
       " 'argiros takataferes stidikimouaggalia osaniotho',\n",
       " 'osaniotho argiros heraklio live anadromes crete',\n",
       " 'blessed studio argiros trackfactoryrecordingstudio newsongs inspiration',\n",
       " 'osaniotho argiros pavilion mastixoma cyprus live',\n",
       " 'argiros faith',\n",
       " 'thessaloniki takataferes stidikimouaggalia osaniotho vogueclub',\n",
       " 'faith',\n",
       " 'argiros osaniotho',\n",
       " 'weekendinathens auriopalipiswdominicana imissgreece onirama',\n",
       " 'sundayfunday havingthebesttime followyourdreams',\n",
       " 'achieveyourgoals survivor immunitygame dominicana',\n",
       " 'beyourself',\n",
       " 'shopandtrade councilout suuntogreece iamasurvivor suuntospartanultra',\n",
       " 'storyofmylife',\n",
       " 'windowslaptop workntravel makinglifesimple maic mlsmagic androidtablet youonlyliveonce',\n",
       " 'saku oniramatop marantinis filmingingreece',\n",
       " 'tsioutsiou santodomingo survivor milaliseitopouli',\n",
       " 'olatatalentamazi survivor partytime oimixrono',\n",
       " 'newarrivals finalsales shoppingweekend',\n",
       " 'change',\n",
       " '',\n",
       " 'hotstaff sissychristidoucom checkthemout newstaff',\n",
       " '',\n",
       " '',\n",
       " 'lacedress newbaby',\n",
       " 'happeningnow',\n",
       " 'repost giannis thodoris sia jenny',\n",
       " '',\n",
       " '',\n",
       " '',\n",
       " '',\n",
       " 'newjumpsuit alsoinsilky',\n",
       " 'sissychristidoucom wearandadore',\n",
       " 'family myprince phillip snapchat whamalam sisters',\n",
       " 'newyork phillip thedudestakenewyork meandmyboys dio family eastertime',\n",
       " 'soho mylife happymom meandmyboys thedudes newyork thedudestakenewyork',\n",
       " 'thedudestakenewyork newyork bikes meandmyboys',\n",
       " 'goodtimes seetheworld greatmemories meandmyboys untilnexttime family grateful thedudestakenewyork friends',\n",
       " 'airport goinghome thereturn dromopairnoundromoafinoun noplacelikehome friends',\n",
       " 'grateful meandmyboo luckyme thankyou friends newyork flyingtogether',\n",
       " 'choosehappiness bepositive lifegoals begrateful',\n",
       " 'backtonormal fitness fagameolitinneayorki spon diatrofoula energy fitnessbars toproinosouanikei',\n",
       " 'motherandsons thedudestakenewyork myson nyc mylife meandmyboys dio phillip',\n",
       " 'women controlyourhair lorvenn lorvennhairprofessionals saturdaynight nightout superpower hair',\n",
       " 'friends nyc sticktogether meandmyboo womenunited instatraveling',\n",
       " 'timetogether proud meandmyboys phillip thedudestakenewyork grateful dio momslife mylife myking bikes nyc myprince',\n",
       " 'hellomagazine photoshoot family siblings ilovemysister covergirls sisters',\n",
       " 'herecomesthesun light happytime instamood summertime flowers bsbfashion kanepazari summerclothes',\n",
       " 'bikes centralpark fun newyork nature thedudeatakenewyork friends family meandmyboys',\n",
       " 'bsbfashion kanepazari gameshow skaitvgr',\n",
       " 'seventeencosmetics walkingforhours newyork walkingthestreetsofnewyork stayclean',\n",
       " 'goodmorning daylight seventeencosmetics healthyskin coffee light cinamon',\n",
       " 'sendinglove instamood saturday myinstagram instagram',\n",
       " 'seventeencosmetics takecareofyourself women eastertime basics whamalam love',\n",
       " 'kanepazari happy lookoftheday bsbfashion dress work flowerpower flowers',\n",
       " 'light freedom eastertime love newyork thedudes thedudestakenewyork',\n",
       " 'centralpark familytime sisters eastertime love newyork meandmyboys thedudestakenewyork meandmysis morning',\n",
       " 'summer greece despinavandicollection swimwear',\n",
       " 'skirt despinavandicollection top',\n",
       " 'despinavandicollection summer spring',\n",
       " '',\n",
       " 'unique summer despinavandicollection greece dress silk',\n",
       " '',\n",
       " '',\n",
       " '',\n",
       " '',\n",
       " 'zambri',\n",
       " '',\n",
       " 'summer ontour',\n",
       " 'bff',\n",
       " '',\n",
       " 'yellow despinavandicollection greece dress',\n",
       " '',\n",
       " 'fashion spring summer greece despinavandicollection',\n",
       " 'despinavandicollection',\n",
       " 'despinavandicollection summer greece dress',\n",
       " 'summer despinavandicollection greece unique fashion dress',\n",
       " '',\n",
       " 'risingstar',\n",
       " '',\n",
       " '',\n",
       " '',\n",
       " '',\n",
       " 'zambri',\n",
       " 'mammamiagreece mammamia',\n",
       " 'eurovisiongr eurovision esc greekteam thisislove',\n",
       " '',\n",
       " '',\n",
       " 'longawaitedtimeoff rechargingbatteries',\n",
       " 'eurovision thisislove demy madwalk esc',\n",
       " '',\n",
       " 'eurovision mammamia mammamiagreece thisislove',\n",
       " 'thisislove',\n",
       " 'thisislove fanart eurovision',\n",
       " 'thisislove agorimouuu magkas newentry',\n",
       " 'kingofthepacificnorthwest',\n",
       " 'spring',\n",
       " 'throneofsticks',\n",
       " 'sizedoesntdefineyou',\n",
       " 'cherryblossom',\n",
       " 'waterfall',\n",
       " 'thiswontstopus',\n",
       " 'mountrainier',\n",
       " 'fbf flashbackfriday',\n",
       " 'itjustcallstoyourheart',\n",
       " 'hydrotherapy',\n",
       " 'makesmefeelalive',\n",
       " 'easter happyeaster',\n",
       " 'goodmorningpnw',\n",
       " 'tbt throwback throwbackthursday',\n",
       " 'jasmine',\n",
       " 'tplo roadtorecovery hydrotherapy',\n",
       " 'washington',\n",
       " 'cabinlife',\n",
       " 'camping',\n",
       " 'bestfriend',\n",
       " 'needavacation',\n",
       " '',\n",
       " 'kateyperry',\n",
       " '',\n",
       " '',\n",
       " 'aggourosalata',\n",
       " '',\n",
       " '',\n",
       " '',\n",
       " 'xartomantilakia',\n",
       " '',\n",
       " '',\n",
       " '',\n",
       " '',\n",
       " '',\n",
       " '',\n",
       " '',\n",
       " '',\n",
       " 'snoopdogg',\n",
       " '',\n",
       " '',\n",
       " 'agvalentino',\n",
       " '',\n",
       " '',\n",
       " '',\n",
       " '',\n",
       " '',\n",
       " '',\n",
       " '',\n",
       " '',\n",
       " '',\n",
       " '',\n",
       " '',\n",
       " '',\n",
       " '',\n",
       " 'tetris',\n",
       " '',\n",
       " '',\n",
       " '',\n",
       " '',\n",
       " '',\n",
       " '',\n",
       " '',\n",
       " 'myblog linkinbio youweekly',\n",
       " 'linkinbio youweekly',\n",
       " 'qualitytime family',\n",
       " 'linkinbio youweekly myblog',\n",
       " 'linkinbio youweekly myblog',\n",
       " 'myblog happyday linkinbio',\n",
       " 'repost',\n",
       " 'easter newgeneration lovemydaughters family',\n",
       " 'easter village tradition giannis vassilis family',\n",
       " 'arxaiakorinthos tradition livetrue nature history easter village',\n",
       " 'family lovemydaughters village arxaiakorinthos tradition',\n",
       " 'toimoifashion fashion linkinbio',\n",
       " '',\n",
       " 'repost blog fashion fashionrings',\n",
       " 'linkinbio happyday myblog',\n",
       " 'happyday repost alphatv',\n",
       " 'makeuptutorial linkinbio edgyeyes myblog smokeyeye youweeklygr',\n",
       " 'myblog nature linkinbio tutorial',\n",
       " 'myblog linkinbio',\n",
       " 'bohemiandresses romantism repost stamatinatsimtsilicollection summercollection tbt cristinabeautifullife topquality flashback photoshooting ss islandathens',\n",
       " 'linkinbio checkitout myblog video',\n",
       " 'fashion mylook',\n",
       " 'mylook linkinbio',\n",
       " 'linkinbio myblog',\n",
       " 'careforhair repost naturemoments linkinbio',\n",
       " 'repost dopandora dospring dosparkle dofloral linkinbio dobloom',\n",
       " 'barbaryfigoil honeyelixir myblog linkinbio',\n",
       " 'repost',\n",
       " 'myblog linkinbio win present sacvoyage',\n",
       " 'myblog linkinbio',\n",
       " 'family lovemydaughters easter',\n",
       " 'myblog linkinbio',\n",
       " '',\n",
       " 'linkinbio myblog youweeklygr',\n",
       " '',\n",
       " '',\n",
       " 'loveher',\n",
       " 'happyday',\n",
       " '',\n",
       " '',\n",
       " '',\n",
       " 'linkinbio myblog',\n",
       " 'holyweek myblog',\n",
       " '',\n",
       " 'myclothescollection goodmorning happyday',\n",
       " 'hairstylist amazing hairexpert beauty repost shinehair hair shine woman hairbybouloubasis',\n",
       " 'birthdaygirl',\n",
       " 'lovemydaughters family easter',\n",
       " 'actress gabriella boeingboeing maria dressingroom theatricalplay theatro actresslife italian mariakorinthiou italiana',\n",
       " 'television shooting actress beyou studio actresslife mariakorinthiou jumpsuit beyourself',\n",
       " 'panda handmade easter',\n",
       " 'makeup hair exclusive campaign photographer risoli greece representative',\n",
       " 'mariakorinthiou onceanewyorkeralwaysanewyorker unitedstates ladyliberty freedom libertyisland manhattan actress actresslife statueofliberty america newyork statue newyorkcity',\n",
       " 'mariakorinthiou fashion jumpsuit fashiongram releaseyourstyle actress actresslife maria tattoo campaign parizianista',\n",
       " 'makeup exclusive campaign mariakorinthiou maria risoli italianbrand drgreen greece hairstyle photography makeupartist representative actress photographer actresslife',\n",
       " 'shoes maria dress actresslife mariakorinthiou floraldress actress',\n",
       " 'guessgirl airportfashion actress actresslife okmagzine airport beyou airportstyle sunglasses newyork jacket greece carpisa rayban paparazzi jean',\n",
       " '',\n",
       " '',\n",
       " 'box celebritybox mybeautybox gaia celebrity mybeautyboxgr celebritybox',\n",
       " 'newyork onceanewyorkeralwaysanewyorker empirestatebuilding love thavenue newyorkcity lovethatplace',\n",
       " 'usa love onceanewyorkeralwaysanewyorker newyork mariakorinthiou actresslife manhattan unitedstates centralpark family newyorkcity nyc maria america actress',\n",
       " 'anagenessis beauty oil cosmetics anagenessiscosmetics body',\n",
       " 'unitedstates america family onceanewyorkeralwaysanewyorker manhattan newyork isminou newyorkcity oneworldtradecenter worldtradecenter love lovethatplace',\n",
       " 'epitelous sk',\n",
       " '',\n",
       " '',\n",
       " 'eleni alphatv geliomexridakriwn friendzone girls',\n",
       " 'jewellery',\n",
       " 'epsilontv epitelous sk',\n",
       " '',\n",
       " '',\n",
       " 'epitelous sk',\n",
       " '',\n",
       " 'epsilontv epitelous sk',\n",
       " 'wokeuplikethis instadaily sunday moodoftheday morning instamood relaxing mood grumpy coffee',\n",
       " 'instaquote instaphoto streetart instadaily michaeljordan jordan instamood quoteoftheday quote',\n",
       " 'instaquote streetstyle backpack toms instadaily sunglasses quoteoftheday instamood moodoftheday instaphoto',\n",
       " 'instastyle portrait instaquote red photooftheday instamakeup instadaily lips instaphoto lipstick akmakeup photography face saturday',\n",
       " 'instalike quote monday book goodmorning instaquote tokillamockingbird movie quoteoftheday thought moviequotes',\n",
       " 'instalike magic instadaily instasky colors skyporn nofilter nature athens sky instaphoto',\n",
       " 'instafashion style heels migato instalook color accesorios instaphoto instastyle followmi instadaily cluchbag urban shoes city',\n",
       " 'sunday trainspotting piraeus instaphoto instadaily instamood goodmorning',\n",
       " 'city downtown instalike athens instaphoto darkness instamood street thought walk night instadaily lights',\n",
       " 'portrait instaphoto actress moviequotes quoteoftheday photography movie photographer ingmarbergman instamood winterlight filming instalook blackandwhite instadaily',\n",
       " 'instalook instaphoto photography comingsoon tb beachwear instastyle instalike bohostyle hairstyle photoshooting beach instafashion summer',\n",
       " 'instamood actors workinghard cy actorslife instaphoto instalike backtoreality instadaily goodmorning mprousko happyfaces',\n",
       " 'streetart instaquote wall face instaphoto graffiti streetstyle instadaily athens quote capture quoteoftheday brunette girl hambas instalike',\n",
       " 'dog goodnight instaphoto night bedtime hug instamood sweetdreams sleep love',\n",
       " 'quoteoftheday tryingharder dontgiveup quotestagram makeitworthit beoptimistic feelstrong',\n",
       " 'tryingharder dontgiveup goodthingarecoming feelstrong workforit makeitworthit quoteoftheday lovemylife',\n",
       " 'easterholidays relax enjoy',\n",
       " 'ootd highwaistedpants cardigan springstyle croptop helmistyle',\n",
       " 'minimal casual totaloutfit blackandwhite lanadelrey ootd styling happymood',\n",
       " 'fightforyourlife quoteoftheday beoptimistic quoteofmylife fightforlove fightforyourdream promisetomyself newweek newgoals',\n",
       " 'quiet enjoyit beoptimistic keepcalm lookforyou instamood thoughtful instamoments',\n",
       " 'dontlietoyourself loveyourlife beoptimistic keepfaith thinkpositive lookforward loveyourself',\n",
       " 'waitingfortheweekend instapicture nstag rl mornings thougths blackandwhite',\n",
       " 'playinglikeakid behappy redmood easter kalistimonas flowers familymoments',\n",
       " 'familyhappyreason nutellawakeups',\n",
       " '',\n",
       " '',\n",
       " '',\n",
       " '',\n",
       " '',\n",
       " 'happy',\n",
       " '',\n",
       " '',\n",
       " '',\n",
       " '',\n",
       " '',\n",
       " '',\n",
       " '',\n",
       " '',\n",
       " '',\n",
       " '',\n",
       " '',\n",
       " '',\n",
       " 'mrandson',\n",
       " 'repost',\n",
       " 'repost soukou',\n",
       " 'repost yfsf ant',\n",
       " '',\n",
       " 'soexited lovemyjob yfsf ant',\n",
       " 'repost yfsf ant',\n",
       " '',\n",
       " 'lanes',\n",
       " '',\n",
       " 'repost yfsf ant',\n",
       " '',\n",
       " 'symvaneitwra soukou',\n",
       " 'kcaligram maria lanes',\n",
       " 'systemprofessional energycode',\n",
       " 'yfsf happy lovemyjob lovemystylist',\n",
       " 'soukou ant tv',\n",
       " '',\n",
       " '',\n",
       " '',\n",
       " 'stay',\n",
       " 'nba greekfreak',\n",
       " 'dukes',\n",
       " '',\n",
       " 'cliche',\n",
       " '',\n",
       " '',\n",
       " '',\n",
       " 'keep bleeding',\n",
       " 'soexcited happy retro backstage newclip',\n",
       " 'retro new video clip',\n",
       " 'comingsoon retro new video clip',\n",
       " 'mygirls backstage sohappy new retro comingsoon',\n",
       " 'new video clip coming soon retro',\n",
       " 'new video clip coming soon retro',\n",
       " 'new video clip coming soon retro marioulis',\n",
       " 'coming soon new video clip retro',\n",
       " 'oxygono join club',\n",
       " '',\n",
       " 'xnoudela pourpouration xnoudi',\n",
       " '',\n",
       " 'backstage excited retro summerisloading love',\n",
       " 'kefalonia',\n",
       " '',\n",
       " 'ant risingstarfashion socialmediaqueen bsbfashion mywork risingstargr',\n",
       " 'theartofbeauty lashelegance mascaralover beautycare seventeencosmetics beautytips mascara beauty mascaraaddict',\n",
       " 'mood lipstick videoclip',\n",
       " '',\n",
       " 'sunshine seventeencosmetics ss theartofbeauty kalomoira pink beautyproducts lovethisweather nailstagram nailpolish boomerang kalomira',\n",
       " 'skincare seventeencosmetics theartofbeauty tinted beauty skinperfection beautytips dailycream spf beautycare',\n",
       " 'risingstargr bsbfashion kalomoira kalomira risingstarfashion',\n",
       " 'videoclip lipstick',\n",
       " 'easter tinos',\n",
       " 'tiga box',\n",
       " '',\n",
       " 'shorttriploading happyeaster agapi',\n",
       " 'beautifulgreece tinos easter',\n",
       " 'easter beautifulgreece tinos',\n",
       " 'easter tinos',\n",
       " 'tinos easter',\n",
       " 'easter tinos',\n",
       " 'easter corfu',\n",
       " 'easter corfu',\n",
       " 'corfu easter',\n",
       " 'celebrationday madtvgreece birthday themisgeorgantas ok despoinavandi',\n",
       " 'ant daddycoolant',\n",
       " 'birthdayparty caldera katerini amitamotion jointheclub',\n",
       " 'years oniramalive caldera',\n",
       " 'caldera years',\n",
       " 'yperoxo deipnoilithion',\n",
       " 'ok madtv',\n",
       " 'kalianastasi tinos easter',\n",
       " 'oxygono oxigono',\n",
       " '',\n",
       " '',\n",
       " '',\n",
       " 'bioten',\n",
       " 'haide newsingle',\n",
       " 'ontour summer',\n",
       " 'comingsoon haide minosemi newsingle',\n",
       " 'lampsi interview haide',\n",
       " 'pinkcarpet mfawards',\n",
       " 'mfawards',\n",
       " '',\n",
       " 'mfawards',\n",
       " 'mfawards nicosia repost cyprus',\n",
       " '',\n",
       " 'dopandora doshine',\n",
       " 'mfawards',\n",
       " 'classics reebok reebokgreece sweetdreams goodnight kisterss sneakerhead clubc reebokclassic',\n",
       " 'shoedesigner aftertheshow tb mosttalented',\n",
       " 'saltandpepperjeans kisterss',\n",
       " 'black marble iphonecase',\n",
       " 'atticabeuty beautyisalwaysinfashion atticaofficial atticabeauty kisterss',\n",
       " 'newyork sky captured',\n",
       " 'kisterss newyork milkwhiteofficial tb janisleenewyork',\n",
       " 'saltandpepper kisterss sunglasses forever',\n",
       " '',\n",
       " 'iphonecase',\n",
       " '',\n",
       " 'kisterss jumpsuit mallorythelabel ootd reebokgreece sneakers agelikissbyhand jewlery',\n",
       " 'reebokclassic sparkle kisterss sneakers clubc details reebokgreece',\n",
       " 'littlepicassos',\n",
       " '',\n",
       " '',\n",
       " '',\n",
       " '',\n",
       " '',\n",
       " '',\n",
       " '',\n",
       " '',\n",
       " '',\n",
       " 'proudofmyroses',\n",
       " '',\n",
       " '',\n",
       " '',\n",
       " 'holidays',\n",
       " 'holidays daytrip easter',\n",
       " 'holidays',\n",
       " 'whodoyoureallythinkthatyouare holidays',\n",
       " 'holidays',\n",
       " '',\n",
       " '',\n",
       " '',\n",
       " '',\n",
       " '',\n",
       " 'choridominguez adidas olympiacos chd',\n",
       " 'choridominguez felicespascuas chd',\n",
       " 'chd campeones olympiacos choridominguez cuchu',\n",
       " 'cuchu campeones choridominguez chd olympiacos',\n",
       " 'chd historia olympiacos campeones choridominguez adidas',\n",
       " 'olympiacos chd matchday choridominguez',\n",
       " 'olympiacos matchday choridominguez chd derby greekcup',\n",
       " '',\n",
       " '',\n",
       " 'alphatv spitispitaki',\n",
       " '',\n",
       " '',\n",
       " 'tips lips nude constantinagr makeup beauty',\n",
       " '',\n",
       " '',\n",
       " '',\n",
       " '',\n",
       " 'haha balla little monster',\n",
       " 'thoughts filters',\n",
       " '',\n",
       " '',\n",
       " '',\n",
       " '',\n",
       " '',\n",
       " '',\n",
       " '',\n",
       " '',\n",
       " 'constantinagr',\n",
       " '',\n",
       " 'everywhere shoes',\n",
       " '',\n",
       " '',\n",
       " '',\n",
       " 'spitispitaki alphatv',\n",
       " '',\n",
       " '',\n",
       " '',\n",
       " '',\n",
       " '',\n",
       " '',\n",
       " 'spitispitaki alphatv',\n",
       " '',\n",
       " '',\n",
       " 'batistegreece',\n",
       " 'blessed rhodes happy time family island',\n",
       " 'alphatv spitispitaki eonia',\n",
       " 'sisters',\n",
       " 'waterski summeriscoming watersports',\n",
       " 'constantinagr',\n",
       " 'spitispitaki alphatv',\n",
       " '',\n",
       " '',\n",
       " '',\n",
       " 'beauty love beyou sleep relax',\n",
       " '',\n",
       " '',\n",
       " '',\n",
       " '',\n",
       " '',\n",
       " '',\n",
       " 'shotfilms protogenesis teaser repost footsteps athens short film series footstepsinathens',\n",
       " 'thoughtoftheday advice dream power newfaces loveyourself tsilovers photoshoot smile justdoit newface adviceoftheday model influencer thoughts dreams goals',\n",
       " '',\n",
       " 'quotes tsilovers loveyourselffirst goodnight model influencer advice newface positive',\n",
       " 'newface nycmodel clothes influencer fashion',\n",
       " '',\n",
       " 'followmeto',\n",
       " '',\n",
       " 'chill tsilovers spring',\n",
       " 'panteneturkiye holidayfun greece influencer island mykonos funnymoments tsilovers',\n",
       " 'peoplenearby badoo',\n",
       " 'strength strong power tsilovers loveyourself influencer',\n",
       " 'positive wish love summer quote influencer memories sunset tsilovers idol holidays laugh happiness startfromnow mykonos makeithappen dream greece people believe newface',\n",
       " '',\n",
       " 'goforit love influencer tsilovers makeithappen dreams positive goals strength',\n",
       " 'nailie',\n",
       " 'naglar gelnail gelenaglar teborg hardgel',\n",
       " 'hardgel gelenaglar swarovskicrystals teborg rose',\n",
       " 'teborg nude rose hardgel hudabeauty naglarg teborg nails gelenaglar',\n",
       " 'gelenaglar naglarg teborg crome hudabeauty gelnails hardgel naglar nailsbyeffi gold',\n",
       " 'teborg gelenaglar nails hudabeauty nailsbyeffi naglar swarovskicrystals hardgel gelnails',\n",
       " 'hudabeauty',\n",
       " 'rosa oink hardgel glitter nailsbyeffi hudabeauty diamond gelnails naglar gele naglarg teborg',\n",
       " 'naglarg teborg nailsbyeffi hudabeauty gelnails gelenaglar teborg metalic hardgel',\n",
       " 'swimwear eleonorameletibycrool eleonorameleti',\n",
       " 'happy daylight friends sea',\n",
       " '',\n",
       " 'daylight',\n",
       " '',\n",
       " 'skai',\n",
       " 'swimwear comingsoon eleonorameletibycrool',\n",
       " 'eclecticsoiree',\n",
       " '',\n",
       " '',\n",
       " 'survivorgr',\n",
       " '',\n",
       " 'matisfashion iloveathens centralpark',\n",
       " 'shawtheatre',\n",
       " 'iloveaegina',\n",
       " 'labrador iloveaegina sunset labradorable loveaegina colorful aegina',\n",
       " 'iloveaegina loveaegina',\n",
       " 'emeraldwalnutismyname barefoot flowerpower springtime loveaegina matisfashion season iloveaegina',\n",
       " 'october',\n",
       " '',\n",
       " 'lingerie triumphlingerie bra lace emeraldwalnutismyname findtheone shape amourette',\n",
       " '',\n",
       " 'touristinmyowncity acropolis matisfashion emeraldwalnutismyname iloveathens',\n",
       " 'lingerie emeraldwalnutismyname lace triumphlingerie amourette bra findtheone',\n",
       " 'loveaegina iloveaegina emeraldwalnutismyname matisfashion',\n",
       " 'family friends koumbara bestie instagram life followher love',\n",
       " 'loveaegina iloveaegina matisfashion',\n",
       " '',\n",
       " '',\n",
       " '',\n",
       " '',\n",
       " 'colloseum rome',\n",
       " '',\n",
       " '',\n",
       " '',\n",
       " 'survivor',\n",
       " '',\n",
       " 'simple thing perfect thing',\n",
       " '',\n",
       " 'summer loading',\n",
       " '',\n",
       " '',\n",
       " '',\n",
       " '',\n",
       " '',\n",
       " '',\n",
       " '',\n",
       " '',\n",
       " 'magazine cool',\n",
       " '',\n",
       " 'love magazine',\n",
       " '',\n",
       " '',\n",
       " 'galaxys publicmoments',\n",
       " 'makemoreportraits',\n",
       " 'whileinbetween',\n",
       " 'sunset',\n",
       " 'mrburberry',\n",
       " 'greekislands',\n",
       " 'greekislands',\n",
       " 'dogsofinsta',\n",
       " 'whpnaturalbeauty',\n",
       " 'greekislands',\n",
       " '',\n",
       " '',\n",
       " 'safehousedionysos safehouseiseverywhere safehouseclothes safehousetheplacetorelax safehouseistheonlyhouse dionysos safehouse mountainsarecallingyou safehousecafe',\n",
       " 'safehousetheplacetorelax safehouse dionysos safehousedionysos safehouseistheonlyhouse mountainsarecallingyou safehouseiseverywhere safehouseclothes safehousecafe',\n",
       " 'tagsforlikesapp tbt tflers tagsforlikes like like follow instamood fashion swag amazing instagood fun smile friends instadaily picoftheday bestoftheday followme happy girl summer instalike cute food igers love photooftheday beautiful',\n",
       " 'instadaily fashion picoftheday love happy tflers cute instamood sky iphonesia nofilter follow photooftheday iphoneonly tweegram tbt picstitch bestoftheday instagood food webstagram instagramhub summer beautiful girl jj tagsforlikes sun igers',\n",
       " 'tbt photooftheday food follow bestoftheday picstitch beautiful instagood instadaily tflers igers picoftheday jj sun fashion instagramhub nofilter cute tweegram iphoneonly happy tagsforlikes love girl instamood iphonesia webstagram summer sky',\n",
       " 'bestoftheday sky instagood girl jj webstagram instamood beautiful follow instadaily picstitch summer iphoneonly tbt fashion tagsforlikes picoftheday nofilter sun food tweegram instagramhub cute tflers iphonesia love igers happy photooftheday',\n",
       " 'tflers jj photooftheday instagood fashion bestoftheday instadaily instagramhub sky iphoneonly tagsforlikes love food picoftheday cute iphonesia igers nofilter picstitch webstagram happy girl beautiful summer tbt follow instamood tweegram sun',\n",
       " 'webstagram instamood jj sky tweegram iphonesia picstitch sun food love iphoneonly tbt tagsforlikes fashion igers picoftheday beautiful photooftheday cute nofilter instagramhub bestoftheday follow instadaily tflers summer happy instagood girl',\n",
       " 'tflers picstitch fashion girl igers jj beautiful nofilter iphonesia tweegram photooftheday picoftheday bestoftheday tbt iphoneonly food sun follow instagramhub instamood cute instadaily summer tagsforlikes webstagram sky love happy instagood',\n",
       " 'tbt instadaily happy bestoftheday igers love instalike picoftheday beautiful tagsforlikes friends amazing cute summer girl tagsforlikesapp instagood like like fun instamood tflers follow food swag fashion followme smile photooftheday',\n",
       " 'friends instadaily fashion instamood beautiful photooftheday followme love instalike follow cute happy bestoftheday instagood swag tagsforlikesapp igers amazing girl food summer like like smile tbt tflers picoftheday tagsforlikes fun',\n",
       " 'love happy photooftheday summer tagsforlikesapp tagsforlikes friends tflers follow fun amazing like like picoftheday instamood girl food instagood swag instalike smile fashion cute followme instadaily bestoftheday igers tbt beautiful',\n",
       " 'happy swag fashion igers instadaily tbt friends tflers girl follow cute summer tagsforlikesapp followme instagood instamood tagsforlikes bestoftheday beautiful smile instalike love food like like fun picoftheday amazing photooftheday',\n",
       " 'bestoftheday like like follow instagood fashion tagsforlikesapp tagsforlikes friends instalike beautiful swag smile instamood amazing girl love fun food picoftheday instadaily followme igers cute tbt summer happy photooftheday tflers',\n",
       " 'picoftheday follow tagsforlikes beautiful food fun cute like like amazing swag summer photooftheday smile tbt igers tagsforlikesapp tflers followme fashion girl friends love bestoftheday instagood instalike instamood happy instadaily',\n",
       " 'love fun instalike cute instadaily friends smile instagood like like photooftheday tflers amazing swag bestoftheday follow followme happy food tagsforlikesapp tbt tagsforlikes beautiful fashion igers instamood summer girl picoftheday',\n",
       " 'fun instamood girl amazing followme swag bestoftheday tagsforlikesapp tbt love smile igers summer instagood beautiful happy tagsforlikes tflers friends picoftheday instalike like like food photooftheday follow fashion cute instadaily',\n",
       " 'follow tflers instagood picoftheday like like cute swag igers fashion smile food beautiful instamood followme tagsforlikes bestoftheday friends amazing instalike instadaily photooftheday summer happy tbt love girl tagsforlikesapp fun',\n",
       " 'tbt summer bestoftheday instadaily fun cute picoftheday fashion tflers follow photooftheday instagood beautiful igers smile instamood like like happy amazing instalike girl swag food love friends followme tagsforlikesapp tagsforlikes',\n",
       " 'summer amazing instalike smile bestoftheday photooftheday instamood followme instadaily tflers fun girl beautiful fashion tagsforlikes friends cute tbt swag love instagood picoftheday happy igers like like food follow tagsforlikesapp',\n",
       " 'love summer happy picoftheday friends instalike bestoftheday followme fashion fun smile photooftheday tbt swag igers amazing instadaily tflers tagsforlikesapp like like instamood tagsforlikes instagood follow cute girl food beautiful',\n",
       " 'cute friends food instagood instalike picoftheday followme bestoftheday follow amazing summer tflers tagsforlikesapp happy photooftheday beautiful instamood swag fashion like like girl fun igers instadaily smile tagsforlikes love tbt',\n",
       " 'instalike followme like like cute beautiful fun happy friends tbt follow photooftheday fashion instamood amazing bestoftheday instagood girl tagsforlikes summer picoftheday smile tagsforlikesapp instadaily food love igers tflers swag',\n",
       " 'happy instamood girl tflers friends instagood fashion cute summer picoftheday food amazing followme photooftheday fun like like tagsforlikes instadaily smile igers tagsforlikesapp follow love tbt instalike swag bestoftheday beautiful',\n",
       " 'tagsforlikesapp happy instamood bestoftheday instagood instadaily follow fashion friends summer food like like igers instalike beautiful amazing tflers tagsforlikes followme love swag picoftheday girl tbt photooftheday fun cute smile',\n",
       " 'instadaily swag tbt tagsforlikes fashion follow followme instagood love fun summer igers photooftheday bestoftheday beautiful friends happy girl like like cute instamood food tagsforlikesapp instalike amazing smile tflers picoftheday',\n",
       " 'follow instalike girl smile instamood love friends instagood picoftheday igers cute fashion beautiful like like summer swag instadaily tbt photooftheday bestoftheday amazing food fun happy tflers tagsforlikesapp followme tagsforlikes',\n",
       " 'cute follow igers amazing swag instalike photooftheday picoftheday like like tagsforlikes happy love food beautiful tbt fun instamood followme instagood tflers bestoftheday instadaily girl fashion tagsforlikesapp smile friends summer',\n",
       " 'photooftheday tagsforlikesapp follow instagood igers followme happy picoftheday smile like like bestoftheday cute summer instadaily fashion food friends instamood fun tbt love tagsforlikes girl tflers swag amazing beautiful instalike',\n",
       " 'swag bestoftheday followme tflers amazing tagsforlikesapp fashion tagsforlikes food instagood cute follow summer happy like like tbt fun photooftheday girl igers beautiful instamood love instalike picoftheday instadaily smile friends',\n",
       " 'like like instagood food tagsforlikesapp igers fun amazing love picoftheday cute photooftheday friends tflers smile instamood follow instadaily tagsforlikes girl beautiful bestoftheday fashion tbt summer instalike swag followme happy',\n",
       " 'fashion tbt instagood tagsforlikes instamood girl beautiful smile food photooftheday love instalike happy like like picoftheday igers instadaily amazing bestoftheday friends swag fun follow tagsforlikesapp cute summer tflers followme',\n",
       " 'summer happy tagsforlikes instagood love tflers tagsforlikesapp instamood photooftheday igers followme tbt fun smile instadaily bestoftheday fashion cute instalike girl like like follow beautiful friends amazing picoftheday food swag',\n",
       " 'food summer friends instagood photooftheday fun happy igers amazing tagsforlikesapp beautiful instalike like like girl tagsforlikes tbt follow instadaily smile swag fashion instamood bestoftheday followme cute picoftheday tflers love',\n",
       " 'happy bestoftheday followme love instamood picoftheday summer igers cute like like instalike smile instadaily instagood follow food tagsforlikesapp photooftheday fun amazing tagsforlikes friends tflers fashion beautiful girl swag tbt',\n",
       " 'fashion instagood igers picoftheday friends instadaily follow love tagsforlikes swag like like food beautiful photooftheday summer fun instalike followme smile girl cute tbt happy instamood bestoftheday tagsforlikesapp tflers amazing',\n",
       " 'happy like like beautiful summer follow tagsforlikesapp fashion picoftheday tagsforlikes amazing food girl instadaily photooftheday tflers followme instamood smile love bestoftheday instagood instalike friends cute swag igers fun tbt',\n",
       " 'instamood picoftheday instadaily food friends happy beautiful fashion smile tagsforlikes instagood like like cute bestoftheday follow photooftheday instalike love followme tflers summer swag amazing tagsforlikesapp igers girl tbt fun',\n",
       " 'food friends cute like like amazing tagsforlikes instalike girl summer fashion tflers picoftheday instadaily followme igers instamood photooftheday happy fun tagsforlikesapp love smile swag tbt beautiful follow bestoftheday instagood',\n",
       " 'food friends cute like like amazing tagsforlikes instalike girl summer fashion tflers picoftheday instadaily followme igers instamood photooftheday happy fun tagsforlikesapp love smile swag tbt beautiful follow bestoftheday instagood',\n",
       " 'tflers tbt happy instagood tagsforlikesapp amazing picoftheday fashion food followme tagsforlikes igers instamood instalike summer girl beautiful friends photooftheday fun swag love follow instadaily smile bestoftheday like like cute',\n",
       " 'instadaily love beautiful happy igers amazing tflers summer photooftheday girl smile cute like like tagsforlikes fun picoftheday follow swag instamood instalike instagood food fashion bestoftheday followme tagsforlikesapp tbt friends',\n",
       " 'igers amazing smile instadaily swag tagsforlikesapp girl bestoftheday beautiful friends photooftheday followme tflers instalike food happy love follow cute fun picoftheday instagood summer like like tbt tagsforlikes fashion instamood',\n",
       " 'followme instalike amazing like like cute instamood follow girl fashion swag love tagsforlikesapp friends happy summer fun tflers photooftheday picoftheday food instadaily beautiful tagsforlikes smile igers bestoftheday tbt instagood',\n",
       " 'like like love girl instamood cute igers happy swag followme friends fun photooftheday tflers picoftheday instalike follow amazing tagsforlikesapp tbt fashion instadaily smile summer bestoftheday instagood tagsforlikes food beautiful',\n",
       " 'tflers like like girl friends tbt instamood beautiful fashion instagood tagsforlikesapp picoftheday happy cute follow smile tagsforlikes instadaily instalike bestoftheday swag food igers followme fun love amazing summer photooftheday',\n",
       " 'instamood girl happy tagsforlikes swag food instadaily like like cute followme tbt tagsforlikesapp picoftheday summer love instalike beautiful tflers bestoftheday fun friends amazing photooftheday follow fashion smile instagood igers',\n",
       " 'photooftheday happy fun tflers friends smile instadaily bestoftheday amazing fashion instagood swag love beautiful tagsforlikesapp summer follow tagsforlikes cute like like girl picoftheday food instalike tbt followme igers instamood',\n",
       " 'like like instadaily photooftheday tbt bestoftheday fun smile picoftheday amazing summer fashion swag follow beautiful tagsforlikes girl food instamood instalike followme instagood happy friends tflers love cute tagsforlikesapp igers',\n",
       " 'igers tflers instamood instadaily tbt tagsforlikesapp beautiful amazing girl bestoftheday photooftheday summer love tagsforlikes happy followme fashion fun instalike swag cute picoftheday like like friends food instagood follow smile',\n",
       " 'food instagood swag instamood love follow instalike beautiful tagsforlikesapp bestoftheday happy picoftheday tagsforlikes cute fun like like friends tflers amazing girl photooftheday igers summer followme fashion smile instadaily tbt',\n",
       " 'cute followme girl follow instalike instagood igers tbt love swag beautiful tagsforlikesapp instadaily tflers bestoftheday instamood like like smile food happy fashion amazing tagsforlikes summer fun picoftheday photooftheday friends',\n",
       " 'smile amazing happy instagood igers instadaily fashion food summer cute instamood tagsforlikes like like tagsforlikesapp bestoftheday beautiful picoftheday photooftheday swag friends tflers fun tbt instalike follow girl followme love',\n",
       " 'tbt happy photooftheday bestoftheday cute food tagsforlikes fun instamood summer followme girl igers smile tflers swag tagsforlikesapp like like picoftheday love instalike fashion follow beautiful amazing friends instagood instadaily',\n",
       " 'summer smile instagood love girl instamood beautiful happy tagsforlikes instalike picoftheday follow instadaily food fashion tflers tagsforlikesapp tbt swag followme cute amazing bestoftheday like like photooftheday igers friends fun',\n",
       " 'follow instalike summer tagsforlikesapp friends tbt happy smile instadaily like like swag love igers fashion bestoftheday instamood photooftheday followme food cute beautiful amazing fun instagood tagsforlikes tflers girl picoftheday',\n",
       " 'igers smile happy follow love beautiful photooftheday instamood swag cute amazing food tagsforlikesapp summer tflers instadaily instalike tagsforlikes fashion instagood tbt friends like like followme picoftheday girl bestoftheday fun',\n",
       " 'beautiful friends follow happy amazing photooftheday swag picoftheday instalike followme summer instamood girl tflers like like love instadaily fun tagsforlikes tbt tagsforlikesapp bestoftheday smile igers instagood cute food fashion',\n",
       " 'tagsforlikes summer fashion tbt amazing beautiful bestoftheday happy picoftheday igers smile swag cute tagsforlikesapp instalike love photooftheday girl instagood instadaily like like food followme follow fun instamood tflers friends',\n",
       " 'friends tagsforlikes instagood girl instamood tbt picoftheday happy summer love food amazing follow fun igers instadaily smile swag cute tagsforlikesapp tflers followme bestoftheday photooftheday like like beautiful instalike fashion',\n",
       " 'follow happy smile beautiful friends cute tbt tagsforlikes followme instalike bestoftheday picoftheday tagsforlikesapp tflers like like photooftheday love food summer instagood igers girl fashion fun swag instamood instadaily amazing',\n",
       " 'love girl bestoftheday igers follow beautiful followme fashion food friends fun instalike tbt photooftheday happy instagood amazing swag instadaily like like instamood tagsforlikesapp smile tagsforlikes tflers summer cute picoftheday',\n",
       " 'karaiskaki mistamatas olympiacos wekeepondreaming fans oloistonao',\n",
       " 'matchday superleague piraeus olympiacos football soccer legend greece levoly match',\n",
       " 'legend greece superleague olympiacos squadlist football piraeus levoly soccer',\n",
       " ...]"
      ]
     },
     "execution_count": 80,
     "metadata": {},
     "output_type": "execute_result"
    }
   ],
   "source": [
    "clean_tag"
   ]
  },
  {
   "cell_type": "code",
   "execution_count": 81,
   "metadata": {
    "collapsed": false
   },
   "outputs": [
    {
     "data": {
      "text/plain": [
       "(30003, 250)"
      ]
     },
     "execution_count": 81,
     "metadata": {},
     "output_type": "execute_result"
    }
   ],
   "source": [
    "clean_tag_vectorizer = CountVectorizer(analyzer = \"word\", tokenizer = None, preprocessor = None, stop_words = None, max_features = 250) \n",
    "clean_tag_features = clean_tag_vectorizer.fit_transform(clean_tag)\n",
    "clean_tag_features = clean_tag_features.toarray()\n",
    "clean_tag_features.shape"
   ]
  },
  {
   "cell_type": "code",
   "execution_count": 82,
   "metadata": {
    "collapsed": false
   },
   "outputs": [
    {
     "name": "stdout",
     "output_type": "stream",
     "text": [
      "['acp', 'acropolis', 'actor', 'actorslife', 'actress', 'actresslife', 'aj', 'alphatv', 'amazing', 'ammo', 'amphictyonyofancientgreekcities', 'andreasgeorgiou', 'ant', 'armaswords', 'arms', 'ataka', 'atakes', 'athens', 'avraquotes', 'backstage', 'basilisavramidis', 'beautiful', 'beauty', 'bestoftheday', 'blogger', 'bloggerlife', 'brusko', 'bsbfashion', 'celebrities', 'celebritiesnews', 'champions', 'coffee', 'comingsoon', 'cosmopoliti', 'crueltyfree', 'cute', 'cyprus', 'daddysboy', 'dailybadass', 'dancegr', 'dancelikeeveryoneiswatching', 'day', 'despinavandicollection', 'director', 'dog', 'easter', 'eleni', 'elenimenegaki', 'enjoy', 'europe', 'evita', 'evitagreece', 'family', 'fans', 'fashion', 'fashionblogger', 'fashionista', 'filming', 'final', 'firearmlove', 'firearms', 'firempotography', 'follow', 'followme', 'food', 'foodporn', 'football', 'friends', 'friendship', 'fthis', 'fun', 'girl', 'glock', 'goodmorning', 'greece', 'greek', 'greekcup', 'greekeaster', 'greekgirl', 'greekislands', 'greeklife', 'greekmovies', 'greekorthodox', 'greeks', 'greektv', 'greekvideos', 'gunlife', 'gunpics', 'gunporn', 'guns', 'gunsdaly', 'gunslove', 'gunspictures', 'handgun', 'hantampakakia', 'hantasurvivor', 'happeningnow', 'happy', 'happyeaster', 'happyme', 'hellas', 'holiday', 'holidays', 'igers', 'igmilitia', 'igtravel', 'ilovelondon', 'inarow', 'influencer', 'instadaily', 'instafashion', 'instago', 'instagood', 'instalike', 'instamood', 'instapassport', 'instaphoto', 'instastyle', 'instatravel', 'instatraveling', 'iphoneonly', 'island', 'justjulie', 'karaiskaki', 'klama', 'legend', 'life', 'like', 'linkinbio', 'live', 'look', 'love', 'maboy', 'magnum', 'makeupaddict', 'makeupjunkie', 'maldives', 'manhattan', 'mani', 'maniggas', 'manikas', 'marathon', 'marathongr', 'meandmyboys', 'men', 'mensfashion', 'menshair', 'menwithstreetstyle', 'menwithstyle', 'military', 'mistamatas', 'mm', 'model', 'mood', 'moodoftheday', 'mpinos', 'mprousko', 'mrandson', 'myblog', 'mytravelgram', 'nature', 'new', 'newyork', 'nofilter', 'nyc', 'nyxcosmeticsgreece', 'nyxprofessionalmakeup', 'oloistonao', 'olyefs', 'olyfcacademy', 'olympiacos', 'olympiacosbc', 'olypas', 'ootd', 'orthodox', 'paparazzi', 'perfect', 'peru', 'pewpew', 'pewpewlife', 'photography', 'photogun', 'photooftheday', 'photoshoot', 'picoftheday', 'piraeus', 'pistol', 'progun', 'proud', 'quoteoftheday', 'repost', 'retro', 'revolver', 'risingstargr', 'santorini', 'sea', 'selfdefense', 'selfie', 'series', 'shooting', 'sky', 'smile', 'smithandwesson', 'soccer', 'spring', 'ss', 'stathispsaltis', 'staytuned', 'streetstyle', 'style', 'summer', 'sun', 'sunday', 'sunset', 'superleague', 'survivorgr', 'swag', 'syntaghthshmeras', 'sytycdgr', 'tactical', 'tacticallife', 'tagsforlikes', 'tagsforlikesapp', 'tb', 'tbt', 'teborg', 'tflers', 'therecipeoftheday', 'tinos', 'tiro', 'travel', 'travelblogger', 'travelgram', 'traveling', 'travelingram', 'travelling', 'trip', 'truestory', 'tv', 'usa', 'vacation', 'video', 'view', 'visiting', 'weapons', 'wekeepondreaming', 'womenwithstyle', 'wordsguns', 'wu', 'yfsf']\n"
     ]
    }
   ],
   "source": [
    "vocab = clean_tag_vectorizer.get_feature_names()\n",
    "print(vocab)"
   ]
  },
  {
   "cell_type": "code",
   "execution_count": 89,
   "metadata": {
    "collapsed": false
   },
   "outputs": [],
   "source": [
    "#dataset1 = np.hstack((clean_places_features,clean_mentions_features,clean_tag_features,clean_user_features,clean_features))\n",
    "dataset1 = np.hstack((clean_tag_features, clean_features))\n",
    "dataset2 = np.hstack((data.FOLLOWERS.as_matrix().reshape(30003,1), data.FOLLOWING.as_matrix().reshape(30003,1)))"
   ]
  },
  {
   "cell_type": "code",
   "execution_count": 90,
   "metadata": {
    "collapsed": false
   },
   "outputs": [
    {
     "data": {
      "text/plain": [
       "(30003, 500)"
      ]
     },
     "execution_count": 90,
     "metadata": {},
     "output_type": "execute_result"
    }
   ],
   "source": [
    "dataset1.shape"
   ]
  },
  {
   "cell_type": "code",
   "execution_count": 91,
   "metadata": {
    "collapsed": false
   },
   "outputs": [],
   "source": [
    "dataset = np.hstack((dataset1,dataset2))\n",
    "#dataset = np.hstack((clean_features,dataset2))"
   ]
  },
  {
   "cell_type": "code",
   "execution_count": 92,
   "metadata": {
    "collapsed": false,
    "scrolled": true
   },
   "outputs": [
    {
     "data": {
      "text/plain": [
       "(30003, 502)"
      ]
     },
     "execution_count": 92,
     "metadata": {},
     "output_type": "execute_result"
    }
   ],
   "source": [
    "dataset.shape"
   ]
  },
  {
   "cell_type": "code",
   "execution_count": 93,
   "metadata": {
    "collapsed": true
   },
   "outputs": [],
   "source": [
    "import xgboost as xgb\n",
    "from sklearn.model_selection import GridSearchCV"
   ]
  },
  {
   "cell_type": "code",
   "execution_count": 94,
   "metadata": {
    "collapsed": false
   },
   "outputs": [],
   "source": [
    "parameters = {\n",
    "         }\n",
    "xg = GridSearchCV(xgb.XGBRegressor(), parameters, cv = 5, scoring = 'neg_mean_squared_error', verbose=100)"
   ]
  },
  {
   "cell_type": "code",
   "execution_count": 102,
   "metadata": {
    "collapsed": false
   },
   "outputs": [],
   "source": [
    "for i in range(30003):\n",
    "    for j in range(252):\n",
    "        if np.isnan(dataset[i][j]):\n",
    "            print ('yes')\n",
    "            dataset[i][j] = 0"
   ]
  },
  {
   "cell_type": "code",
   "execution_count": 103,
   "metadata": {
    "collapsed": false
   },
   "outputs": [
    {
     "name": "stdout",
     "output_type": "stream",
     "text": [
      "5896\n",
      "5897\n",
      "5898\n"
     ]
    }
   ],
   "source": [
    "y = np.ravel(data.LIKES)\n",
    "for i in range(30003):\n",
    "    if np.isnan(y[i]):\n",
    "        print (i)\n",
    "        y[i] = 0"
   ]
  },
  {
   "cell_type": "code",
   "execution_count": 105,
   "metadata": {
    "collapsed": false
   },
   "outputs": [
    {
     "name": "stdout",
     "output_type": "stream",
     "text": [
      "Fitting 5 folds for each of 1 candidates, totalling 5 fits\n",
      "[CV]  ................................................................\n",
      "[CV] ......................... , score=-88243121.247637, total=   7.7s\n",
      "[Parallel(n_jobs=1)]: Done   1 out of   1 | elapsed:    8.0s remaining:    0.0s\n",
      "[CV]  ................................................................\n",
      "[CV] .......................... , score=-3244789.235974, total=   8.2s\n",
      "[Parallel(n_jobs=1)]: Done   2 out of   2 | elapsed:   16.4s remaining:    0.0s\n",
      "[CV]  ................................................................\n",
      "[CV] .......................... , score=-1747232.796454, total=   7.8s\n",
      "[Parallel(n_jobs=1)]: Done   3 out of   3 | elapsed:   24.4s remaining:    0.0s\n",
      "[CV]  ................................................................\n",
      "[CV] ........................... , score=-735264.226367, total=   8.1s\n",
      "[Parallel(n_jobs=1)]: Done   4 out of   4 | elapsed:   32.8s remaining:    0.0s\n",
      "[CV]  ................................................................\n",
      "[CV] ........................... , score=-639814.350717, total=   7.8s\n",
      "[Parallel(n_jobs=1)]: Done   5 out of   5 | elapsed:   40.9s remaining:    0.0s\n",
      "[Parallel(n_jobs=1)]: Done   5 out of   5 | elapsed:   40.9s finished\n"
     ]
    },
    {
     "data": {
      "text/plain": [
       "-18923259.8835508"
      ]
     },
     "execution_count": 105,
     "metadata": {},
     "output_type": "execute_result"
    }
   ],
   "source": [
    "xg.fit(dataset, y)\n",
    "xg.best_score_"
   ]
  },
  {
   "cell_type": "code",
   "execution_count": 189,
   "metadata": {
    "collapsed": false
   },
   "outputs": [
    {
     "data": {
      "text/plain": [
       "-9971761377.423933"
      ]
     },
     "execution_count": 189,
     "metadata": {},
     "output_type": "execute_result"
    }
   ],
   "source": [
    "from sklearn.model_selection import cross_val_score\n",
    "model = xgb.XGBRegressor()\n",
    "scores = cross_val_score(model, dataset, np.ravel(data.numberLikes), cv=5, scoring = 'neg_mean_squared_error')\n",
    "np.mean(scores)"
   ]
  },
  {
   "cell_type": "code",
   "execution_count": 190,
   "metadata": {
    "collapsed": false
   },
   "outputs": [],
   "source": [
    "from sklearn.cross_validation import train_test_split"
   ]
  },
  {
   "cell_type": "code",
   "execution_count": 191,
   "metadata": {
    "collapsed": true
   },
   "outputs": [],
   "source": [
    "x_train, x_test, y_train, y_test = train_test_split(dataset, np.ravel(data.numberLikes), test_size=0.2, random_state=42)"
   ]
  },
  {
   "cell_type": "code",
   "execution_count": 192,
   "metadata": {
    "collapsed": false
   },
   "outputs": [
    {
     "data": {
      "text/plain": [
       "XGBRegressor(base_score=0.5, colsample_bylevel=1, colsample_bytree=1, gamma=0,\n",
       "       learning_rate=0.1, max_delta_step=0, max_depth=3,\n",
       "       min_child_weight=1, missing=None, n_estimators=100, nthread=-1,\n",
       "       objective='reg:linear', reg_alpha=0, reg_lambda=1,\n",
       "       scale_pos_weight=1, seed=0, silent=True, subsample=1)"
      ]
     },
     "execution_count": 192,
     "metadata": {},
     "output_type": "execute_result"
    }
   ],
   "source": [
    "model = xgb.XGBRegressor()\n",
    "model.fit(x_train, y_train)"
   ]
  },
  {
   "cell_type": "code",
   "execution_count": 193,
   "metadata": {
    "collapsed": false
   },
   "outputs": [
    {
     "data": {
      "text/plain": [
       "0.48517030551434759"
      ]
     },
     "execution_count": 193,
     "metadata": {},
     "output_type": "execute_result"
    }
   ],
   "source": [
    "model.score(x_test,y_test)"
   ]
  },
  {
   "cell_type": "code",
   "execution_count": 196,
   "metadata": {
    "collapsed": false
   },
   "outputs": [],
   "source": [
    "testing = model.predict(x_test)"
   ]
  },
  {
   "cell_type": "code",
   "execution_count": 201,
   "metadata": {
    "collapsed": false
   },
   "outputs": [
    {
     "data": {
      "text/plain": [
       "86009.141"
      ]
     },
     "execution_count": 201,
     "metadata": {},
     "output_type": "execute_result"
    }
   ],
   "source": [
    "testing[4]"
   ]
  },
  {
   "cell_type": "code",
   "execution_count": 202,
   "metadata": {
    "collapsed": false
   },
   "outputs": [
    {
     "data": {
      "text/plain": [
       "144000"
      ]
     },
     "execution_count": 202,
     "metadata": {},
     "output_type": "execute_result"
    }
   ],
   "source": [
    "y_test[4]"
   ]
  },
  {
   "cell_type": "code",
   "execution_count": null,
   "metadata": {
    "collapsed": true
   },
   "outputs": [],
   "source": []
  }
 ],
 "metadata": {
  "kernelspec": {
   "display_name": "Python 3",
   "language": "python",
   "name": "python3"
  },
  "language_info": {
   "codemirror_mode": {
    "name": "ipython",
    "version": 3
   },
   "file_extension": ".py",
   "mimetype": "text/x-python",
   "name": "python",
   "nbconvert_exporter": "python",
   "pygments_lexer": "ipython3",
   "version": "3.6.0"
  }
 },
 "nbformat": 4,
 "nbformat_minor": 2
}
