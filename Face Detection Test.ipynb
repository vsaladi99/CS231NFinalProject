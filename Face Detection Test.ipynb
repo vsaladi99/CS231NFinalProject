{
 "cells": [
  {
   "cell_type": "code",
   "execution_count": null,
   "metadata": {},
   "outputs": [],
   "source": [
    "print(final_arr[0][2].shape)\n",
    "image_file_name = 'tombrady/57488194_358102445052511_1584843699930125451_n.jpg'\n",
    "\n",
    "print(image_file_name)\n",
    "image = Image.open(image_file_name, 'r')\n",
    "image = img_to_array(pic)\n",
    "image = cv2.imread(image_file_name)"
   ]
  },
  {
   "cell_type": "code",
   "execution_count": null,
   "metadata": {},
   "outputs": [],
   "source": [
    "faces, confidences = cv.detect_face(image)\n",
    "\n",
    "print(faces)\n",
    "print(confidences)\n",
    "print(detect_genders(faces, confidences, image_file_name))\n",
    "\n",
    "for face,conf in zip(faces,confidences):\n",
    "    (startX,startY) = face[0],face[1]\n",
    "    (endX,endY) = face[2],face[3]\n",
    "\n",
    "    # draw rectangle over face\n",
    "    cv2.rectangle(image, (startX,startY), (endX,endY), (0,255,0), 2)\n",
    "\n",
    "# display output\n",
    "# press any key to close window           \n",
    "#cv2.imshow(\"face_detection\", image)\n",
    "#cv2.waitKey()\n",
    "\n",
    "# save output\n",
    "#cv2.imwrite(\"face_detection.jpg\", image)\n",
    "\n",
    "# release resources\n",
    "#cv2.destroyAllWindows()"
   ]
  }
 ],
 "metadata": {
  "kernelspec": {
   "display_name": "Python 2",
   "language": "python",
   "name": "python2"
  },
  "language_info": {
   "codemirror_mode": {
    "name": "ipython",
    "version": 2
   },
   "file_extension": ".py",
   "mimetype": "text/x-python",
   "name": "python",
   "nbconvert_exporter": "python",
   "pygments_lexer": "ipython2",
   "version": "2.7.15"
  }
 },
 "nbformat": 4,
 "nbformat_minor": 2
}
