{
 "cells": [
  {
   "cell_type": "code",
   "execution_count": 1,
   "metadata": {},
   "outputs": [
    {
     "name": "stderr",
     "output_type": "stream",
     "text": [
      "Using TensorFlow backend.\n"
     ]
    }
   ],
   "source": [
    "import numpy as np\n",
    "import matplotlib.pyplot as plt\n",
    "import pandas as pd\n",
    "import seaborn as sns\n",
    "import scipy as sp\n",
    "from scipy import ndimage\n",
    "from keras.preprocessing.image import ImageDataGenerator, array_to_img, img_to_array, load_img\n",
    "from sklearn.linear_model import LogisticRegression\n",
    "import xgboost as xgb\n",
    "\n",
    "from scipy import sparse\n",
    "from IPython.display import Image\n",
    "\n",
    "from mpl_toolkits.mplot3d import Axes3D\n",
    "\n",
    "sns.set(style=\"ticks\", color_codes=True)\n",
    "%matplotlib inline\n",
    "\n",
    "import os\n",
    "import json\n",
    "\n",
    "from sklearn.model_selection import train_test_split\n",
    "from sklearn.metrics import mean_squared_error\n",
    "\n",
    "from hyperopt import hp\n",
    "from hyperopt import fmin, tpe, hp, STATUS_OK, Trials\n",
    "\n",
    "from datetime import datetime\n",
    "import dateutil\n",
    "\n",
    "from sklearn import preprocessing\n",
    "from sklearn.preprocessing import OneHotEncoder\n",
    "\n",
    "#For re-sizing\n",
    "from skimage.transform import resize\n",
    "from scipy import misc\n",
    "import matplotlib.pyplot as plt\n",
    "import skimage\n"
   ]
  },
  {
   "cell_type": "code",
   "execution_count": 2,
   "metadata": {},
   "outputs": [],
   "source": [
    "paths = [\"alexachung\", \"bucketlistjourney\", \"mariekondo\", \"jamieoliver\", \"gypsea_lust\", \n",
    "         \"kimkardashian\", \"tombrady\", \"ocasio2018\"]\n",
    "# filelist = os.listdir(path)\n",
    "followers = {}\n",
    "followers[\"alexachung\"] = float(3300000)\n",
    "followers[\"bucketlistjourney\"] = float(100000)\n",
    "followers[\"mariekondo\"] = float(3000000)\n",
    "followers[\"jamieoliver\"] = float(6700000)\n",
    "followers[\"gypsea_lust\"] = float(2100000)\n",
    "followers[\"kimkardashian\"] = float(138000000)\n",
    "followers[\"tombrady\"] = float(6100000)\n",
    "followers[\"ocasio2018\"] = float(3400000)"
   ]
  },
  {
   "cell_type": "code",
   "execution_count": 3,
   "metadata": {},
   "outputs": [],
   "source": [
    "# print(filelist)"
   ]
  },
  {
   "cell_type": "code",
   "execution_count": 4,
   "metadata": {},
   "outputs": [],
   "source": [
    "image_arrays = []\n",
    "for p in paths:\n",
    "    filelist = os.listdir(p)\n",
    "    for file in filelist:\n",
    "        if str(file)[-1] != \"g\":\n",
    "            continue\n",
    "        pic = load_img(p + str(\"/\") + str(file))\n",
    "        arr = img_to_array(pic)\n",
    "        image_arrays.append((p, str(file), arr))"
   ]
  },
  {
   "cell_type": "code",
   "execution_count": 5,
   "metadata": {},
   "outputs": [],
   "source": [
    "# likes = {}\n",
    "##alexachung\n",
    "# likes['49515991_325105068134195_2502436908030754816_n.jpg'] = 70420/float(3300000)\n",
    "# likes['57487966_302650897331937_5403985171049488247_n.jpg'] = 17348/float(3300000)\n",
    "# likes['57511927_446139556140698_1423052042252082236_n.jpg'] = 65748/float(3300000)\n",
    "# likes['57568586_144722209994647_2830766459764292268_n.jpg'] = 10895/float(3300000)\n",
    "# likes['57598467_109244776838216_8820137001977022933_n.jpg'] = 40605/float(3300000)\n",
    "# likes['57939604_1405275606280969_2279277994967177982_n.jpg'] = 23967/float(3300000)\n",
    "# likes['58409673_1888377867934548_3131009389787177355_n.jpg'] = 10751/float(3300000)\n",
    "# likes['58453539_318563102171701_5107544445594239315_n.jpg'] = 86223/float(3300000)\n",
    "# likes['58994690_801384873562945_4583796651625414985_n.jpg'] = 11525/float(3300000)\n",
    "# likes['59444228_294271814828332_6767495519858000574_n.jpg'] = 11413/float(3300000)\n",
    "##bucketlistjourney\n",
    "# likes['55833113_101630534350977_1094977877308446010_n.jpg'] = 1516/float(100000)\n",
    "# likes['56551834_425069051389781_109123601724488242_n.jpg'] = 2101/float(100000)\n",
    "# likes['56723983_2406294326067674_5616514260652929922_n.jpg']= 1537/float(100000)\n",
    "# likes['57079872_417108132452805_7217303575806642240_n.jpg'] = 1648/float(100000)\n",
    "# likes['57303614_417134662419576_8391179438478254088_n.jpg'] = 1893/float(100000)\n",
    "# likes['57488073_1698865903746235_5017296675194952573_n.jpg'] = 1586/float(100000)\n",
    "# likes['59121268_335244693724167_1568576480147494457_n.jpg'] = 1268/float(100000)\n",
    "# likes['59653184_473330100071412_854043323488496358_n.jpg'] = 1430/float(100000)\n",
    "# likes['59767226_464352457440775_6041614318666971112_n.jpg'] = 1527/float(100000)\n",
    "## mariekondo\n",
    "# likes['57156342_439041043332802_6453832952748634114_n.jpg'] = 41385/float(3000000)\n",
    "# likes['57488299_116322816235392_585018211250187577_n.jpg'] = 50030/float(3000000)\n",
    "# likes['58410871_2006268226148824_757526892481287304_n.jpg']= 20675/float(3000000)\n",
    "# likes['58454153_164208737935546_2059782334648101007_n.jpg'] = 33805/float(3000000)\n",
    "# likes['58633288_409904143168033_5649104692346330542_n.jpg'] = 55217/float(3000000)\n",
    "# likes['58761690_440356990056612_3929126082977610222_n.jpg'] = 296716/float(3000000)\n",
    "# likes['59168564_298866867672149_9098514675948050337_n.jpg'] = 78761/float(3000000)\n",
    "# likes['59395411_533315747197450_3553175472566079939_n.jpg'] = 25392/float(3000000)\n",
    "# likes['59578280_135526804257525_6333761325389553942_n.jpg'] = 16956/float(3000000)\n",
    "# likes['60020974_135693017599477_3289982818027062878_n.jpg'] = 69548/float(3000000)\n",
    "## jamieoliver\n"
   ]
  },
  {
   "cell_type": "code",
   "execution_count": 6,
   "metadata": {},
   "outputs": [
    {
     "name": "stdout",
     "output_type": "stream",
     "text": [
      "142\n",
      "81\n",
      "81\n",
      "81\n"
     ]
    }
   ],
   "source": [
    "dataDict = {}\n",
    "for path in paths:\n",
    "    with open(path + str(\"/\") + path + str(\".json\")) as f:\n",
    "        data = json.load(f)\n",
    "    dataDict[path] = data\n",
    "\n",
    "likes = {}\n",
    "final_arr = []\n",
    "likes_array = []\n",
    "for img in image_arrays:\n",
    "    jsonData = dataDict[img[0]]\n",
    "    for i in range(len(jsonData['GraphImages'])):\n",
    "        if img[1] in jsonData['GraphImages'][i][\"display_url\"]:\n",
    "            likes[img[1]] = jsonData['GraphImages'][i][\"edge_media_preview_like\"][\"count\"]/followers[img[0]]\n",
    "            final_arr.append(img)\n",
    "            likes_array.append(jsonData['GraphImages'][i][\"edge_media_preview_like\"][\"count\"]/followers[img[0]])\n",
    "            \n",
    "\n",
    "print(len(image_arrays))\n",
    "print(len(likes))\n",
    "\n",
    "\n",
    "print(len(final_arr))\n",
    "print(len(likes))\n",
    "\n",
    "# y = []\n",
    "# for img in final_arr:\n",
    "#     filename = img[1]\n",
    "#     y.append(likes[filename]/followers[img[0]])\n",
    "# print(y[0])"
   ]
  },
  {
   "cell_type": "code",
   "execution_count": 7,
   "metadata": {},
   "outputs": [],
   "source": [
    "### Create datasets \n",
    "img_values = []\n",
    "i_height = 32\n",
    "i_width = 32\n",
    "for img in final_arr:\n",
    "    image = np.asarray(img[2])\n",
    "    image = np.divide(image, float(255))\n",
    "    image = skimage.transform.resize(image, (i_height, i_width), anti_aliasing=True, mode='reflect')\n",
    "    img_values.append(image.flatten())"
   ]
  },
  {
   "cell_type": "code",
   "execution_count": 8,
   "metadata": {},
   "outputs": [
    {
     "name": "stdout",
     "output_type": "stream",
     "text": [
      "<class 'numpy.ndarray'>\n",
      "[0.00726273 0.00525697 0.00325788 0.01992364 0.00349242 0.00330152\n",
      " 0.02612818 0.01230455 0.00345818 0.01527    0.01893    0.02101\n",
      " 0.01268    0.01648    0.01537    0.01586    0.0143     0.01516\n",
      " 0.005652   0.09890533 0.00689167 0.02318033 0.01667667 0.00846433\n",
      " 0.018406   0.013795   0.011268   0.02625333 0.00457478 0.00309254\n",
      " 0.00440985 0.00433552 0.00270791 0.00363343 0.02360238 0.02661571\n",
      " 0.02395476 0.02778381 0.01838286 0.03593381 0.02072476 0.02280381\n",
      " 0.02300667 0.03447238 0.01263476 0.01695762 0.00181449 0.01279488\n",
      " 0.02663065 0.01418512 0.0121562  0.02043403 0.02202417 0.0157633\n",
      " 0.01075553 0.04449575 0.02532577 0.03876755 0.00961025 0.01409393\n",
      " 0.0625359  0.11832869 0.05896213 0.09238492 0.08708574 0.03607459\n",
      " 0.05351656 0.05183902 0.0807677  0.06024459 0.07291098 0.06169623\n",
      " 0.07888574 0.06452618 0.14062147 0.21582735 0.08647588 0.09412882\n",
      " 0.03146059 0.06845324 0.24071853]\n",
      "[ 2  1  1  6  1  1  8  4  1  5  6  7  4  5  5  5  4  5  1 32  2  7  5  2\n",
      "  6  4  3  8  1  1  1  1  0  1  7  8  7  9  6 11  6  7  7 11  4  5  0  4\n",
      "  8  4  4  6  7  5  3 14  8 12  3  4 20 39 19 30 29 12 17 17 26 20 24 20\n",
      " 26 21 46 71 28 31 10 22 80]\n"
     ]
    }
   ],
   "source": [
    "# Make y discrete\n",
    "\n",
    "# y = np.asarray(likes)\n",
    "y = np.asarray(likes_array)\n",
    "print(type(y))\n",
    "new_y = np.divide(y, 0.003)\n",
    "print(y)\n",
    "new_y = new_y.astype(int)\n",
    "print(new_y)"
   ]
  },
  {
   "cell_type": "code",
   "execution_count": 9,
   "metadata": {},
   "outputs": [],
   "source": [
    "X_train, X_test, y_train, y_test = train_test_split(img_values, new_y, test_size=0.1, random_state=0)"
   ]
  },
  {
   "cell_type": "code",
   "execution_count": 12,
   "metadata": {},
   "outputs": [
    {
     "name": "stderr",
     "output_type": "stream",
     "text": [
      "[Parallel(n_jobs=1)]: Using backend SequentialBackend with 1 concurrent workers.\n"
     ]
    },
    {
     "name": "stdout",
     "output_type": "stream",
     "text": [
      "796.5555555555555\n",
      "[ 5  8 39  5 20 46  1 14  5]\n",
      "[ 2 71  7  1  1  5  1  4  8]\n"
     ]
    },
    {
     "name": "stderr",
     "output_type": "stream",
     "text": [
      "[Parallel(n_jobs=1)]: Done   1 out of   1 | elapsed:  4.7min remaining:    0.0s\n",
      "[Parallel(n_jobs=1)]: Done   1 out of   1 | elapsed:  4.7min finished\n"
     ]
    }
   ],
   "source": [
    "### Log Reg \n",
    "\n",
    "clf = LogisticRegression(random_state=0, solver='lbfgs', multi_class='multinomial', max_iter=2000,\n",
    "                         class_weight='balanced', verbose=5).fit(X_train, y_train)\n",
    "\n",
    "y = clf.predict(X_test)\n",
    "\n",
    "print(mean_squared_error(y_test, y))\n",
    "print(y_test)\n",
    "print(y)"
   ]
  },
  {
   "cell_type": "code",
   "execution_count": null,
   "metadata": {},
   "outputs": [],
   "source": []
  },
  {
   "cell_type": "code",
   "execution_count": 11,
   "metadata": {},
   "outputs": [
    {
     "ename": "IndexError",
     "evalue": "tuple index out of range",
     "output_type": "error",
     "traceback": [
      "\u001b[0;31m---------------------------------------------------------------------------\u001b[0m",
      "\u001b[0;31mIndexError\u001b[0m                                Traceback (most recent call last)",
      "\u001b[0;32m<ipython-input-11-d4929ce78221>\u001b[0m in \u001b[0;36m<module>\u001b[0;34m\u001b[0m\n\u001b[1;32m      2\u001b[0m \u001b[0mplt\u001b[0m\u001b[0;34m.\u001b[0m\u001b[0mtitle\u001b[0m\u001b[0;34m(\u001b[0m\u001b[0;34m'G channel'\u001b[0m\u001b[0;34m)\u001b[0m\u001b[0;34m\u001b[0m\u001b[0;34m\u001b[0m\u001b[0m\n\u001b[1;32m      3\u001b[0m \u001b[0mplt\u001b[0m\u001b[0;34m.\u001b[0m\u001b[0mylabel\u001b[0m\u001b[0;34m(\u001b[0m\u001b[0;34m'Height {}'\u001b[0m\u001b[0;34m.\u001b[0m\u001b[0mformat\u001b[0m\u001b[0;34m(\u001b[0m\u001b[0mX_train\u001b[0m\u001b[0;34m[\u001b[0m\u001b[0;36m1\u001b[0m\u001b[0;34m]\u001b[0m\u001b[0;34m.\u001b[0m\u001b[0mshape\u001b[0m\u001b[0;34m[\u001b[0m\u001b[0;36m0\u001b[0m\u001b[0;34m]\u001b[0m\u001b[0;34m)\u001b[0m\u001b[0;34m)\u001b[0m\u001b[0;34m\u001b[0m\u001b[0;34m\u001b[0m\u001b[0m\n\u001b[0;32m----> 4\u001b[0;31m \u001b[0mplt\u001b[0m\u001b[0;34m.\u001b[0m\u001b[0mxlabel\u001b[0m\u001b[0;34m(\u001b[0m\u001b[0;34m'Width {}'\u001b[0m\u001b[0;34m.\u001b[0m\u001b[0mformat\u001b[0m\u001b[0;34m(\u001b[0m\u001b[0mX_train\u001b[0m\u001b[0;34m[\u001b[0m\u001b[0;36m1\u001b[0m\u001b[0;34m]\u001b[0m\u001b[0;34m.\u001b[0m\u001b[0mshape\u001b[0m\u001b[0;34m[\u001b[0m\u001b[0;36m1\u001b[0m\u001b[0;34m]\u001b[0m\u001b[0;34m)\u001b[0m\u001b[0;34m)\u001b[0m\u001b[0;34m\u001b[0m\u001b[0;34m\u001b[0m\u001b[0m\n\u001b[0m\u001b[1;32m      5\u001b[0m \u001b[0;34m\u001b[0m\u001b[0m\n\u001b[1;32m      6\u001b[0m \u001b[0mplt\u001b[0m\u001b[0;34m.\u001b[0m\u001b[0mimshow\u001b[0m\u001b[0;34m(\u001b[0m\u001b[0mX_train\u001b[0m\u001b[0;34m[\u001b[0m\u001b[0;36m1\u001b[0m\u001b[0;34m]\u001b[0m\u001b[0;34m[\u001b[0m \u001b[0;34m:\u001b[0m \u001b[0;34m,\u001b[0m \u001b[0;34m:\u001b[0m \u001b[0;34m,\u001b[0m \u001b[0;36m0\u001b[0m\u001b[0;34m]\u001b[0m\u001b[0;34m)\u001b[0m\u001b[0;34m\u001b[0m\u001b[0;34m\u001b[0m\u001b[0m\n",
      "\u001b[0;31mIndexError\u001b[0m: tuple index out of range"
     ]
    },
    {
     "data": {
      "image/png": "[encoded data removed]",
      "text/plain": [
       "<Figure size 432x288 with 1 Axes>"
      ]
     },
     "metadata": {
      "needs_background": "light"
     },
     "output_type": "display_data"
    }
   ],
   "source": [
    "# Plotting Images\n",
    "plt.title('G channel')\n",
    "plt.ylabel('Height {}'.format(X_train[1].shape[0]))\n",
    "plt.xlabel('Width {}'.format(X_train[1].shape[1]))\n",
    "\n",
    "plt.imshow(X_train[1][ : , : , 0])\n",
    "plt.show()\n",
    "\n"
   ]
  }
 ],
 "metadata": {
  "kernelspec": {
   "display_name": "Python 3",
   "language": "python",
   "name": "python3"
  },
  "language_info": {
   "codemirror_mode": {
    "name": "ipython",
    "version": 3
   },
   "file_extension": ".py",
   "mimetype": "text/x-python",
   "name": "python",
   "nbconvert_exporter": "python",
   "pygments_lexer": "ipython3",
   "version": "3.6.8"
  }
 },
 "nbformat": 4,
 "nbformat_minor": 2
}
