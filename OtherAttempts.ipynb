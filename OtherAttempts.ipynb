{
 "cells": [
  {
   "cell_type": "code",
   "execution_count": 2,
   "metadata": {},
   "outputs": [],
   "source": [
    "import numpy as np\n",
    "import matplotlib.pyplot as plt\n",
    "import pandas as pd\n",
    "import seaborn as sns\n",
    "import scipy as sp\n",
    "from scipy import ndimage\n",
    "from keras.preprocessing.image import ImageDataGenerator, array_to_img, img_to_array, load_img\n",
    "from sklearn.linear_model import LogisticRegression\n",
    "import xgboost as xgb\n",
    "\n",
    "from scipy import sparse\n",
    "from IPython.display import Image\n",
    "\n",
    "from mpl_toolkits.mplot3d import Axes3D\n",
    "\n",
    "sns.set(style=\"ticks\", color_codes=True)\n",
    "%matplotlib inline\n",
    "\n",
    "import os\n",
    "import json\n",
    "\n",
    "from sklearn.model_selection import train_test_split\n",
    "from sklearn.metrics import mean_squared_error\n",
    "\n",
    "from hyperopt import hp\n",
    "from hyperopt import fmin, tpe, hp, STATUS_OK, Trials\n",
    "\n",
    "from datetime import datetime\n",
    "import dateutil\n",
    "\n",
    "from sklearn import preprocessing\n",
    "from sklearn.preprocessing import OneHotEncoder\n",
    "from sklearn.neighbors import KNeighborsClassifier\n",
    "\n",
    "#For re-sizing\n",
    "from skimage.transform import resize\n",
    "from scipy import misc\n",
    "import matplotlib.pyplot as plt\n",
    "import skimage"
   ]
  },
  {
   "cell_type": "code",
   "execution_count": 3,
   "metadata": {},
   "outputs": [],
   "source": [
    "paths = [\"alexachung\", \"bucketlistjourney\", \"mariekondo\", \"jamieoliver\", \"gypsea_lust\", \n",
    "         \"kimkardashian\", \"tombrady\", \"ocasio2018\"]\n",
    "# filelist = os.listdir(path)\n",
    "followers = {}\n",
    "followers[\"alexachung\"] = float(3300000)\n",
    "followers[\"bucketlistjourney\"] = float(100000)\n",
    "followers[\"mariekondo\"] = float(3000000)\n",
    "followers[\"jamieoliver\"] = float(6700000)\n",
    "followers[\"gypsea_lust\"] = float(2100000)\n",
    "followers[\"kimkardashian\"] = float(138000000)\n",
    "followers[\"tombrady\"] = float(6100000)\n",
    "followers[\"ocasio2018\"] = float(3400000)"
   ]
  },
  {
   "cell_type": "code",
   "execution_count": 4,
   "metadata": {},
   "outputs": [],
   "source": [
    "image_arrays = []\n",
    "for p in paths:\n",
    "    filelist = os.listdir(p)\n",
    "    for file in filelist:\n",
    "        if str(file)[-1] != \"g\":\n",
    "            continue\n",
    "        pic = load_img(p + str(\"/\") + str(file))\n",
    "        arr = img_to_array(pic)\n",
    "        image_arrays.append((p, str(file), arr))"
   ]
  },
  {
   "cell_type": "code",
   "execution_count": 5,
   "metadata": {},
   "outputs": [
    {
     "name": "stdout",
     "output_type": "stream",
     "text": [
      "142\n",
      "81\n",
      "81\n",
      "81\n"
     ]
    }
   ],
   "source": [
    "dataDict = {}\n",
    "for path in paths:\n",
    "    with open(path + str(\"/\") + path + str(\".json\")) as f:\n",
    "        data = json.load(f)\n",
    "    dataDict[path] = data\n",
    "\n",
    "likes = {}\n",
    "final_arr = []\n",
    "likes_array = []\n",
    "for img in image_arrays:\n",
    "    jsonData = dataDict[img[0]]\n",
    "    for i in range(len(jsonData['GraphImages'])):\n",
    "        if img[1] in jsonData['GraphImages'][i][\"display_url\"]:\n",
    "            likes[img[1]] = jsonData['GraphImages'][i][\"edge_media_preview_like\"][\"count\"]/followers[img[0]]\n",
    "            final_arr.append(img)\n",
    "            likes_array.append(jsonData['GraphImages'][i][\"edge_media_preview_like\"][\"count\"]/followers[img[0]])\n",
    "            \n",
    "\n",
    "print(len(image_arrays))\n",
    "print(len(likes))\n",
    "\n",
    "print(len(final_arr))\n",
    "print(len(likes))"
   ]
  },
  {
   "cell_type": "code",
   "execution_count": 6,
   "metadata": {},
   "outputs": [],
   "source": [
    "### Create datasets \n",
    "img_values = []\n",
    "i_height = 32\n",
    "i_width = 32\n",
    "for img in final_arr:\n",
    "    image = np.asarray(img[2])\n",
    "    image = np.divide(image, float(255))\n",
    "    image = skimage.transform.resize(image, (i_height, i_width), anti_aliasing=True, mode='reflect')\n",
    "    img_values.append(image.flatten())"
   ]
  },
  {
   "cell_type": "code",
   "execution_count": 7,
   "metadata": {},
   "outputs": [
    {
     "name": "stdout",
     "output_type": "stream",
     "text": [
      "<class 'numpy.ndarray'>\n",
      "[0.00726273 0.00525697 0.00325788 0.01992364 0.00349242 0.00330152\n",
      " 0.02612818 0.01230455 0.00345818 0.01527    0.01893    0.02101\n",
      " 0.01268    0.01648    0.01537    0.01586    0.0143     0.01516\n",
      " 0.005652   0.09890533 0.00689167 0.02318033 0.01667667 0.00846433\n",
      " 0.018406   0.013795   0.011268   0.02625333 0.00457478 0.00309254\n",
      " 0.00440985 0.00433552 0.00270791 0.00363343 0.02360238 0.02661571\n",
      " 0.02395476 0.02778381 0.01838286 0.03593381 0.02072476 0.02280381\n",
      " 0.02300667 0.03447238 0.01263476 0.01695762 0.00181449 0.01279488\n",
      " 0.02663065 0.01418512 0.0121562  0.02043403 0.02202417 0.0157633\n",
      " 0.01075553 0.04449575 0.02532577 0.03876755 0.00961025 0.01409393\n",
      " 0.0625359  0.11832869 0.05896213 0.09238492 0.08708574 0.03607459\n",
      " 0.05351656 0.05183902 0.0807677  0.06024459 0.07291098 0.06169623\n",
      " 0.07888574 0.06452618 0.14062147 0.21582735 0.08647588 0.09412882\n",
      " 0.03146059 0.06845324 0.24071853]\n",
      "[ 2  1  1  6  1  1  8  4  1  5  6  7  4  5  5  5  4  5  1 32  2  7  5  2\n",
      "  6  4  3  8  1  1  1  1  0  1  7  8  7  9  6 11  6  7  7 11  4  5  0  4\n",
      "  8  4  4  6  7  5  3 14  8 12  3  4 20 39 19 30 29 12 17 17 26 20 24 20\n",
      " 26 21 46 71 28 31 10 22 80]\n"
     ]
    }
   ],
   "source": [
    "# Make y discrete\n",
    "\n",
    "# y = np.asarray(likes)\n",
    "y = np.asarray(likes_array)\n",
    "print(type(y))\n",
    "new_y = np.divide(y, 0.003)\n",
    "print(y)\n",
    "new_y = new_y.astype(int)\n",
    "print(new_y)"
   ]
  },
  {
   "cell_type": "code",
   "execution_count": 19,
   "metadata": {},
   "outputs": [
    {
     "name": "stdout",
     "output_type": "stream",
     "text": [
      "{1: 0.1111111111111111, 2: 0.1111111111111111, 3: 0.1111111111111111, 5: 0.1111111111111111, 7: 0.1111111111111111, 10: 0.1111111111111111, 12: 0.1111111111111111}\n"
     ]
    }
   ],
   "source": [
    "X_train, X_test, y_train, y_test = train_test_split(img_values, new_y, test_size=0.1, random_state=0)\n",
    "\n",
    "k_dict = {}\n",
    "k_choices = [1,2,3,5,7,10,12]\n",
    "for k in k_choices:\n",
    "    knn = KNeighborsClassifier(n_neighbors=k)\n",
    "    knn.fit(X_train, y_train)\n",
    "    k_dict[k] = knn.score(X_test, y_test)\n",
    "\n",
    "print(k_dict)"
   ]
  },
  {
   "cell_type": "code",
   "execution_count": 16,
   "metadata": {},
   "outputs": [],
   "source": [
    "# %matplotlib inline\n",
    "# plt.rcParams['figure.figsize'] = (10.0, 8.0) # set default size of plots\n",
    "# plt.rcParams['image.interpolation'] = 'nearest'\n",
    "# plt.rcParams['image.cmap'] = 'gray'"
   ]
  },
  {
   "cell_type": "code",
   "execution_count": null,
   "metadata": {},
   "outputs": [],
   "source": []
  },
  {
   "cell_type": "code",
   "execution_count": null,
   "metadata": {},
   "outputs": [],
   "source": []
  },
  {
   "cell_type": "code",
   "execution_count": null,
   "metadata": {},
   "outputs": [],
   "source": []
  },
  {
   "cell_type": "code",
   "execution_count": null,
   "metadata": {},
   "outputs": [],
   "source": []
  },
  {
   "cell_type": "code",
   "execution_count": null,
   "metadata": {},
   "outputs": [],
   "source": []
  }
 ],
 "metadata": {
  "kernelspec": {
   "display_name": "Python 2",
   "language": "python",
   "name": "python2"
  },
  "language_info": {
   "codemirror_mode": {
    "name": "ipython",
    "version": 2
   },
   "file_extension": ".py",
   "mimetype": "text/x-python",
   "name": "python",
   "nbconvert_exporter": "python",
   "pygments_lexer": "ipython2",
   "version": "2.7.15"
  }
 },
 "nbformat": 4,
 "nbformat_minor": 2
}
